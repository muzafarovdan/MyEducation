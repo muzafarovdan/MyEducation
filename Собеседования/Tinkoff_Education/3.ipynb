{
 "cells": [
  {
   "cell_type": "code",
   "execution_count": 20,
   "metadata": {},
   "outputs": [
    {
     "name": "stdout",
     "output_type": "stream",
     "text": [
      "4\n"
     ]
    }
   ],
   "source": [
    "n, m = map(int, input().split())\n",
    "array = list(map(int, input().split()))\n",
    "result = []\n",
    "for i in range(1,m+1):\n",
    "    for j in array:\n",
    "        if i >= j:\n",
    "            i = i - j\n",
    "    result.append(i)\n",
    "print(max(result))"
   ]
  }
 ],
 "metadata": {
  "kernelspec": {
   "display_name": "Python 3",
   "language": "python",
   "name": "python3"
  },
  "language_info": {
   "codemirror_mode": {
    "name": "ipython",
    "version": 3
   },
   "file_extension": ".py",
   "mimetype": "text/x-python",
   "name": "python",
   "nbconvert_exporter": "python",
   "pygments_lexer": "ipython3",
   "version": "3.11.4"
  }
 },
 "nbformat": 4,
 "nbformat_minor": 2
}
