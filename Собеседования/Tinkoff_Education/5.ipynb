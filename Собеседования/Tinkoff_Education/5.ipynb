{
 "cells": [
  {
   "cell_type": "code",
   "execution_count": 16,
   "metadata": {},
   "outputs": [
    {
     "name": "stdout",
     "output_type": "stream",
     "text": [
      "1\n",
      "5\n",
      "1\n",
      "7\n"
     ]
    }
   ],
   "source": [
    "n, m, q = map(int, input().split())\n",
    "array = list(map(int, input().split()))\n",
    "\n",
    "dictionary = {}\n",
    "for _ in range(m):\n",
    "    one, two = map(int, input().split())\n",
    "    if one in dictionary:\n",
    "        dictionary[one].add(two)\n",
    "    else:\n",
    "        dictionary[one] = {two}\n",
    "    if two in dictionary:\n",
    "        dictionary[two].add(one)\n",
    "    else:\n",
    "        dictionary[two] = {one}\n",
    "\n",
    "for _ in range(q):\n",
    "    a = input().split()\n",
    "    if a[0] == '?':\n",
    "        new_idx = int(a[1])-1\n",
    "        print(array[new_idx])\n",
    "    elif a[0] == '+':\n",
    "        idx_friends = list(dictionary[int(a[1])])\n",
    "        for i in range(len(idx_friends)):\n",
    "            array[idx_friends[i]-1] += int(a[2])"
   ]
  }
 ],
 "metadata": {
  "kernelspec": {
   "display_name": "Python 3",
   "language": "python",
   "name": "python3"
  },
  "language_info": {
   "codemirror_mode": {
    "name": "ipython",
    "version": 3
   },
   "file_extension": ".py",
   "mimetype": "text/x-python",
   "name": "python",
   "nbconvert_exporter": "python",
   "pygments_lexer": "ipython3",
   "version": "3.11.4"
  }
 },
 "nbformat": 4,
 "nbformat_minor": 2
}
