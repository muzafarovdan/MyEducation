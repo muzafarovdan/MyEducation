{
 "cells": [
  {
   "cell_type": "markdown",
   "metadata": {},
   "source": [
    "даны 2 отсортированных в порядке возрастания списка с целыми числами. Например: \n",
    "[-10, -10,  1, 1, 1, 5, 5, 8, 22] \n",
    "[-20, -10, 8,8,8,22, 22]  \n",
    "нужно разработать алгоритм, который принимает на вход эти два списка, а на выход \n",
    "выдает их сортированное пересечение без дублей. Для примера выше, результат будет: \n",
    "[-10, 8, 22] \n",
    "Ограничения по времени: O(сумма длин списков) \n",
    "Ограничения по памяти: O(1) без учета памяти на результирующий список \n",
    "Ограничения по операциям: нельзя пользоваться set(), dict() \n",
    " \n",
    " \n",
    "def unique_intersection(left: List[int], right: List[int]) -> List[int]: \n",
    "    result = [] \n",
    "    # PLACE FOR YOUR CODE \n",
    "    return result \n",
    "''' \n",
    "ц"
   ]
  },
  {
   "cell_type": "code",
   "execution_count": 14,
   "metadata": {},
   "outputs": [],
   "source": [
    "left = [-10, -10,  1, 1, 1, 5, 5, 8, 22] \n",
    "right = [-20, -10, -10, 8,8,8,22, 22]"
   ]
  },
  {
   "cell_type": "code",
   "execution_count": 15,
   "metadata": {},
   "outputs": [],
   "source": [
    "result = []\n",
    "for i in range(len(left)):\n",
    "    if left[i] in right:\n",
    "        if left[i] not in result:\n",
    "            result.append(left[i])\n",
    "    "
   ]
  },
  {
   "cell_type": "code",
   "execution_count": 16,
   "metadata": {},
   "outputs": [
    {
     "name": "stdout",
     "output_type": "stream",
     "text": [
      "[-10, 8, 22]\n"
     ]
    }
   ],
   "source": [
    "print(result)"
   ]
  }
 ],
 "metadata": {
  "kernelspec": {
   "display_name": "Python 3",
   "language": "python",
   "name": "python3"
  },
  "language_info": {
   "codemirror_mode": {
    "name": "ipython",
    "version": 3
   },
   "file_extension": ".py",
   "mimetype": "text/x-python",
   "name": "python",
   "nbconvert_exporter": "python",
   "pygments_lexer": "ipython3",
   "version": "3.11.4"
  },
  "orig_nbformat": 4
 },
 "nbformat": 4,
 "nbformat_minor": 2
}
