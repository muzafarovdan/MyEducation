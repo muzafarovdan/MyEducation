{
 "cells": [
  {
   "cell_type": "markdown",
   "metadata": {},
   "source": [
    "## 125. Valid Palindrome\n"
   ]
  },
  {
   "cell_type": "code",
   "execution_count": 10,
   "metadata": {},
   "outputs": [
    {
     "name": "stdout",
     "output_type": "stream",
     "text": [
      "False\n"
     ]
    }
   ],
   "source": [
    "s = \"Damosel, a poem? A carol? Or a cameo pale? (So mad!)\"\n",
    "al_num = s.isalnum();\n",
    "print(al_num)"
   ]
  },
  {
   "cell_type": "code",
   "execution_count": 11,
   "metadata": {},
   "outputs": [
    {
     "name": "stdout",
     "output_type": "stream",
     "text": [
      "damosel, a poem? a carol? or a cameo pale? (so mad!)\n"
     ]
    }
   ],
   "source": [
    "new_s = s.lower()\n",
    "print(new_s)\n"
   ]
  },
  {
   "cell_type": "code",
   "execution_count": 12,
   "metadata": {},
   "outputs": [
    {
     "name": "stdout",
     "output_type": "stream",
     "text": [
      "damosel,apoem?acarol?oracameopale?(somad!)\n"
     ]
    },
    {
     "data": {
      "text/plain": [
       "'damosel,apoem?acarol?oracameopale?(somad!)'"
      ]
     },
     "execution_count": 12,
     "metadata": {},
     "output_type": "execute_result"
    }
   ],
   "source": [
    "new_s=\"\".join(new_s.split())\n",
    "print(new_s)\n",
    "new_s"
   ]
  },
  {
   "cell_type": "code",
   "execution_count": 13,
   "metadata": {},
   "outputs": [
    {
     "name": "stdout",
     "output_type": "stream",
     "text": [
      "range(0, 42)\n"
     ]
    }
   ],
   "source": [
    "a = range(len(new_s))\n",
    "print(a)"
   ]
  },
  {
   "cell_type": "code",
   "execution_count": 6,
   "metadata": {},
   "outputs": [
    {
     "data": {
      "text/plain": [
       "str"
      ]
     },
     "execution_count": 6,
     "metadata": {},
     "output_type": "execute_result"
    }
   ],
   "source": [
    "type(new_s)"
   ]
  },
  {
   "cell_type": "code",
   "execution_count": 7,
   "metadata": {},
   "outputs": [
    {
     "name": "stdout",
     "output_type": "stream",
     "text": [
      "Timeweb cloud\n"
     ]
    }
   ],
   "source": [
    "my_string = \"1Timeweb 0cloud\"\n",
    "result_string = \"\"\n",
    "index = [\"0\",\"1\"]\n",
    "\n",
    "for i in my_string:\n",
    "   if i not in index:\n",
    "       result_string += i\n",
    "\n",
    "print(result_string)"
   ]
  },
  {
   "cell_type": "code",
   "execution_count": 15,
   "metadata": {},
   "outputs": [
    {
     "name": "stdout",
     "output_type": "stream",
     "text": [
      "damoselapoemacaroloracameopalesomad\n"
     ]
    }
   ],
   "source": [
    "index = [\".\",\",\",\"!\",\"?\",\":\",\"@\",\"#\",\"_\",\"[\",\"]\",\"{\",\"}\",\n",
    "         \"/\",\"\\'\", '\\\"','\\\\',\"-\",\";\",\":\",\"(\",\")\",\"`\",]\n",
    "result = \"\"\n",
    "for i in new_s:\n",
    "    if i not in index:\n",
    "        result += i\n",
    "        \n",
    "print(result)"
   ]
  },
  {
   "cell_type": "code",
   "execution_count": 113,
   "metadata": {},
   "outputs": [
    {
     "name": "stdout",
     "output_type": "stream",
     "text": [
      "False\n"
     ]
    }
   ],
   "source": [
    "if result == result[::-1]:\n",
    "    print(True)\n",
    "else:\n",
    "    print(False)"
   ]
  },
  {
   "cell_type": "markdown",
   "metadata": {},
   "source": [
<<<<<<< HEAD
    "## Best Solution"
=======
    "test"
>>>>>>> eab5e0fce8cfb09ffd47c6b108edfedc8d7a9208
   ]
  },
  {
   "cell_type": "code",
<<<<<<< HEAD
   "execution_count": 197,
   "metadata": {},
   "outputs": [
    {
     "name": "stdout",
     "output_type": "stream",
     "text": [
      "['a', 'm', 'a', 'n', 'a', 'p', 'l', 'a', 'n', 'a', 'c', 'a', 'n', 'a', 'l', 'p', 'a', 'n', 'a', 'm']\n",
      "False\n",
      "CPU times: user 369 µs, sys: 96 µs, total: 465 µs\n",
      "Wall time: 450 µs\n"
     ]
    }
   ],
   "source": [
    "%%time\n",
    "class Solution:\n",
    "    def isPalindrome(self, s: str) -> bool:\n",
    "        s = [c.lower() for c in s if c.isalnum()]\n",
    "        print(s)\n",
    "        #это генератор - квадратные скобки\n",
    "        return all (s[i] == s[~i] for i in range(len(s)//2))\n",
    "        #это итератор - круглые скобки\n",
    "\n",
    "\n",
    "print(Solution.isPalindrome(Solution, s))"
=======
   "execution_count": null,
   "metadata": {},
   "outputs": [],
   "source": [
    "dfg\n",
    "edgferfg"
>>>>>>> eab5e0fce8cfb09ffd47c6b108edfedc8d7a9208
   ]
  },
  {
   "cell_type": "code",
<<<<<<< HEAD
   "execution_count": 205,
   "metadata": {},
   "outputs": [
    {
     "name": "stdout",
     "output_type": "stream",
     "text": [
      "['a', 'm', 'a', 'n', 'a', 'p', 'l', 'a', 'n', 'a', 'c', 'a', 'n', 'a', 'l', 'p', 'a', 'n', 'a', 'm', 'a']\n",
      "[True, True, True, True, True, True, True, True, True, True, True, True, True, True, True, True, True, True, True, True, True]\n",
      "CPU times: user 488 µs, sys: 155 µs, total: 643 µs\n",
      "Wall time: 621 µs\n"
     ]
    }
   ],
   "source": [
    "%%time\n",
    "class Solution:\n",
    "    def isPalindrome(self, s: str) -> bool:\n",
    "        s = [c.lower() for c in s if c.isalnum()]\n",
    "        print(s)\n",
    "        #это генератор - квадратные скобки\n",
    "        return [s[i] == s[~i] for i in range(len(s))]\n",
    "        #это итератор - круглые скобки\n",
    "\n",
    "\n",
    "print(Solution.isPalindrome(Solution, s))"
   ]
  },
  {
   "cell_type": "code",
   "execution_count": 176,
   "metadata": {},
   "outputs": [
    {
     "data": {
      "text/plain": [
       "<method-wrapper '__getattribute__' of str object at 0x107c64ee0>"
      ]
     },
     "execution_count": 176,
     "metadata": {},
     "output_type": "execute_result"
    }
   ],
   "source": [
    "# a = (c.lower() for c in s if c.isalnum())\n"
   ]
  },
  {
   "cell_type": "code",
   "execution_count": 95,
   "metadata": {},
   "outputs": [
    {
     "name": "stdout",
     "output_type": "stream",
     "text": [
      "без тильды; а\n",
      " c тильдой; д\n"
     ]
    }
   ],
   "source": [
    "r = 'абвгд'\n",
    "index = 0\n",
    "print('без тильды;', r[index])\n",
    "print(' c тильдой;', r[~index] == r])"
=======
   "execution_count": null,
   "metadata": {},
   "outputs": [],
   "source": [
    "huiSDGSD"
>>>>>>> eab5e0fce8cfb09ffd47c6b108edfedc8d7a9208
   ]
  }
 ],
 "metadata": {
  "kernelspec": {
   "display_name": "Python 3",
   "language": "python",
   "name": "python3"
  },
  "language_info": {
   "codemirror_mode": {
    "name": "ipython",
    "version": 3
   },
   "file_extension": ".py",
   "mimetype": "text/x-python",
   "name": "python",
   "nbconvert_exporter": "python",
   "pygments_lexer": "ipython3",
   "version": "3.9.6"
  },
  "orig_nbformat": 4
 },
 "nbformat": 4,
 "nbformat_minor": 2
}
