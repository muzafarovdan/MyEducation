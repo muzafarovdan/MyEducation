{
 "cells": [
  {
   "cell_type": "markdown",
   "metadata": {},
   "source": [
    "## 21. Merge Two Sorted Lists"
   ]
  },
  {
   "cell_type": "code",
   "execution_count": 6,
   "metadata": {},
   "outputs": [],
   "source": [
    "list1 = [1,2,4]\n",
    "list2 = [1,3,4]"
   ]
  },
  {
   "cell_type": "code",
   "execution_count": null,
   "metadata": {},
   "outputs": [],
   "source": [
    "dummy = ListNode()\n",
    "tail = dummy\n",
    "\n",
    "while list1 and list2:\n",
    "    if list1.val < list2.val:\n",
    "        tail.next = list1\n",
    "        list1 = list1.next\n",
    "    else:\n",
    "        tail.next = list2\n",
    "        list2 = list2.next\n",
    "    tail = tail.next\n",
    "if list1:\n",
    "    tail.next = list1\n",
    "elif list2:\n",
    "    tail.next = list2\n",
    "return dummy.next"
   ]
  },
  {
   "cell_type": "markdown",
   "metadata": {},
   "source": [
    "## Best Solution"
   ]
  },
  {
   "cell_type": "markdown",
   "metadata": {},
   "source": [
    "https://www.youtube.com/watch?v=E5XXiY6QnAs"
   ]
  },
  {
   "cell_type": "code",
   "execution_count": null,
   "metadata": {},
   "outputs": [],
   "source": [
    "class Solution(object):\n",
    "    def mergeTwoLists(self, list1, list2):\n",
    "        head = ListNode()\n",
    "        current = head\n",
    "        while list1 and list2: # пока первые элементы (далее последующие) лист1 и лист2 оба не пустые\n",
    "            if list1.val < list2.val:   # если значение элемента лист1 меньше элемента лист2\n",
    "                current.next = list1    # то мы записываем в новый лист current это значение\n",
    "                list1 = list1.next      # после записи переходим к рассмотрению следющего элемента списка лист1\n",
    "            else:\n",
    "                current.next = list2\n",
    "                list2 = list2.next\n",
    "            current = current.next\n",
    "\n",
    "        current.next = list1 or list2   # если закончился один из списков, то переходим сюда и добиваем итоговый список current оставшимся\n",
    "        return head.next                # list1 или list2"
   ]
  }
 ],
 "metadata": {
  "kernelspec": {
   "display_name": "Python 3",
   "language": "python",
   "name": "python3"
  },
  "language_info": {
   "codemirror_mode": {
    "name": "ipython",
    "version": 3
   },
   "file_extension": ".py",
   "mimetype": "text/x-python",
   "name": "python",
   "nbconvert_exporter": "python",
   "pygments_lexer": "ipython3",
   "version": "3.11.4"
  },
  "orig_nbformat": 4
 },
 "nbformat": 4,
 "nbformat_minor": 2
}
