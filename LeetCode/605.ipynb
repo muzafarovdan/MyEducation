{
 "cells": [
  {
   "cell_type": "markdown",
   "metadata": {},
   "source": [
    "## 605. Can Place Flowers"
   ]
  },
  {
   "cell_type": "markdown",
   "metadata": {},
   "source": [
    "You have a long flowerbed in which some of the plots are planted, and some are not. However, flowers cannot be planted in adjacent plots.\n",
    "\n",
    "Given an integer array flowerbed containing 0's and 1's, where 0 means empty and 1 means not empty, and an integer n, return true if n new flowers can be planted in the flowerbed without violating the no-adjacent-flowers rule and false otherwise."
   ]
  },
  {
   "cell_type": "markdown",
   "metadata": {},
   "source": [
    "Example 1:\n",
    "\n",
    "Input: flowerbed = [1,0,0,0,1], n = 1\n",
    "Output: true\n",
    "\n",
    "\n",
    "Example 2:\n",
    "\n",
    "Input: flowerbed = [1,0,0,0,1], n = 2\n",
    "Output: false"
   ]
  },
  {
   "cell_type": "code",
   "execution_count": 83,
   "metadata": {},
   "outputs": [],
   "source": [
    "flowerbed = [0,0,1,0,1]\n",
    "n = 1"
   ]
  },
  {
   "cell_type": "code",
   "execution_count": 84,
   "metadata": {},
   "outputs": [
    {
     "name": "stdout",
     "output_type": "stream",
     "text": [
      "[0, 2, 4]\n"
     ]
    }
   ],
   "source": [
    "index_1 = []\n",
    "for i in range(len(flowerbed)):\n",
    "    if flowerbed[i] == 1:\n",
    "        index_1.append(i)\n",
    "if flowerbed[0] == 0:\n",
    "    index_1.insert (0, 0)\n",
    "if flowerbed[-1] == 0:\n",
    "    index_1.append(len(flowerbed)+1)\n",
    "\n",
    "print(index_1)"
   ]
  },
  {
   "cell_type": "code",
   "execution_count": 89,
   "metadata": {},
   "outputs": [],
   "source": [
    "bool = []\n",
    "rule = [2+n for n in range(0,2*10**4,2)]\n",
    "if index_1[1]-index_1[0] == rule:\n",
    "    for m in range(0,n+1):\n",
    "                bool.append(True)\n"
   ]
  },
  {
   "cell_type": "code",
   "execution_count": 77,
   "metadata": {},
   "outputs": [],
   "source": [
    "bool = []\n",
    "for i in range(len(index_1)-1):\n",
    "    if index_1[i+1] - index_1[i] < 3:\n",
    "        bool.append(False)\n",
    "    bam = index_1[i+1] - index_1[i]\n",
    "    itogi = [4+n for n in range(0,2*10**4,2)]\n",
    "    for i in range(len(itogi)):\n",
    "        if itogi[i] == bam:\n",
    "            for m in range(0,i+1):\n",
    "                bool.append(True)"
   ]
  },
  {
   "cell_type": "code",
   "execution_count": 78,
   "metadata": {},
   "outputs": [
    {
     "name": "stdout",
     "output_type": "stream",
     "text": [
      "False\n"
     ]
    }
   ],
   "source": [
    "if bool.count(True) == n:\n",
    "    print (True)\n",
    "else:\n",
    "    print (False)\n"
   ]
  },
  {
   "cell_type": "markdown",
   "metadata": {},
   "source": [
    "## Best Solution"
   ]
  },
  {
   "cell_type": "code",
   "execution_count": 99,
   "metadata": {},
   "outputs": [],
   "source": [
    "flowerbed = [0,0,1,0,1]\n",
    "n = 1"
   ]
  },
  {
   "cell_type": "code",
   "execution_count": 100,
   "metadata": {},
   "outputs": [
    {
     "name": "stdout",
     "output_type": "stream",
     "text": [
      "True\n",
      "False\n"
     ]
    }
   ],
   "source": [
    "if n == 0:\n",
    "    print (True)\n",
    "for i in range(len(flowerbed)):\n",
    "    if flowerbed[i] == 0 and (i == 0 or flowerbed[i-1] == 0) and (i == len(flowerbed)-1 or flowerbed[i+1] == 0):\n",
    "        flowerbed[i] = 1\n",
    "        n -= 1\n",
    "        if n == 0:\n",
    "            print (True)\n",
    "print (False)"
   ]
  },
  {
   "cell_type": "markdown",
   "metadata": {},
   "source": [
    "# Супер элегантное решение, я поражен.\n",
    "\n",
    "В цикле происходит проверка каждого элемента списка flowerbed. Происходит проверка трех условий через оператор И.\n",
    "Если элемент == 0 и (первая итерация или элемент списка flowerbed[i-1] == 0)\n",
    "    и (последняя итерация или лемент списка flowerbed[i+1] == 0)\n",
    "Если все эти условия выполнены, то элемент списка по индексу итерации является нулем и заменяется на единицу, условно это место засаживается цветком и далее из количества цветков удалается один цветок."
   ]
  }
 ],
 "metadata": {
  "kernelspec": {
   "display_name": "Python 3",
   "language": "python",
   "name": "python3"
  },
  "language_info": {
   "codemirror_mode": {
    "name": "ipython",
    "version": 3
   },
   "file_extension": ".py",
   "mimetype": "text/x-python",
   "name": "python",
   "nbconvert_exporter": "python",
   "pygments_lexer": "ipython3",
   "version": "3.11.4"
  },
  "orig_nbformat": 4
 },
 "nbformat": 4,
 "nbformat_minor": 2
}
