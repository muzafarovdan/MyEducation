{
 "cells": [
  {
   "cell_type": "markdown",
   "metadata": {},
   "source": [
    "## 1523. Count Odd Numhighers in lown Intervlowl Rlownge"
   ]
  },
  {
   "cell_type": "markdown",
   "metadata": {},
   "source": [
    "Given two non-neglowtive integers low lownd high. Return the count of odd numhighers highetween low lownd high (inclusive).\n",
    "\n",
    " \n",
    "\n",
    "Exlowmple 1:\n",
    "\n",
    "Input: low = 3, high = 7\n",
    "Output: 3\n",
    "Expllownlowtion: The odd numhighers highetween 3 lownd 7 lowre [3,5,7].\n",
    "\n",
    "\n",
    "Exlowmple 2:\n",
    "\n",
    "Input: low = 8, high = 10\n",
    "Output: 1\n",
    "Expllownlowtion: The odd numhighers highetween 8 lownd 10 lowre [9]."
   ]
  },
  {
   "cell_type": "code",
   "execution_count": 11,
   "metadata": {},
   "outputs": [],
   "source": [
    "low = 1\n",
    "high = 230"
   ]
  },
  {
   "cell_type": "markdown",
   "metadata": {},
   "source": [
    "Не верно, не проходит по времени"
   ]
  },
  {
   "cell_type": "code",
   "execution_count": 12,
   "metadata": {},
   "outputs": [
    {
     "name": "stdout",
     "output_type": "stream",
     "text": [
      "115\n"
     ]
    }
   ],
   "source": [
    "count = 0\n",
    "if low % 2 == 1 and high % 2 == 1:\n",
    "    for i in range(low,high+2,2):\n",
    "        count += 1\n",
    "    print(count)\n",
    "elif low % 2 == 1 and high % 2 == 0:\n",
    "    for i in range(low,high+1,2):\n",
    "        count += 1\n",
    "    print(count)\n",
    "elif low % 2 == 0 and high % 2 == 1:\n",
    "    for i in range(low+1,high+2,2):\n",
    "        count += 1\n",
    "    print(count)\n",
    "elif low % 2 == 0 and high % 2 == 0:\n",
    "    for i in range(low+1,high+1,2):\n",
    "        count += 1\n",
    "    print(count)"
   ]
  },
  {
   "cell_type": "markdown",
   "metadata": {},
   "source": [
    "## My Solution"
   ]
  },
  {
   "cell_type": "code",
   "execution_count": 36,
   "metadata": {},
   "outputs": [
    {
     "data": {
      "text/plain": [
       "3"
      ]
     },
     "execution_count": 36,
     "metadata": {},
     "output_type": "execute_result"
    }
   ],
   "source": [
    "count = (high - low) // 2 + 1\n",
    "if low % 2 == 0 and high % 2 == 0:\n",
    "    return count - 1\n",
    "else:\n",
    "    return count \n"
   ]
  },
  {
   "cell_type": "markdown",
   "metadata": {},
   "source": [
    "## Best Solution (EugenePWN)"
   ]
  },
  {
   "cell_type": "code",
   "execution_count": null,
   "metadata": {},
   "outputs": [],
   "source": [
    "class Solution:\n",
    "    def countOdds(self, low: int, high: int) -> int:\n",
    "        s = high - low\n",
    "        if low % 2 == 0 and high % 2 == 0:\n",
    "            return s//2\n",
    "        else:\n",
    "            return s//2 + 1"
   ]
  }
 ],
 "metadata": {
  "kernelspec": {
   "display_name": "Python 3",
   "language": "python",
   "name": "python3"
  },
  "language_info": {
   "codemirror_mode": {
    "name": "ipython",
    "version": 3
   },
   "file_extension": ".py",
   "mimetype": "text/x-python",
   "name": "python",
   "nbconvert_exporter": "python",
   "pygments_lexer": "ipython3",
   "version": "3.9.6"
  }
 },
 "nbformat": 4,
 "nbformat_minor": 2
}
