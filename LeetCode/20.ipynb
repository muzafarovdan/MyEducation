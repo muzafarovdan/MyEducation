{
 "cells": [
  {
   "cell_type": "markdown",
   "metadata": {},
   "source": [
    "## 20. Valid Parentheses\n"
   ]
  },
  {
   "cell_type": "markdown",
   "metadata": {},
   "source": [
    "Given a string s containing just the characters '(', ')', '{', '}', '[' and ']', determine if the input string is valid.\n",
    "\n",
    "An input string is valid if:\n",
    "\n",
    "Open brackets must be closed by the same type of brackets.\n",
    "Open brackets must be closed in the correct order.\n",
    "Every close bracket has a corresponding open bracket of the same type."
   ]
  },
  {
   "cell_type": "code",
   "execution_count": 116,
   "metadata": {},
   "outputs": [],
   "source": [
    "s = \"[()[]]]]\""
   ]
  },
  {
   "cell_type": "code",
   "execution_count": 117,
   "metadata": {},
   "outputs": [
    {
     "name": "stdout",
     "output_type": "stream",
     "text": [
      "False\n",
      "False\n",
      "True\n"
     ]
    }
   ],
   "source": [
    "stack = [] # Стек для добавления и удаления символов\n",
    "pairs = {     \n",
    "    '(': ')',\n",
    "    '{': '}',\n",
    "    '[': ']'\n",
    "} \n",
    "for bracket in s:\n",
    "    if bracket in pairs: # если открытая скобка из словаря, то\n",
    "        stack.append(bracket) # символ скобки добавляется в стек\n",
    "    elif len(stack) == 0 or bracket != pairs[stack.pop()]: #если в стеке нет ничего или символ не равен з\n",
    "        print(False)\n",
    "\n",
    "if len(stack) == 0:\n",
    "    print(True)"
   ]
  },
  {
   "cell_type": "code",
   "execution_count": 106,
   "metadata": {},
   "outputs": [
    {
     "name": "stdout",
     "output_type": "stream",
     "text": [
      "True\n"
     ]
    }
   ],
   "source": [
    "item = []\n",
    "if len(s)<1:\n",
    "    return False\n",
    "if s[0] == [']',')','}']\n",
    "    return False\n",
    "for i in s:\n",
    "    if i == '[':\n",
    "        item.append('[')\n",
    "    if i == '{':\n",
    "        item.append('{')\n",
    "    if i == '(':\n",
    "        item.append('(')\n",
    "    if i == ']':\n",
    "        if item[-1] == '[':\n",
    "            item.pop()\n",
    "    if i == '}':\n",
    "        if item[-1] == '{':\n",
    "            item.pop()\n",
    "    if i == ')':\n",
    "        if item[-1] == '(':\n",
    "            item.pop()\n",
    "\n",
    "if item == []:\n",
    "    print(True)\n",
    "else: \n",
    "    print (False)"
   ]
  },
  {
   "cell_type": "code",
   "execution_count": null,
   "metadata": {},
   "outputs": [],
   "source": [
    "if len(s)<2:\n",
    "            return False\n",
    "        if s[0] == ']':\n",
    "            return False\n",
    "        if s[0] == ')':\n",
    "            return False \n",
    "        if s[0] == '}':\n",
    "            return False\n",
    "        if s[-1] == '[':\n",
    "            return False\n",
    "        if s[-1] == '(':\n",
    "            return False \n",
    "        if s[-1] == '{':\n",
    "            return False  \n",
    "        item = []\n",
    "        for i in s:\n",
    "            if i == '[':\n",
    "                item.append('[')\n",
    "            if i == '{':\n",
    "                item.append('{')\n",
    "            if i == '(':\n",
    "                item.append('(')\n",
    "            if i == ']':\n",
    "                if item[-1] == '[':\n",
    "                    item.pop()\n",
    "                else:\n",
    "                    return False\n",
    "            if i == '}':\n",
    "                if item[-1] == '{':\n",
    "                    item.pop()\n",
    "                else:\n",
    "                    return False\n",
    "            if i == ')':\n",
    "                if item[-1] == '(':\n",
    "                    item.pop()\n",
    "                else:\n",
    "                    return False\n",
    "\n",
    "        if item == []:\n",
    "            return True\n",
    "        else: \n",
    "            return False"
   ]
  },
  {
   "cell_type": "markdown",
   "metadata": {},
   "source": [
    "## Best Solution"
   ]
  },
  {
   "cell_type": "code",
   "execution_count": null,
   "metadata": {},
   "outputs": [],
   "source": [
    "class Solution(object):\n",
    "    def isValid(self, s):\n",
    "        stack = [] # Стек для добавления и удаления символов\n",
    "        pairs = {     # Словарь\n",
    "            '(': ')',\n",
    "            '{': '}',\n",
    "            '[': ']'\n",
    "        } \n",
    "        for bracket in s:\n",
    "            if bracket in pairs: # если открытая скобка из словаря, то\n",
    "                stack.append(bracket) # символ скобки добавляется в стек\n",
    "            elif len(stack) == 0 or bracket != pairs[stack.pop()]: #если в стеке нет ничего или символ не равен з\n",
    "                return False\n",
    "\n",
    "        return len(stack) == 0"
   ]
  }
 ],
 "metadata": {
  "kernelspec": {
   "display_name": "Python 3",
   "language": "python",
   "name": "python3"
  },
  "language_info": {
   "codemirror_mode": {
    "name": "ipython",
    "version": 3
   },
   "file_extension": ".py",
   "mimetype": "text/x-python",
   "name": "python",
   "nbconvert_exporter": "python",
   "pygments_lexer": "ipython3",
   "version": "3.11.4"
  },
  "orig_nbformat": 4
 },
 "nbformat": 4,
 "nbformat_minor": 2
}
