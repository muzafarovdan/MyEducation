{
 "cells": [
  {
   "cell_type": "markdown",
   "metadata": {},
   "source": [
    "## 231. Power of Two\n"
   ]
  },
  {
   "cell_type": "code",
   "execution_count": 19,
   "metadata": {},
   "outputs": [],
   "source": [
    "list = [2**n for n in range(32)]\n",
    "for i in list:\n",
    "    if i == n:\n",
    "        return True\n",
    "return False\n"
   ]
  },
  {
   "cell_type": "code",
   "execution_count": 20,
   "metadata": {},
   "outputs": [
    {
     "name": "stdout",
     "output_type": "stream",
     "text": [
      "[1, 2, 4, 8, 16, 32, 64, 128, 256, 512, 1024, 2048, 4096, 8192, 16384, 32768, 65536, 131072, 262144, 524288, 1048576, 2097152, 4194304, 8388608, 16777216, 33554432, 67108864, 134217728, 268435456, 536870912, 1073741824, 2147483648]\n"
     ]
    }
   ],
   "source": [
    "print(list)"
   ]
  },
  {
   "cell_type": "markdown",
   "metadata": {},
   "source": [
    "## Best Solution"
   ]
  },
  {
   "cell_type": "code",
   "execution_count": null,
   "metadata": {},
   "outputs": [],
   "source": [
    "class Solution:\n",
    "    def isPowerOfTwo(self, n: int) -> bool:\n",
    "        return n > 0 and n & (n - 1) == 0\n",
    "    \n",
    "    #использует хитрый способ, переменная n рассматривается как двоичное число\n",
    "    #предположим, что n - это степень двойки, она будет иметь 1 только в самом \n",
    "    # значащем бите, а все остальные равны 0. Число n-1 будет иметь на 1 цифру\n",
    "    # меньше n.\n",
    "    # Итак, если мы выполним операцию с n и n-1, \n",
    "    # мы получим ответ в виде 0, поскольку единственная цифра \n",
    "    # в n, которая равна 1, будет дополнена 0."
   ]
  },
  {
   "cell_type": "markdown",
   "metadata": {},
   "source": [
    "## Очевидное решение"
   ]
  },
  {
   "cell_type": "code",
   "execution_count": null,
   "metadata": {},
   "outputs": [],
   "source": [
    "#Первая мысль заключается в том, чтобы просто продолжать \n",
    "#делить число на 2 до тех пор, пока мы не сможем, и проверить,\n",
    "# равно ли число 1. Если последнее число равно 1, верните True,\n",
    "# в противном случае false. Это требует O (logn) временных затрат."
   ]
  }
 ],
 "metadata": {
  "kernelspec": {
   "display_name": "Python 3",
   "language": "python",
   "name": "python3"
  },
  "language_info": {
   "codemirror_mode": {
    "name": "ipython",
    "version": 3
   },
   "file_extension": ".py",
   "mimetype": "text/x-python",
   "name": "python",
   "nbconvert_exporter": "python",
   "pygments_lexer": "ipython3",
   "version": "3.11.4"
  },
  "orig_nbformat": 4
 },
 "nbformat": 4,
 "nbformat_minor": 2
}
