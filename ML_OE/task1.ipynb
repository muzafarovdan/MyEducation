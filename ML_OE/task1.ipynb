{
 "cells": [
  {
   "cell_type": "code",
   "execution_count": 2,
   "id": "initial_id",
   "metadata": {
    "ExecuteTime": {
     "end_time": "2023-11-20T13:32:05.387151500Z",
     "start_time": "2023-11-20T13:32:05.382635400Z"
    },
    "collapsed": true
   },
   "outputs": [],
   "source": [
    "import numpy as np"
   ]
  },
  {
   "cell_type": "code",
   "execution_count": 3,
   "id": "285cb1419266310d",
   "metadata": {
    "ExecuteTime": {
     "end_time": "2023-11-20T13:32:43.618913800Z",
     "start_time": "2023-11-20T13:32:43.612988800Z"
    },
    "collapsed": false
   },
   "outputs": [],
   "source": [
    "gamma = 0.8 # Коэффициент дисконтирования\n",
    "\n",
    "# Политики для соотвествующих состояний\n",
    "Pi1 = np.array([[0.6, 0.4]])\n",
    "Pi2 = np.array([[1.0]])\n",
    "Pi3 = np.array([[0.6, 0.4]])\n",
    "Pi4 = np.array([[1.0]])\n",
    "Pi = [Pi1, Pi2, Pi3, Pi4]\n",
    "\n",
    "# Вероятности перехода в новые состояния\n",
    "P1 = np.array([[0, 0.1, 0.1, 0.8], [0, 0, 1, 0]])\n",
    "P2 = np.array([[1.0, 0, 0, 0]])\n",
    "P3 = np.array([[1.0, 0, 0, 0], [0, 0, 0.2, 0.8]])\n",
    "P4 = np.array([[0.6, 0.4, 0, 0]])\n",
    "P = [P1, P2, P3, P4]\n",
    "\n",
    "# Награды\n",
    "R1 = np.array([[0, 2.0, 3.0, -1], [0, 0, 4.0, 0]])\n",
    "R2 = np.array([[3.0, 0, 0, 0]])\n",
    "R3 = np.array([[-3.0, 0, 0, 0], [0, 0, 1.0, 6.0]])\n",
    "R4 = np.array([[5.0, -3.0, 0, 0]])\n",
    "R = [R1, R2, R3, R4]"
   ]
  },
  {
   "cell_type": "code",
   "execution_count": 4,
   "id": "851b7959ffa4d312",
   "metadata": {
    "ExecuteTime": {
     "end_time": "2023-11-20T13:32:40.132477400Z",
     "start_time": "2023-11-20T13:32:40.116140600Z"
    },
    "collapsed": false
   },
   "outputs": [],
   "source": [
    "def Bellman(Pi: np.ndarray, P: np.ndarray, R: np.ndarray, gamma: float, v: np.ndarray) -> float:\n",
    "    \"\"\"\n",
    "    Формула Беллмана для расчета ценности состояния\n",
    "    :param Pi: Политика в заданном состоянии\n",
    "    :param P: Вероятности перехода в новые состояния\n",
    "    :param R: Награды\n",
    "    :param gamma: Коэффициент дисконтирования\n",
    "    :param v: Ценности новых состояний\n",
    "    :return: новая ценность заданного состояния\n",
    "    \"\"\"\n",
    "    y = np.array([gamma for i in range(Pi.shape[1])]).reshape(1,-1).transpose() # Создание диагональной матрицы с коэффициентами\n",
    "    return np.sum(Pi.dot(P*(R + y.dot(v)))) "
   ]
  },
  {
   "cell_type": "code",
   "execution_count": 5,
   "id": "9ecf5b61c10de84",
   "metadata": {
    "ExecuteTime": {
     "end_time": "2023-11-20T13:36:22.846412Z",
     "start_time": "2023-11-20T13:36:22.575553200Z"
    },
    "collapsed": false
   },
   "outputs": [
    {
     "name": "stdout",
     "output_type": "stream",
     "text": [
      "[[7.16100136 8.72880108 6.08235885 8.030497  ]]\n",
      "s1: 7.161\n",
      "s2: 8.729\n",
      "s3: 6.082\n",
      "s4: 8.030\n"
     ]
    }
   ],
   "source": [
    "v = np.zeros((1,4)) # Ценности состояний\n",
    "k = 0 # Номер итерации\n",
    "max_diff =0 # Максимальная разница с предыдущим состоянием\n",
    "\n",
    "while True:\n",
    "    delta = 0.0\n",
    "    for i in range(4): # Проход по всем 4 состояниям\n",
    "        v_cur = v[0][i]\n",
    "        v[0][i] = Bellman(Pi[i], P[i], R[i], gamma, v)\n",
    "        delta = np.max([delta, np.absolute(v_cur - v[0][i])]) # Расчет максимальной разницы на текущей итерации\n",
    "    \n",
    "    k += 1\n",
    "    if k == 1:\n",
    "        max_diff = delta\n",
    "    \n",
    "    if delta >= gamma**k/(1-gamma)*max_diff: # Формула выведена из интервала, указанного в лекции\n",
    "        break\n",
    "\n",
    "print(v)\n",
    "for i, s in enumerate(v[0]):\n",
    "    print(\"s{:d}: {:0.3f}\".format(i+1, s))"
   ]
  }
 ],
 "metadata": {
  "kernelspec": {
   "display_name": "Python 3",
   "language": "python",
   "name": "python3"
  },
  "language_info": {
   "codemirror_mode": {
    "name": "ipython",
    "version": 3
   },
   "file_extension": ".py",
   "mimetype": "text/x-python",
   "name": "python",
   "nbconvert_exporter": "python",
   "pygments_lexer": "ipython3",
   "version": "3.10.13"
  }
 },
 "nbformat": 4,
 "nbformat_minor": 5
}
