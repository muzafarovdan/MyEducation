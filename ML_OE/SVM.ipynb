{
  "cells": [
    {
      "cell_type": "markdown",
      "metadata": {
        "id": "x301k4lQYICQ"
      },
      "source": [
        "# Распознавание лиц при помощи SVM и kernel trick"
      ]
    },
    {
      "cell_type": "code",
      "execution_count": 292,
      "metadata": {},
      "outputs": [],
      "source": [
        "import numpy as np \n",
        "import pandas as pd\n",
        "import matplotlib.pyplot as plt\n",
        "import seaborn as sns\n",
        "from sklearn.linear_model import LogisticRegression\n",
        "from sklearn.metrics import f1_score\n",
        "from sklearn.metrics import classification_report\n",
        "from sklearn.model_selection import train_test_split\n",
        "from sklearn.model_selection import GridSearchCV\n",
        "from sklearn.feature_selection import SelectKBest, f_classif\n",
        "from sklearn.svm import SVC\n",
        "from sklearn.metrics.pairwise import cosine_similarity"
      ]
    },
    {
      "cell_type": "markdown",
      "metadata": {
        "id": "9B7p1Wl_Ai3R"
      },
      "source": [
        "# Описание набора данных"
      ]
    },
    {
      "cell_type": "markdown",
      "metadata": {
        "id": "bWycMPiv1cuh"
      },
      "source": [
        "В этом задании вам предлагается построить классификатор, обученный на изображениях лиц. Сначала загрузим необходимый набор данных и посмотрим, что он из себя представляет. \n",
        "\n",
        "Таблица содержит \"распрямленные\" представления изображений лиц людей.\n",
        "\n",
        "Изначально каждое изображение — матрица размера $62 \\times 47$, значения которой, предположительно, нормированы к диапазону $[0, 1]$ из диапазона $[0, 255] \\cap \\mathbb Z$. Сами значения отвечают за интенсивность пикселя: чем значение больше, тем пиксель светлее.\n",
        "\n",
        "Обратите внимание, из картинки (или, что то же самое, матрицы) размера $62 \\times 47$ получился вектор длины $2914 = 62 \\cdot 47$.\n",
        "\n",
        "Колонка <code>label</code> отвечает за имя человека, изображенного на картинке."
      ]
    },
    {
      "cell_type": "code",
      "execution_count": 236,
      "metadata": {
        "colab": {
          "base_uri": "https://localhost:8080/",
          "height": 382
        },
        "id": "PIn4KHeTYfCb",
        "outputId": "72cfba0e-abe5-4a61-e31b-b928f8ef784f"
      },
      "outputs": [
        {
          "data": {
            "text/html": [
              "<div>\n",
              "<style scoped>\n",
              "    .dataframe tbody tr th:only-of-type {\n",
              "        vertical-align: middle;\n",
              "    }\n",
              "\n",
              "    .dataframe tbody tr th {\n",
              "        vertical-align: top;\n",
              "    }\n",
              "\n",
              "    .dataframe thead th {\n",
              "        text-align: right;\n",
              "    }\n",
              "</style>\n",
              "<table border=\"1\" class=\"dataframe\">\n",
              "  <thead>\n",
              "    <tr style=\"text-align: right;\">\n",
              "      <th></th>\n",
              "      <th>0</th>\n",
              "      <th>1</th>\n",
              "      <th>2</th>\n",
              "      <th>3</th>\n",
              "      <th>4</th>\n",
              "      <th>5</th>\n",
              "      <th>6</th>\n",
              "      <th>7</th>\n",
              "      <th>8</th>\n",
              "      <th>9</th>\n",
              "      <th>...</th>\n",
              "      <th>2905</th>\n",
              "      <th>2906</th>\n",
              "      <th>2907</th>\n",
              "      <th>2908</th>\n",
              "      <th>2909</th>\n",
              "      <th>2910</th>\n",
              "      <th>2911</th>\n",
              "      <th>2912</th>\n",
              "      <th>2913</th>\n",
              "      <th>label</th>\n",
              "    </tr>\n",
              "  </thead>\n",
              "  <tbody>\n",
              "    <tr>\n",
              "      <th>0</th>\n",
              "      <td>0.379085</td>\n",
              "      <td>0.312418</td>\n",
              "      <td>0.352941</td>\n",
              "      <td>0.445752</td>\n",
              "      <td>0.466667</td>\n",
              "      <td>0.473203</td>\n",
              "      <td>0.484967</td>\n",
              "      <td>0.513725</td>\n",
              "      <td>0.545098</td>\n",
              "      <td>0.571242</td>\n",
              "      <td>...</td>\n",
              "      <td>0.597386</td>\n",
              "      <td>0.620915</td>\n",
              "      <td>0.732026</td>\n",
              "      <td>0.852288</td>\n",
              "      <td>0.921569</td>\n",
              "      <td>0.937255</td>\n",
              "      <td>0.941176</td>\n",
              "      <td>0.950327</td>\n",
              "      <td>0.946405</td>\n",
              "      <td>John Ashcroft</td>\n",
              "    </tr>\n",
              "    <tr>\n",
              "      <th>1</th>\n",
              "      <td>0.450980</td>\n",
              "      <td>0.466667</td>\n",
              "      <td>0.512418</td>\n",
              "      <td>0.509804</td>\n",
              "      <td>0.450980</td>\n",
              "      <td>0.458824</td>\n",
              "      <td>0.516340</td>\n",
              "      <td>0.571242</td>\n",
              "      <td>0.607843</td>\n",
              "      <td>0.618301</td>\n",
              "      <td>...</td>\n",
              "      <td>0.430065</td>\n",
              "      <td>0.453595</td>\n",
              "      <td>0.679739</td>\n",
              "      <td>0.934640</td>\n",
              "      <td>0.985621</td>\n",
              "      <td>0.981699</td>\n",
              "      <td>0.963399</td>\n",
              "      <td>0.938562</td>\n",
              "      <td>0.874510</td>\n",
              "      <td>Ariel Sharon</td>\n",
              "    </tr>\n",
              "    <tr>\n",
              "      <th>2</th>\n",
              "      <td>0.589542</td>\n",
              "      <td>0.614379</td>\n",
              "      <td>0.688889</td>\n",
              "      <td>0.729412</td>\n",
              "      <td>0.738562</td>\n",
              "      <td>0.775163</td>\n",
              "      <td>0.789543</td>\n",
              "      <td>0.806536</td>\n",
              "      <td>0.820915</td>\n",
              "      <td>0.837908</td>\n",
              "      <td>...</td>\n",
              "      <td>0.733333</td>\n",
              "      <td>0.854902</td>\n",
              "      <td>0.937255</td>\n",
              "      <td>0.624837</td>\n",
              "      <td>0.128105</td>\n",
              "      <td>0.082353</td>\n",
              "      <td>0.107190</td>\n",
              "      <td>0.095425</td>\n",
              "      <td>0.100654</td>\n",
              "      <td>Colin Powell</td>\n",
              "    </tr>\n",
              "    <tr>\n",
              "      <th>3</th>\n",
              "      <td>0.390850</td>\n",
              "      <td>0.432680</td>\n",
              "      <td>0.499346</td>\n",
              "      <td>0.562091</td>\n",
              "      <td>0.597386</td>\n",
              "      <td>0.644444</td>\n",
              "      <td>0.670588</td>\n",
              "      <td>0.650980</td>\n",
              "      <td>0.637908</td>\n",
              "      <td>0.639216</td>\n",
              "      <td>...</td>\n",
              "      <td>0.713726</td>\n",
              "      <td>0.898039</td>\n",
              "      <td>0.968627</td>\n",
              "      <td>0.959477</td>\n",
              "      <td>0.832680</td>\n",
              "      <td>0.443137</td>\n",
              "      <td>0.266667</td>\n",
              "      <td>0.303268</td>\n",
              "      <td>0.313725</td>\n",
              "      <td>Jean Chretien</td>\n",
              "    </tr>\n",
              "    <tr>\n",
              "      <th>4</th>\n",
              "      <td>0.645752</td>\n",
              "      <td>0.626144</td>\n",
              "      <td>0.605229</td>\n",
              "      <td>0.585621</td>\n",
              "      <td>0.602614</td>\n",
              "      <td>0.664052</td>\n",
              "      <td>0.701961</td>\n",
              "      <td>0.709804</td>\n",
              "      <td>0.733333</td>\n",
              "      <td>0.771242</td>\n",
              "      <td>...</td>\n",
              "      <td>0.115033</td>\n",
              "      <td>0.129412</td>\n",
              "      <td>0.132026</td>\n",
              "      <td>0.129412</td>\n",
              "      <td>0.155556</td>\n",
              "      <td>0.171242</td>\n",
              "      <td>0.167320</td>\n",
              "      <td>0.176471</td>\n",
              "      <td>0.183007</td>\n",
              "      <td>Colin Powell</td>\n",
              "    </tr>\n",
              "  </tbody>\n",
              "</table>\n",
              "<p>5 rows × 2915 columns</p>\n",
              "</div>"
            ],
            "text/plain": [
              "          0         1         2         3         4         5         6  \\\n",
              "0  0.379085  0.312418  0.352941  0.445752  0.466667  0.473203  0.484967   \n",
              "1  0.450980  0.466667  0.512418  0.509804  0.450980  0.458824  0.516340   \n",
              "2  0.589542  0.614379  0.688889  0.729412  0.738562  0.775163  0.789543   \n",
              "3  0.390850  0.432680  0.499346  0.562091  0.597386  0.644444  0.670588   \n",
              "4  0.645752  0.626144  0.605229  0.585621  0.602614  0.664052  0.701961   \n",
              "\n",
              "          7         8         9  ...      2905      2906      2907      2908  \\\n",
              "0  0.513725  0.545098  0.571242  ...  0.597386  0.620915  0.732026  0.852288   \n",
              "1  0.571242  0.607843  0.618301  ...  0.430065  0.453595  0.679739  0.934640   \n",
              "2  0.806536  0.820915  0.837908  ...  0.733333  0.854902  0.937255  0.624837   \n",
              "3  0.650980  0.637908  0.639216  ...  0.713726  0.898039  0.968627  0.959477   \n",
              "4  0.709804  0.733333  0.771242  ...  0.115033  0.129412  0.132026  0.129412   \n",
              "\n",
              "       2909      2910      2911      2912      2913          label  \n",
              "0  0.921569  0.937255  0.941176  0.950327  0.946405  John Ashcroft  \n",
              "1  0.985621  0.981699  0.963399  0.938562  0.874510   Ariel Sharon  \n",
              "2  0.128105  0.082353  0.107190  0.095425  0.100654   Colin Powell  \n",
              "3  0.832680  0.443137  0.266667  0.303268  0.313725  Jean Chretien  \n",
              "4  0.155556  0.171242  0.167320  0.176471  0.183007   Colin Powell  \n",
              "\n",
              "[5 rows x 2915 columns]"
            ]
          },
          "execution_count": 236,
          "metadata": {},
          "output_type": "execute_result"
        }
      ],
      "source": [
        "df = pd.read_csv('/Users/muzafarov/Desktop/MyEducation/ML_OE/persons_pics_train.csv')\n",
        "df.head()"
      ]
    },
    {
      "cell_type": "markdown",
      "metadata": {
        "id": "kspU0Qef11XU"
      },
      "source": [
        "Убедимся в том, что перед нами действительно изображения лиц людей. Возьмем первые $15$ строк из таблицы исходных данных и построим соответствующие им изображения."
      ]
    },
    {
      "cell_type": "code",
      "execution_count": 237,
      "metadata": {
        "id": "hRwvUSbf3D1V"
      },
      "outputs": [],
      "source": [
        "import matplotlib.pyplot as plt\n",
        "\n",
        "def get_img_by_row(row):\n",
        "  return row.drop('label').astype(float).to_numpy().reshape(62,47), row['label']"
      ]
    },
    {
      "cell_type": "code",
      "execution_count": 238,
      "metadata": {
        "colab": {
          "base_uri": "https://localhost:8080/",
          "height": 426
        },
        "id": "UFJb9mct2oWK",
        "outputId": "e130962c-ea98-4d77-a409-88de56cfb16d"
      },
      "outputs": [
        {
          "data": {
            "image/png": "[encoded data removed]",
            "text/plain": [
              "<Figure size 640x480 with 15 Axes>"
            ]
          },
          "metadata": {},
          "output_type": "display_data"
        }
      ],
      "source": [
        "fig, ax = plt.subplots(3, 5)\n",
        "for i, axi in enumerate(ax.flat):\n",
        "    img, lbl = get_img_by_row(df.iloc[i])\n",
        "    axi.imshow(img, cmap='gray')\n",
        "    axi.set(xticks=[], yticks=[],\n",
        "            xlabel=lbl.split()[-1])\n",
        "plt.savefig('persons_pics_img_for_description.png', dpi = 100, bbox_inches='tight')    "
      ]
    },
    {
      "cell_type": "markdown",
      "metadata": {
        "id": "_qkenfcm4-dH"
      },
      "source": [
        "Крупнее"
      ]
    },
    {
      "cell_type": "code",
      "execution_count": 239,
      "metadata": {
        "colab": {
          "base_uri": "https://localhost:8080/",
          "height": 423
        },
        "id": "9XgGPo8h5y78",
        "outputId": "5b624983-77f6-4762-f7b0-f2c65ba140fc"
      },
      "outputs": [
        {
          "data": {
            "text/plain": [
              "(-0.5, 46.5, 61.5, -0.5)"
            ]
          },
          "execution_count": 239,
          "metadata": {},
          "output_type": "execute_result"
        },
        {
          "data": {
            "image/png": "[encoded data removed]",
            "text/plain": [
              "<Figure size 640x480 with 1 Axes>"
            ]
          },
          "metadata": {},
          "output_type": "display_data"
        }
      ],
      "source": [
        "plt.imshow(df.iloc[0].drop('label').astype(float).to_numpy().reshape(62,47), cmap='gray')\n",
        "plt.axis('off')"
      ]
    },
    {
      "cell_type": "markdown",
      "metadata": {
        "id": "Q4D22CYlAtOh"
      },
      "source": [
        "# Немного озорства"
      ]
    },
    {
      "cell_type": "markdown",
      "metadata": {
        "id": "LpubPEq-E3sQ"
      },
      "source": [
        "Определите число различных людей, фотографии которых содержатся в рассматриваемом наборе данных."
      ]
    },
    {
      "cell_type": "code",
      "execution_count": 240,
      "metadata": {
        "colab": {
          "base_uri": "https://localhost:8080/"
        },
        "id": "bCiWT0FVFHLz",
        "outputId": "c12b3f66-098f-4fca-d0db-87852e1f6997"
      },
      "outputs": [
        {
          "data": {
            "text/plain": [
              "12"
            ]
          },
          "execution_count": 240,
          "metadata": {},
          "output_type": "execute_result"
        }
      ],
      "source": [
        "len(df['label'].value_counts())"
      ]
    },
    {
      "cell_type": "code",
      "execution_count": 259,
      "metadata": {},
      "outputs": [
        {
          "data": {
            "text/plain": [
              "George W Bush        0.340121\n",
              "Colin Powell         0.151584\n",
              "Tony Blair           0.092006\n",
              "Donald Rumsfeld      0.077677\n",
              "Gerhard Schroeder    0.070136\n",
              "Ariel Sharon         0.049020\n",
              "Hugo Chavez          0.045249\n",
              "Junichiro Koizumi    0.038462\n",
              "Jean Chretien        0.035445\n",
              "John Ashcroft        0.033937\n",
              "Serena Williams      0.033183\n",
              "Jacques Chirac       0.033183\n",
              "Name: label, dtype: float64"
            ]
          },
          "execution_count": 259,
          "metadata": {},
          "output_type": "execute_result"
        }
      ],
      "source": [
        "df['label'].value_counts(1)"
      ]
    },
    {
      "cell_type": "markdown",
      "metadata": {
        "id": "WbEIJ-_S7iqm"
      },
      "source": [
        "Постройте гистограмму распределения объектов по классам и вычислите долю объектов каждого класса. "
      ]
    },
    {
      "cell_type": "code",
      "execution_count": 241,
      "metadata": {
        "id": "D78diqZW7vpk"
      },
      "outputs": [
        {
          "data": {
            "text/plain": [
              "Index(['George W Bush', 'Colin Powell', 'Tony Blair', 'Donald Rumsfeld',\n",
              "       'Gerhard Schroeder', 'Ariel Sharon', 'Hugo Chavez', 'Junichiro Koizumi',\n",
              "       'Jean Chretien', 'John Ashcroft', 'Serena Williams', 'Jacques Chirac'],\n",
              "      dtype='object')"
            ]
          },
          "execution_count": 241,
          "metadata": {},
          "output_type": "execute_result"
        }
      ],
      "source": [
        "df_col = df['label'].value_counts(1)\n",
        "df_col = df_col.index\n",
        "df_col"
      ]
    },
    {
      "cell_type": "markdown",
      "metadata": {
        "id": "09bpGM5bFRmp"
      },
      "source": [
        "На основе имеющихся данных поставьте в соответствие каждому человеку один вектор, координаты которого являются средним соответствующих координат всех векторов, отождествленных с этим человеком."
      ]
    },
    {
      "cell_type": "code",
      "execution_count": 242,
      "metadata": {
        "id": "FVi6WmHcAsKI"
      },
      "outputs": [
        {
          "name": "stderr",
          "output_type": "stream",
          "text": [
            "/var/folders/yj/nhkf3nv505d5kh0dsk42f3ym0000gn/T/ipykernel_86974/2661852531.py:4: FutureWarning: Dropping of nuisance columns in DataFrame reductions (with 'numeric_only=None') is deprecated; in a future version this will raise TypeError.  Select only valid columns before calling the reduction.\n",
            "  df_photo[i] = df[df['label'] == df_col[i]].mean()\n",
            "/var/folders/yj/nhkf3nv505d5kh0dsk42f3ym0000gn/T/ipykernel_86974/2661852531.py:4: FutureWarning: Dropping of nuisance columns in DataFrame reductions (with 'numeric_only=None') is deprecated; in a future version this will raise TypeError.  Select only valid columns before calling the reduction.\n",
            "  df_photo[i] = df[df['label'] == df_col[i]].mean()\n",
            "/var/folders/yj/nhkf3nv505d5kh0dsk42f3ym0000gn/T/ipykernel_86974/2661852531.py:4: FutureWarning: Dropping of nuisance columns in DataFrame reductions (with 'numeric_only=None') is deprecated; in a future version this will raise TypeError.  Select only valid columns before calling the reduction.\n",
            "  df_photo[i] = df[df['label'] == df_col[i]].mean()\n",
            "/var/folders/yj/nhkf3nv505d5kh0dsk42f3ym0000gn/T/ipykernel_86974/2661852531.py:4: FutureWarning: Dropping of nuisance columns in DataFrame reductions (with 'numeric_only=None') is deprecated; in a future version this will raise TypeError.  Select only valid columns before calling the reduction.\n",
            "  df_photo[i] = df[df['label'] == df_col[i]].mean()\n",
            "/var/folders/yj/nhkf3nv505d5kh0dsk42f3ym0000gn/T/ipykernel_86974/2661852531.py:4: FutureWarning: Dropping of nuisance columns in DataFrame reductions (with 'numeric_only=None') is deprecated; in a future version this will raise TypeError.  Select only valid columns before calling the reduction.\n",
            "  df_photo[i] = df[df['label'] == df_col[i]].mean()\n",
            "/var/folders/yj/nhkf3nv505d5kh0dsk42f3ym0000gn/T/ipykernel_86974/2661852531.py:4: FutureWarning: Dropping of nuisance columns in DataFrame reductions (with 'numeric_only=None') is deprecated; in a future version this will raise TypeError.  Select only valid columns before calling the reduction.\n",
            "  df_photo[i] = df[df['label'] == df_col[i]].mean()\n",
            "/var/folders/yj/nhkf3nv505d5kh0dsk42f3ym0000gn/T/ipykernel_86974/2661852531.py:4: FutureWarning: Dropping of nuisance columns in DataFrame reductions (with 'numeric_only=None') is deprecated; in a future version this will raise TypeError.  Select only valid columns before calling the reduction.\n",
            "  df_photo[i] = df[df['label'] == df_col[i]].mean()\n",
            "/var/folders/yj/nhkf3nv505d5kh0dsk42f3ym0000gn/T/ipykernel_86974/2661852531.py:4: FutureWarning: Dropping of nuisance columns in DataFrame reductions (with 'numeric_only=None') is deprecated; in a future version this will raise TypeError.  Select only valid columns before calling the reduction.\n",
            "  df_photo[i] = df[df['label'] == df_col[i]].mean()\n",
            "/var/folders/yj/nhkf3nv505d5kh0dsk42f3ym0000gn/T/ipykernel_86974/2661852531.py:4: FutureWarning: Dropping of nuisance columns in DataFrame reductions (with 'numeric_only=None') is deprecated; in a future version this will raise TypeError.  Select only valid columns before calling the reduction.\n",
            "  df_photo[i] = df[df['label'] == df_col[i]].mean()\n",
            "/var/folders/yj/nhkf3nv505d5kh0dsk42f3ym0000gn/T/ipykernel_86974/2661852531.py:4: FutureWarning: Dropping of nuisance columns in DataFrame reductions (with 'numeric_only=None') is deprecated; in a future version this will raise TypeError.  Select only valid columns before calling the reduction.\n",
            "  df_photo[i] = df[df['label'] == df_col[i]].mean()\n",
            "/var/folders/yj/nhkf3nv505d5kh0dsk42f3ym0000gn/T/ipykernel_86974/2661852531.py:4: FutureWarning: Dropping of nuisance columns in DataFrame reductions (with 'numeric_only=None') is deprecated; in a future version this will raise TypeError.  Select only valid columns before calling the reduction.\n",
            "  df_photo[i] = df[df['label'] == df_col[i]].mean()\n",
            "/var/folders/yj/nhkf3nv505d5kh0dsk42f3ym0000gn/T/ipykernel_86974/2661852531.py:4: FutureWarning: Dropping of nuisance columns in DataFrame reductions (with 'numeric_only=None') is deprecated; in a future version this will raise TypeError.  Select only valid columns before calling the reduction.\n",
            "  df_photo[i] = df[df['label'] == df_col[i]].mean()\n"
          ]
        },
        {
          "data": {
            "text/html": [
              "<div>\n",
              "<style scoped>\n",
              "    .dataframe tbody tr th:only-of-type {\n",
              "        vertical-align: middle;\n",
              "    }\n",
              "\n",
              "    .dataframe tbody tr th {\n",
              "        vertical-align: top;\n",
              "    }\n",
              "\n",
              "    .dataframe thead th {\n",
              "        text-align: right;\n",
              "    }\n",
              "</style>\n",
              "<table border=\"1\" class=\"dataframe\">\n",
              "  <thead>\n",
              "    <tr style=\"text-align: right;\">\n",
              "      <th></th>\n",
              "      <th>0</th>\n",
              "      <th>1</th>\n",
              "      <th>2</th>\n",
              "      <th>3</th>\n",
              "      <th>4</th>\n",
              "      <th>5</th>\n",
              "      <th>6</th>\n",
              "      <th>7</th>\n",
              "      <th>8</th>\n",
              "      <th>9</th>\n",
              "      <th>10</th>\n",
              "      <th>11</th>\n",
              "    </tr>\n",
              "  </thead>\n",
              "  <tbody>\n",
              "    <tr>\n",
              "      <th>0</th>\n",
              "      <td>0.348179</td>\n",
              "      <td>0.433512</td>\n",
              "      <td>0.327922</td>\n",
              "      <td>0.404810</td>\n",
              "      <td>0.210162</td>\n",
              "      <td>0.501398</td>\n",
              "      <td>0.206885</td>\n",
              "      <td>0.268384</td>\n",
              "      <td>0.388958</td>\n",
              "      <td>0.337894</td>\n",
              "      <td>0.412983</td>\n",
              "      <td>0.348010</td>\n",
              "    </tr>\n",
              "    <tr>\n",
              "      <th>1</th>\n",
              "      <td>0.360263</td>\n",
              "      <td>0.441147</td>\n",
              "      <td>0.342955</td>\n",
              "      <td>0.417260</td>\n",
              "      <td>0.228210</td>\n",
              "      <td>0.514811</td>\n",
              "      <td>0.205142</td>\n",
              "      <td>0.253672</td>\n",
              "      <td>0.412488</td>\n",
              "      <td>0.334379</td>\n",
              "      <td>0.390434</td>\n",
              "      <td>0.368152</td>\n",
              "    </tr>\n",
              "    <tr>\n",
              "      <th>2</th>\n",
              "      <td>0.381659</td>\n",
              "      <td>0.456248</td>\n",
              "      <td>0.363163</td>\n",
              "      <td>0.442731</td>\n",
              "      <td>0.268255</td>\n",
              "      <td>0.532609</td>\n",
              "      <td>0.240828</td>\n",
              "      <td>0.249699</td>\n",
              "      <td>0.446614</td>\n",
              "      <td>0.337662</td>\n",
              "      <td>0.359091</td>\n",
              "      <td>0.405704</td>\n",
              "    </tr>\n",
              "    <tr>\n",
              "      <th>3</th>\n",
              "      <td>0.416669</td>\n",
              "      <td>0.471947</td>\n",
              "      <td>0.401854</td>\n",
              "      <td>0.474028</td>\n",
              "      <td>0.328344</td>\n",
              "      <td>0.551714</td>\n",
              "      <td>0.300806</td>\n",
              "      <td>0.257875</td>\n",
              "      <td>0.487637</td>\n",
              "      <td>0.357037</td>\n",
              "      <td>0.333541</td>\n",
              "      <td>0.436988</td>\n",
              "    </tr>\n",
              "    <tr>\n",
              "      <th>4</th>\n",
              "      <td>0.457154</td>\n",
              "      <td>0.486730</td>\n",
              "      <td>0.456177</td>\n",
              "      <td>0.507938</td>\n",
              "      <td>0.389332</td>\n",
              "      <td>0.569754</td>\n",
              "      <td>0.370196</td>\n",
              "      <td>0.297373</td>\n",
              "      <td>0.526158</td>\n",
              "      <td>0.384779</td>\n",
              "      <td>0.337136</td>\n",
              "      <td>0.462686</td>\n",
              "    </tr>\n",
              "    <tr>\n",
              "      <th>5</th>\n",
              "      <td>0.488335</td>\n",
              "      <td>0.513732</td>\n",
              "      <td>0.503311</td>\n",
              "      <td>0.541659</td>\n",
              "      <td>0.447115</td>\n",
              "      <td>0.577456</td>\n",
              "      <td>0.427712</td>\n",
              "      <td>0.352044</td>\n",
              "      <td>0.563315</td>\n",
              "      <td>0.397182</td>\n",
              "      <td>0.352852</td>\n",
              "      <td>0.498693</td>\n",
              "    </tr>\n",
              "    <tr>\n",
              "      <th>6</th>\n",
              "      <td>0.515398</td>\n",
              "      <td>0.545157</td>\n",
              "      <td>0.551355</td>\n",
              "      <td>0.560112</td>\n",
              "      <td>0.495003</td>\n",
              "      <td>0.581820</td>\n",
              "      <td>0.471939</td>\n",
              "      <td>0.403306</td>\n",
              "      <td>0.594827</td>\n",
              "      <td>0.412375</td>\n",
              "      <td>0.370113</td>\n",
              "      <td>0.531135</td>\n",
              "    </tr>\n",
              "    <tr>\n",
              "      <th>7</th>\n",
              "      <td>0.536075</td>\n",
              "      <td>0.566514</td>\n",
              "      <td>0.596078</td>\n",
              "      <td>0.571838</td>\n",
              "      <td>0.527655</td>\n",
              "      <td>0.591835</td>\n",
              "      <td>0.512702</td>\n",
              "      <td>0.441394</td>\n",
              "      <td>0.628981</td>\n",
              "      <td>0.431924</td>\n",
              "      <td>0.384551</td>\n",
              "      <td>0.553060</td>\n",
              "    </tr>\n",
              "    <tr>\n",
              "      <th>8</th>\n",
              "      <td>0.551153</td>\n",
              "      <td>0.581556</td>\n",
              "      <td>0.627837</td>\n",
              "      <td>0.585773</td>\n",
              "      <td>0.549441</td>\n",
              "      <td>0.604465</td>\n",
              "      <td>0.545251</td>\n",
              "      <td>0.470819</td>\n",
              "      <td>0.665026</td>\n",
              "      <td>0.449441</td>\n",
              "      <td>0.403743</td>\n",
              "      <td>0.574629</td>\n",
              "    </tr>\n",
              "    <tr>\n",
              "      <th>9</th>\n",
              "      <td>0.565662</td>\n",
              "      <td>0.592924</td>\n",
              "      <td>0.647059</td>\n",
              "      <td>0.602386</td>\n",
              "      <td>0.569457</td>\n",
              "      <td>0.612589</td>\n",
              "      <td>0.562070</td>\n",
              "      <td>0.494656</td>\n",
              "      <td>0.685774</td>\n",
              "      <td>0.466986</td>\n",
              "      <td>0.423737</td>\n",
              "      <td>0.594029</td>\n",
              "    </tr>\n",
              "  </tbody>\n",
              "</table>\n",
              "</div>"
            ],
            "text/plain": [
              "         0         1         2         3         4         5         6   \\\n",
              "0  0.348179  0.433512  0.327922  0.404810  0.210162  0.501398  0.206885   \n",
              "1  0.360263  0.441147  0.342955  0.417260  0.228210  0.514811  0.205142   \n",
              "2  0.381659  0.456248  0.363163  0.442731  0.268255  0.532609  0.240828   \n",
              "3  0.416669  0.471947  0.401854  0.474028  0.328344  0.551714  0.300806   \n",
              "4  0.457154  0.486730  0.456177  0.507938  0.389332  0.569754  0.370196   \n",
              "5  0.488335  0.513732  0.503311  0.541659  0.447115  0.577456  0.427712   \n",
              "6  0.515398  0.545157  0.551355  0.560112  0.495003  0.581820  0.471939   \n",
              "7  0.536075  0.566514  0.596078  0.571838  0.527655  0.591835  0.512702   \n",
              "8  0.551153  0.581556  0.627837  0.585773  0.549441  0.604465  0.545251   \n",
              "9  0.565662  0.592924  0.647059  0.602386  0.569457  0.612589  0.562070   \n",
              "\n",
              "         7         8         9         10        11  \n",
              "0  0.268384  0.388958  0.337894  0.412983  0.348010  \n",
              "1  0.253672  0.412488  0.334379  0.390434  0.368152  \n",
              "2  0.249699  0.446614  0.337662  0.359091  0.405704  \n",
              "3  0.257875  0.487637  0.357037  0.333541  0.436988  \n",
              "4  0.297373  0.526158  0.384779  0.337136  0.462686  \n",
              "5  0.352044  0.563315  0.397182  0.352852  0.498693  \n",
              "6  0.403306  0.594827  0.412375  0.370113  0.531135  \n",
              "7  0.441394  0.628981  0.431924  0.384551  0.553060  \n",
              "8  0.470819  0.665026  0.449441  0.403743  0.574629  \n",
              "9  0.494656  0.685774  0.466986  0.423737  0.594029  "
            ]
          },
          "execution_count": 242,
          "metadata": {},
          "output_type": "execute_result"
        }
      ],
      "source": [
        "df_photo = pd.DataFrame() \n",
        "\n",
        "for i in range(len(df_col)):\n",
        "        df_photo[i] = df[df['label'] == df_col[i]].mean()\n",
        "df_photo.head(10)"
      ]
    },
    {
      "cell_type": "code",
      "execution_count": 243,
      "metadata": {},
      "outputs": [
        {
          "data": {
            "text/html": [
              "<div>\n",
              "<style scoped>\n",
              "    .dataframe tbody tr th:only-of-type {\n",
              "        vertical-align: middle;\n",
              "    }\n",
              "\n",
              "    .dataframe tbody tr th {\n",
              "        vertical-align: top;\n",
              "    }\n",
              "\n",
              "    .dataframe thead th {\n",
              "        text-align: right;\n",
              "    }\n",
              "</style>\n",
              "<table border=\"1\" class=\"dataframe\">\n",
              "  <thead>\n",
              "    <tr style=\"text-align: right;\">\n",
              "      <th></th>\n",
              "      <th>0</th>\n",
              "      <th>1</th>\n",
              "      <th>2</th>\n",
              "      <th>3</th>\n",
              "      <th>4</th>\n",
              "      <th>5</th>\n",
              "      <th>6</th>\n",
              "      <th>7</th>\n",
              "      <th>8</th>\n",
              "      <th>9</th>\n",
              "      <th>...</th>\n",
              "      <th>2905</th>\n",
              "      <th>2906</th>\n",
              "      <th>2907</th>\n",
              "      <th>2908</th>\n",
              "      <th>2909</th>\n",
              "      <th>2910</th>\n",
              "      <th>2911</th>\n",
              "      <th>2912</th>\n",
              "      <th>2913</th>\n",
              "      <th>label</th>\n",
              "    </tr>\n",
              "  </thead>\n",
              "  <tbody>\n",
              "    <tr>\n",
              "      <th>0</th>\n",
              "      <td>0.348179</td>\n",
              "      <td>0.360263</td>\n",
              "      <td>0.381659</td>\n",
              "      <td>0.416669</td>\n",
              "      <td>0.457154</td>\n",
              "      <td>0.488335</td>\n",
              "      <td>0.515398</td>\n",
              "      <td>0.536075</td>\n",
              "      <td>0.551153</td>\n",
              "      <td>0.565662</td>\n",
              "      <td>...</td>\n",
              "      <td>0.414092</td>\n",
              "      <td>0.441074</td>\n",
              "      <td>0.461325</td>\n",
              "      <td>0.470275</td>\n",
              "      <td>0.459067</td>\n",
              "      <td>0.447653</td>\n",
              "      <td>0.430523</td>\n",
              "      <td>0.399620</td>\n",
              "      <td>0.376584</td>\n",
              "      <td>George W Bush</td>\n",
              "    </tr>\n",
              "    <tr>\n",
              "      <th>1</th>\n",
              "      <td>0.433512</td>\n",
              "      <td>0.441147</td>\n",
              "      <td>0.456248</td>\n",
              "      <td>0.471947</td>\n",
              "      <td>0.486730</td>\n",
              "      <td>0.513732</td>\n",
              "      <td>0.545157</td>\n",
              "      <td>0.566514</td>\n",
              "      <td>0.581556</td>\n",
              "      <td>0.592924</td>\n",
              "      <td>...</td>\n",
              "      <td>0.471798</td>\n",
              "      <td>0.512067</td>\n",
              "      <td>0.534615</td>\n",
              "      <td>0.532176</td>\n",
              "      <td>0.510006</td>\n",
              "      <td>0.477586</td>\n",
              "      <td>0.448119</td>\n",
              "      <td>0.410659</td>\n",
              "      <td>0.379605</td>\n",
              "      <td>Colin Powell</td>\n",
              "    </tr>\n",
              "    <tr>\n",
              "      <th>2</th>\n",
              "      <td>0.327922</td>\n",
              "      <td>0.342955</td>\n",
              "      <td>0.363163</td>\n",
              "      <td>0.401854</td>\n",
              "      <td>0.456177</td>\n",
              "      <td>0.503311</td>\n",
              "      <td>0.551355</td>\n",
              "      <td>0.596078</td>\n",
              "      <td>0.627837</td>\n",
              "      <td>0.647059</td>\n",
              "      <td>...</td>\n",
              "      <td>0.500900</td>\n",
              "      <td>0.512108</td>\n",
              "      <td>0.526133</td>\n",
              "      <td>0.541498</td>\n",
              "      <td>0.552277</td>\n",
              "      <td>0.542077</td>\n",
              "      <td>0.516072</td>\n",
              "      <td>0.480853</td>\n",
              "      <td>0.444680</td>\n",
              "      <td>Tony Blair</td>\n",
              "    </tr>\n",
              "    <tr>\n",
              "      <th>3</th>\n",
              "      <td>0.404810</td>\n",
              "      <td>0.417260</td>\n",
              "      <td>0.442731</td>\n",
              "      <td>0.474028</td>\n",
              "      <td>0.507938</td>\n",
              "      <td>0.541659</td>\n",
              "      <td>0.560112</td>\n",
              "      <td>0.571838</td>\n",
              "      <td>0.585773</td>\n",
              "      <td>0.602386</td>\n",
              "      <td>...</td>\n",
              "      <td>0.546837</td>\n",
              "      <td>0.562307</td>\n",
              "      <td>0.558627</td>\n",
              "      <td>0.549426</td>\n",
              "      <td>0.525947</td>\n",
              "      <td>0.500603</td>\n",
              "      <td>0.475550</td>\n",
              "      <td>0.431893</td>\n",
              "      <td>0.391738</td>\n",
              "      <td>Donald Rumsfeld</td>\n",
              "    </tr>\n",
              "    <tr>\n",
              "      <th>4</th>\n",
              "      <td>0.210162</td>\n",
              "      <td>0.228210</td>\n",
              "      <td>0.268255</td>\n",
              "      <td>0.328344</td>\n",
              "      <td>0.389332</td>\n",
              "      <td>0.447115</td>\n",
              "      <td>0.495003</td>\n",
              "      <td>0.527655</td>\n",
              "      <td>0.549441</td>\n",
              "      <td>0.569457</td>\n",
              "      <td>...</td>\n",
              "      <td>0.430937</td>\n",
              "      <td>0.469281</td>\n",
              "      <td>0.494596</td>\n",
              "      <td>0.496718</td>\n",
              "      <td>0.482550</td>\n",
              "      <td>0.442252</td>\n",
              "      <td>0.428477</td>\n",
              "      <td>0.426875</td>\n",
              "      <td>0.411118</td>\n",
              "      <td>Gerhard Schroeder</td>\n",
              "    </tr>\n",
              "    <tr>\n",
              "      <th>5</th>\n",
              "      <td>0.501398</td>\n",
              "      <td>0.514811</td>\n",
              "      <td>0.532609</td>\n",
              "      <td>0.551714</td>\n",
              "      <td>0.569754</td>\n",
              "      <td>0.577456</td>\n",
              "      <td>0.581820</td>\n",
              "      <td>0.591835</td>\n",
              "      <td>0.604465</td>\n",
              "      <td>0.612589</td>\n",
              "      <td>...</td>\n",
              "      <td>0.433947</td>\n",
              "      <td>0.478291</td>\n",
              "      <td>0.519920</td>\n",
              "      <td>0.532549</td>\n",
              "      <td>0.515656</td>\n",
              "      <td>0.498220</td>\n",
              "      <td>0.486657</td>\n",
              "      <td>0.466928</td>\n",
              "      <td>0.437687</td>\n",
              "      <td>Ariel Sharon</td>\n",
              "    </tr>\n",
              "    <tr>\n",
              "      <th>6</th>\n",
              "      <td>0.206885</td>\n",
              "      <td>0.205142</td>\n",
              "      <td>0.240828</td>\n",
              "      <td>0.300806</td>\n",
              "      <td>0.370196</td>\n",
              "      <td>0.427712</td>\n",
              "      <td>0.471939</td>\n",
              "      <td>0.512702</td>\n",
              "      <td>0.545251</td>\n",
              "      <td>0.562070</td>\n",
              "      <td>...</td>\n",
              "      <td>0.360523</td>\n",
              "      <td>0.372200</td>\n",
              "      <td>0.385926</td>\n",
              "      <td>0.394662</td>\n",
              "      <td>0.392309</td>\n",
              "      <td>0.384989</td>\n",
              "      <td>0.371503</td>\n",
              "      <td>0.372440</td>\n",
              "      <td>0.374052</td>\n",
              "      <td>Hugo Chavez</td>\n",
              "    </tr>\n",
              "    <tr>\n",
              "      <th>7</th>\n",
              "      <td>0.268384</td>\n",
              "      <td>0.253672</td>\n",
              "      <td>0.249699</td>\n",
              "      <td>0.257875</td>\n",
              "      <td>0.297373</td>\n",
              "      <td>0.352044</td>\n",
              "      <td>0.403306</td>\n",
              "      <td>0.441394</td>\n",
              "      <td>0.470819</td>\n",
              "      <td>0.494656</td>\n",
              "      <td>...</td>\n",
              "      <td>0.530437</td>\n",
              "      <td>0.561169</td>\n",
              "      <td>0.558657</td>\n",
              "      <td>0.542304</td>\n",
              "      <td>0.537896</td>\n",
              "      <td>0.532359</td>\n",
              "      <td>0.516750</td>\n",
              "      <td>0.498347</td>\n",
              "      <td>0.509753</td>\n",
              "      <td>Junichiro Koizumi</td>\n",
              "    </tr>\n",
              "    <tr>\n",
              "      <th>8</th>\n",
              "      <td>0.388958</td>\n",
              "      <td>0.412488</td>\n",
              "      <td>0.446614</td>\n",
              "      <td>0.487637</td>\n",
              "      <td>0.526158</td>\n",
              "      <td>0.563315</td>\n",
              "      <td>0.594827</td>\n",
              "      <td>0.628981</td>\n",
              "      <td>0.665026</td>\n",
              "      <td>0.685774</td>\n",
              "      <td>...</td>\n",
              "      <td>0.574190</td>\n",
              "      <td>0.583452</td>\n",
              "      <td>0.555667</td>\n",
              "      <td>0.499764</td>\n",
              "      <td>0.455180</td>\n",
              "      <td>0.426060</td>\n",
              "      <td>0.415353</td>\n",
              "      <td>0.414713</td>\n",
              "      <td>0.397608</td>\n",
              "      <td>Jean Chretien</td>\n",
              "    </tr>\n",
              "    <tr>\n",
              "      <th>9</th>\n",
              "      <td>0.337894</td>\n",
              "      <td>0.334379</td>\n",
              "      <td>0.337662</td>\n",
              "      <td>0.357037</td>\n",
              "      <td>0.384779</td>\n",
              "      <td>0.397182</td>\n",
              "      <td>0.412375</td>\n",
              "      <td>0.431924</td>\n",
              "      <td>0.449441</td>\n",
              "      <td>0.466986</td>\n",
              "      <td>...</td>\n",
              "      <td>0.468468</td>\n",
              "      <td>0.475759</td>\n",
              "      <td>0.489092</td>\n",
              "      <td>0.512999</td>\n",
              "      <td>0.540944</td>\n",
              "      <td>0.534524</td>\n",
              "      <td>0.524415</td>\n",
              "      <td>0.527495</td>\n",
              "      <td>0.527495</td>\n",
              "      <td>John Ashcroft</td>\n",
              "    </tr>\n",
              "    <tr>\n",
              "      <th>10</th>\n",
              "      <td>0.412983</td>\n",
              "      <td>0.390434</td>\n",
              "      <td>0.359091</td>\n",
              "      <td>0.333541</td>\n",
              "      <td>0.337136</td>\n",
              "      <td>0.352852</td>\n",
              "      <td>0.370113</td>\n",
              "      <td>0.384551</td>\n",
              "      <td>0.403743</td>\n",
              "      <td>0.423737</td>\n",
              "      <td>...</td>\n",
              "      <td>0.246286</td>\n",
              "      <td>0.261943</td>\n",
              "      <td>0.274302</td>\n",
              "      <td>0.291474</td>\n",
              "      <td>0.308200</td>\n",
              "      <td>0.322460</td>\n",
              "      <td>0.334492</td>\n",
              "      <td>0.348247</td>\n",
              "      <td>0.361854</td>\n",
              "      <td>Serena Williams</td>\n",
              "    </tr>\n",
              "    <tr>\n",
              "      <th>11</th>\n",
              "      <td>0.348010</td>\n",
              "      <td>0.368152</td>\n",
              "      <td>0.405704</td>\n",
              "      <td>0.436988</td>\n",
              "      <td>0.462686</td>\n",
              "      <td>0.498693</td>\n",
              "      <td>0.531135</td>\n",
              "      <td>0.553060</td>\n",
              "      <td>0.574629</td>\n",
              "      <td>0.594029</td>\n",
              "      <td>...</td>\n",
              "      <td>0.469935</td>\n",
              "      <td>0.480957</td>\n",
              "      <td>0.486067</td>\n",
              "      <td>0.510933</td>\n",
              "      <td>0.537998</td>\n",
              "      <td>0.542751</td>\n",
              "      <td>0.505853</td>\n",
              "      <td>0.456625</td>\n",
              "      <td>0.434997</td>\n",
              "      <td>Jacques Chirac</td>\n",
              "    </tr>\n",
              "  </tbody>\n",
              "</table>\n",
              "<p>12 rows × 2915 columns</p>\n",
              "</div>"
            ],
            "text/plain": [
              "           0         1         2         3         4         5         6  \\\n",
              "0   0.348179  0.360263  0.381659  0.416669  0.457154  0.488335  0.515398   \n",
              "1   0.433512  0.441147  0.456248  0.471947  0.486730  0.513732  0.545157   \n",
              "2   0.327922  0.342955  0.363163  0.401854  0.456177  0.503311  0.551355   \n",
              "3   0.404810  0.417260  0.442731  0.474028  0.507938  0.541659  0.560112   \n",
              "4   0.210162  0.228210  0.268255  0.328344  0.389332  0.447115  0.495003   \n",
              "5   0.501398  0.514811  0.532609  0.551714  0.569754  0.577456  0.581820   \n",
              "6   0.206885  0.205142  0.240828  0.300806  0.370196  0.427712  0.471939   \n",
              "7   0.268384  0.253672  0.249699  0.257875  0.297373  0.352044  0.403306   \n",
              "8   0.388958  0.412488  0.446614  0.487637  0.526158  0.563315  0.594827   \n",
              "9   0.337894  0.334379  0.337662  0.357037  0.384779  0.397182  0.412375   \n",
              "10  0.412983  0.390434  0.359091  0.333541  0.337136  0.352852  0.370113   \n",
              "11  0.348010  0.368152  0.405704  0.436988  0.462686  0.498693  0.531135   \n",
              "\n",
              "           7         8         9  ...      2905      2906      2907      2908  \\\n",
              "0   0.536075  0.551153  0.565662  ...  0.414092  0.441074  0.461325  0.470275   \n",
              "1   0.566514  0.581556  0.592924  ...  0.471798  0.512067  0.534615  0.532176   \n",
              "2   0.596078  0.627837  0.647059  ...  0.500900  0.512108  0.526133  0.541498   \n",
              "3   0.571838  0.585773  0.602386  ...  0.546837  0.562307  0.558627  0.549426   \n",
              "4   0.527655  0.549441  0.569457  ...  0.430937  0.469281  0.494596  0.496718   \n",
              "5   0.591835  0.604465  0.612589  ...  0.433947  0.478291  0.519920  0.532549   \n",
              "6   0.512702  0.545251  0.562070  ...  0.360523  0.372200  0.385926  0.394662   \n",
              "7   0.441394  0.470819  0.494656  ...  0.530437  0.561169  0.558657  0.542304   \n",
              "8   0.628981  0.665026  0.685774  ...  0.574190  0.583452  0.555667  0.499764   \n",
              "9   0.431924  0.449441  0.466986  ...  0.468468  0.475759  0.489092  0.512999   \n",
              "10  0.384551  0.403743  0.423737  ...  0.246286  0.261943  0.274302  0.291474   \n",
              "11  0.553060  0.574629  0.594029  ...  0.469935  0.480957  0.486067  0.510933   \n",
              "\n",
              "        2909      2910      2911      2912      2913              label  \n",
              "0   0.459067  0.447653  0.430523  0.399620  0.376584      George W Bush  \n",
              "1   0.510006  0.477586  0.448119  0.410659  0.379605       Colin Powell  \n",
              "2   0.552277  0.542077  0.516072  0.480853  0.444680         Tony Blair  \n",
              "3   0.525947  0.500603  0.475550  0.431893  0.391738    Donald Rumsfeld  \n",
              "4   0.482550  0.442252  0.428477  0.426875  0.411118  Gerhard Schroeder  \n",
              "5   0.515656  0.498220  0.486657  0.466928  0.437687       Ariel Sharon  \n",
              "6   0.392309  0.384989  0.371503  0.372440  0.374052        Hugo Chavez  \n",
              "7   0.537896  0.532359  0.516750  0.498347  0.509753  Junichiro Koizumi  \n",
              "8   0.455180  0.426060  0.415353  0.414713  0.397608      Jean Chretien  \n",
              "9   0.540944  0.534524  0.524415  0.527495  0.527495      John Ashcroft  \n",
              "10  0.308200  0.322460  0.334492  0.348247  0.361854    Serena Williams  \n",
              "11  0.537998  0.542751  0.505853  0.456625  0.434997     Jacques Chirac  \n",
              "\n",
              "[12 rows x 2915 columns]"
            ]
          },
          "execution_count": 243,
          "metadata": {},
          "output_type": "execute_result"
        }
      ],
      "source": [
        "df_photo= df_photo.T\n",
        "df_photo['label'] = df_col\n",
        "df_photo"
      ]
    },
    {
      "cell_type": "markdown",
      "metadata": {
        "id": "EsOZehSAF1ZE"
      },
      "source": [
        "Вычислите координату с индексом $0$ усредненного вектора, соответствующего человеку из вашего индивидуального задания."
      ]
    },
    {
      "cell_type": "code",
      "execution_count": 261,
      "metadata": {
        "id": "wdOk5XsKGK8s"
      },
      "outputs": [
        {
          "data": {
            "text/plain": [
              "0.41298277361363644"
            ]
          },
          "execution_count": 261,
          "metadata": {},
          "output_type": "execute_result"
        }
      ],
      "source": [
        "df_photo[df_photo['label'] == 'Serena Williams'].iloc[0,0]"
      ]
    },
    {
      "cell_type": "markdown",
      "metadata": {
        "id": "ZFQy6dAcGuHV"
      },
      "source": [
        "Используя усредненные векторы, постройте изображения всех людей из набора данных."
      ]
    },
    {
      "cell_type": "code",
      "execution_count": 245,
      "metadata": {},
      "outputs": [
        {
          "data": {
            "image/png": "[encoded data removed]",
            "text/plain": [
              "<Figure size 640x480 with 12 Axes>"
            ]
          },
          "metadata": {},
          "output_type": "display_data"
        }
      ],
      "source": [
        "fig, ax = plt.subplots(3, 4)\n",
        "for i, axi in enumerate(ax.flat):\n",
        "    img, lbl = get_img_by_row(df_photo.iloc[i])\n",
        "    axi.imshow(img, cmap='gray')\n",
        "    axi.set(xticks=[], yticks=[],\n",
        "            xlabel=lbl.split()[-1])\n",
        "plt.savefig('persons_pics_img_for_description.png', dpi = 100, bbox_inches='tight')"
      ]
    },
    {
      "cell_type": "markdown",
      "metadata": {
        "id": "_45zmvOV-TE3"
      },
      "source": [
        "В качестве меры \"схожести\" двух объектов часто используют так называемое [косинусное сходство](https://en.wikipedia.org/wiki/Cosine_similarity). Не следует путать с косинусным расстоянием.\n",
        "\n",
        "Постройте матрицу \"схожести\" объектов на основе их усредненных векторов. Для визуализации рекомендуем использовать тепловую карту, например, [из библиотеки seaborn](https://seaborn.pydata.org/generated/seaborn.heatmap.html)."
      ]
    },
    {
      "cell_type": "code",
      "execution_count": 280,
      "metadata": {},
      "outputs": [
        {
          "data": {
            "text/plain": [
              "<AxesSubplot:>"
            ]
          },
          "execution_count": 280,
          "metadata": {},
          "output_type": "execute_result"
        },
        {
          "data": {
            "image/png": "[encoded data removed]",
            "text/plain": [
              "<Figure size 640x480 with 2 Axes>"
            ]
          },
          "metadata": {},
          "output_type": "display_data"
        }
      ],
      "source": [
        "vectors = df_photo.drop(columns='label')\n",
        "matrix_res = np.array([])\n",
        "for j in range(len(vectors)):\n",
        "  matrix = np.array([])\n",
        "  for i in range(len(vectors)):\n",
        "    a = np.array(vectors.iloc[j])\n",
        "    b = np.array(vectors.iloc[i])\n",
        "    cosine = cosine_similarity(a.reshape(1, -1), b.reshape(1, -1))\n",
        "    matrix = np.append(matrix, cosine[0][0])\n",
        "  matrix_res = np.append(matrix_res, matrix, axis=0)\n",
        "matrix_res = matrix_res.reshape(12, 12)\n",
        "sns.heatmap(matrix_res)\n"
      ]
    },
    {
      "cell_type": "code",
      "execution_count": 286,
      "metadata": {
        "id": "ORlwl8MSAsMu"
      },
      "outputs": [],
      "source": [
        "vectors = df_photo.drop(columns='label')\n",
        "\n",
        "a = np.array(vectors.iloc[0])\n",
        "b = np.array(vectors.iloc[3])\n",
        "cosine = cosine_similarity(a.reshape(1, -1), b.reshape(1, -1))\n"
      ]
    },
    {
      "cell_type": "markdown",
      "metadata": {
        "id": "dGFwwz85TDPg"
      },
      "source": [
        "Определите косинусное сходство для пары людей из вашего индивидуального задания на основе соответствующих им \"усредненных\" векторов."
      ]
    },
    {
      "cell_type": "code",
      "execution_count": 287,
      "metadata": {
        "id": "fBzdsrkG84PE"
      },
      "outputs": [
        {
          "name": "stdout",
          "output_type": "stream",
          "text": [
            "[0.99664513]\n"
          ]
        }
      ],
      "source": [
        "print(*cosine)"
      ]
    },
    {
      "cell_type": "markdown",
      "metadata": {
        "id": "fY7TotHYUJqE"
      },
      "source": [
        "# Построение модели"
      ]
    },
    {
      "cell_type": "markdown",
      "metadata": {
        "id": "SCQ0dGV66EUN"
      },
      "source": [
        "При помощи <code>train_test_split()</code> разделите набор данных на тренировочный и тестовый с параметрами, указанными в вашем индивидуальном задании. Используйте стратификацию по колонке <code>label</code>."
      ]
    },
    {
      "cell_type": "code",
      "execution_count": 288,
      "metadata": {
        "id": "pa9Lzhho6KZd"
      },
      "outputs": [],
      "source": [
        "X = df.drop(columns='label')\n",
        "y = df['label']\n",
        "\n",
        "X_train, X_test, y_train, y_test = train_test_split(X, y, test_size=0.2, random_state=21, stratify=y)\n"
      ]
    },
    {
      "cell_type": "markdown",
      "metadata": {
        "id": "zCIM8lSj70Ov"
      },
      "source": [
        "## Первое приближение: базовый SVM классификатор с линейным ядром."
      ]
    },
    {
      "cell_type": "markdown",
      "metadata": {
        "id": "1MFp8jptUyyd"
      },
      "source": [
        "Обучите модель <code>SVC()</code> на тренировочном наборе данных с параметрами, указанными в вашем индивидуальном задании."
      ]
    },
    {
      "cell_type": "code",
      "execution_count": 289,
      "metadata": {
        "id": "4EJTB6GJ76_f"
      },
      "outputs": [],
      "source": [
        "svc = SVC(kernel='linear', random_state=21)\n",
        "svc.fit(X_train, y_train)\n",
        "pred = svc.predict(X_test)"
      ]
    },
    {
      "cell_type": "markdown",
      "metadata": {
        "id": "ahRow63h-LBm"
      },
      "source": [
        "Оцените модель на тестовых данных. Вычислите <code>f1_score(average='weighted')</code>"
      ]
    },
    {
      "cell_type": "code",
      "execution_count": 290,
      "metadata": {
        "id": "wxCTai-M8nwz"
      },
      "outputs": [
        {
          "data": {
            "text/plain": [
              "0.7632008539356041"
            ]
          },
          "execution_count": 290,
          "metadata": {},
          "output_type": "execute_result"
        }
      ],
      "source": [
        "f1_score(y_test, pred, average='weighted')"
      ]
    },
    {
      "cell_type": "markdown",
      "metadata": {
        "id": "GZlTrsLWWxV_"
      },
      "source": [
        "В целом, достаточно неплохой результат, но имеет смысл попробовать подобрать параметры."
      ]
    },
    {
      "cell_type": "markdown",
      "metadata": {
        "id": "IYIiSBkk_Yrx"
      },
      "source": [
        "## Подбор гиперпараметров"
      ]
    },
    {
      "cell_type": "markdown",
      "metadata": {
        "id": "mrFWhMp8XKLD"
      },
      "source": [
        "Используя <code>GridSearchCV()</code>, осуществите подбор гиперпараметров, указанных в вашем задании. Отдельно обратите внимание на время обучения моделей"
      ]
    },
    {
      "cell_type": "code",
      "execution_count": 293,
      "metadata": {
        "id": "AY8QwPhh_fMF"
      },
      "outputs": [],
      "source": [
        "tuned_parameters = [{'kernel': ['linear', 'poly', 'rbf', 'sigmoid'], 'gamma': [1e-3, 1e-4],\n",
        "                     'C': [1, 10, 100, 1000], 'class_weight': [None, 'balanced'], 'random_state':[21]}]\n",
        "\n",
        "cv = GridSearchCV(SVC(), tuned_parameters, refit=True, verbose=3)"
      ]
    },
    {
      "cell_type": "markdown",
      "metadata": {
        "id": "YH-ufkYcYoiw"
      },
      "source": [
        "Определите гиперпараметры лучшей полученной модели."
      ]
    },
    {
      "cell_type": "code",
      "execution_count": 294,
      "metadata": {
        "id": "MTHT-HJiFrZz"
      },
      "outputs": [
        {
          "name": "stdout",
          "output_type": "stream",
          "text": [
            "Fitting 5 folds for each of 64 candidates, totalling 320 fits\n",
            "[CV 1/5] END C=1, class_weight=None, gamma=0.001, kernel=linear, random_state=21;, score=0.774 total time=   0.6s\n",
            "[CV 2/5] END C=1, class_weight=None, gamma=0.001, kernel=linear, random_state=21;, score=0.778 total time=   0.5s\n",
            "[CV 3/5] END C=1, class_weight=None, gamma=0.001, kernel=linear, random_state=21;, score=0.797 total time=   0.6s\n",
            "[CV 4/5] END C=1, class_weight=None, gamma=0.001, kernel=linear, random_state=21;, score=0.764 total time=   0.6s\n",
            "[CV 5/5] END C=1, class_weight=None, gamma=0.001, kernel=linear, random_state=21;, score=0.807 total time=   0.6s\n",
            "[CV 1/5] END C=1, class_weight=None, gamma=0.001, kernel=poly, random_state=21;, score=0.377 total time=   0.7s\n",
            "[CV 2/5] END C=1, class_weight=None, gamma=0.001, kernel=poly, random_state=21;, score=0.377 total time=   0.7s\n",
            "[CV 3/5] END C=1, class_weight=None, gamma=0.001, kernel=poly, random_state=21;, score=0.354 total time=   0.7s\n",
            "[CV 4/5] END C=1, class_weight=None, gamma=0.001, kernel=poly, random_state=21;, score=0.358 total time=   0.7s\n",
            "[CV 5/5] END C=1, class_weight=None, gamma=0.001, kernel=poly, random_state=21;, score=0.358 total time=   0.7s\n",
            "[CV 1/5] END C=1, class_weight=None, gamma=0.001, kernel=rbf, random_state=21;, score=0.377 total time=   0.8s\n",
            "[CV 2/5] END C=1, class_weight=None, gamma=0.001, kernel=rbf, random_state=21;, score=0.401 total time=   0.8s\n",
            "[CV 3/5] END C=1, class_weight=None, gamma=0.001, kernel=rbf, random_state=21;, score=0.392 total time=   0.8s\n",
            "[CV 4/5] END C=1, class_weight=None, gamma=0.001, kernel=rbf, random_state=21;, score=0.410 total time=   0.8s\n",
            "[CV 5/5] END C=1, class_weight=None, gamma=0.001, kernel=rbf, random_state=21;, score=0.406 total time=   0.8s\n",
            "[CV 1/5] END C=1, class_weight=None, gamma=0.001, kernel=sigmoid, random_state=21;, score=0.340 total time=   0.7s\n",
            "[CV 2/5] END C=1, class_weight=None, gamma=0.001, kernel=sigmoid, random_state=21;, score=0.335 total time=   0.7s\n",
            "[CV 3/5] END C=1, class_weight=None, gamma=0.001, kernel=sigmoid, random_state=21;, score=0.340 total time=   0.7s\n",
            "[CV 4/5] END C=1, class_weight=None, gamma=0.001, kernel=sigmoid, random_state=21;, score=0.340 total time=   0.7s\n",
            "[CV 5/5] END C=1, class_weight=None, gamma=0.001, kernel=sigmoid, random_state=21;, score=0.344 total time=   0.7s\n",
            "[CV 1/5] END C=1, class_weight=None, gamma=0.0001, kernel=linear, random_state=21;, score=0.774 total time=   0.6s\n",
            "[CV 2/5] END C=1, class_weight=None, gamma=0.0001, kernel=linear, random_state=21;, score=0.778 total time=   0.6s\n",
            "[CV 3/5] END C=1, class_weight=None, gamma=0.0001, kernel=linear, random_state=21;, score=0.797 total time=   0.6s\n",
            "[CV 4/5] END C=1, class_weight=None, gamma=0.0001, kernel=linear, random_state=21;, score=0.764 total time=   0.6s\n",
            "[CV 5/5] END C=1, class_weight=None, gamma=0.0001, kernel=linear, random_state=21;, score=0.807 total time=   0.6s\n",
            "[CV 1/5] END C=1, class_weight=None, gamma=0.0001, kernel=poly, random_state=21;, score=0.340 total time=   0.6s\n",
            "[CV 2/5] END C=1, class_weight=None, gamma=0.0001, kernel=poly, random_state=21;, score=0.340 total time=   0.6s\n",
            "[CV 3/5] END C=1, class_weight=None, gamma=0.0001, kernel=poly, random_state=21;, score=0.340 total time=   0.6s\n",
            "[CV 4/5] END C=1, class_weight=None, gamma=0.0001, kernel=poly, random_state=21;, score=0.340 total time=   0.6s\n",
            "[CV 5/5] END C=1, class_weight=None, gamma=0.0001, kernel=poly, random_state=21;, score=0.344 total time=   0.6s\n",
            "[CV 1/5] END C=1, class_weight=None, gamma=0.0001, kernel=rbf, random_state=21;, score=0.340 total time=   0.8s\n",
            "[CV 2/5] END C=1, class_weight=None, gamma=0.0001, kernel=rbf, random_state=21;, score=0.340 total time=   0.8s\n",
            "[CV 3/5] END C=1, class_weight=None, gamma=0.0001, kernel=rbf, random_state=21;, score=0.340 total time=   0.8s\n",
            "[CV 4/5] END C=1, class_weight=None, gamma=0.0001, kernel=rbf, random_state=21;, score=0.340 total time=   0.8s\n",
            "[CV 5/5] END C=1, class_weight=None, gamma=0.0001, kernel=rbf, random_state=21;, score=0.344 total time=   0.8s\n",
            "[CV 1/5] END C=1, class_weight=None, gamma=0.0001, kernel=sigmoid, random_state=21;, score=0.340 total time=   0.7s\n",
            "[CV 2/5] END C=1, class_weight=None, gamma=0.0001, kernel=sigmoid, random_state=21;, score=0.340 total time=   0.7s\n",
            "[CV 3/5] END C=1, class_weight=None, gamma=0.0001, kernel=sigmoid, random_state=21;, score=0.340 total time=   0.7s\n",
            "[CV 4/5] END C=1, class_weight=None, gamma=0.0001, kernel=sigmoid, random_state=21;, score=0.340 total time=   0.7s\n",
            "[CV 5/5] END C=1, class_weight=None, gamma=0.0001, kernel=sigmoid, random_state=21;, score=0.344 total time=   0.7s\n",
            "[CV 1/5] END C=1, class_weight=balanced, gamma=0.001, kernel=linear, random_state=21;, score=0.774 total time=   0.6s\n",
            "[CV 2/5] END C=1, class_weight=balanced, gamma=0.001, kernel=linear, random_state=21;, score=0.778 total time=   0.6s\n",
            "[CV 3/5] END C=1, class_weight=balanced, gamma=0.001, kernel=linear, random_state=21;, score=0.802 total time=   0.6s\n",
            "[CV 4/5] END C=1, class_weight=balanced, gamma=0.001, kernel=linear, random_state=21;, score=0.764 total time=   0.6s\n",
            "[CV 5/5] END C=1, class_weight=balanced, gamma=0.001, kernel=linear, random_state=21;, score=0.811 total time=   0.6s\n",
            "[CV 1/5] END C=1, class_weight=balanced, gamma=0.001, kernel=poly, random_state=21;, score=0.316 total time=   1.1s\n",
            "[CV 2/5] END C=1, class_weight=balanced, gamma=0.001, kernel=poly, random_state=21;, score=0.335 total time=   1.2s\n",
            "[CV 3/5] END C=1, class_weight=balanced, gamma=0.001, kernel=poly, random_state=21;, score=0.354 total time=   1.1s\n",
            "[CV 4/5] END C=1, class_weight=balanced, gamma=0.001, kernel=poly, random_state=21;, score=0.321 total time=   1.1s\n",
            "[CV 5/5] END C=1, class_weight=balanced, gamma=0.001, kernel=poly, random_state=21;, score=0.340 total time=   1.1s\n",
            "[CV 1/5] END C=1, class_weight=balanced, gamma=0.001, kernel=rbf, random_state=21;, score=0.340 total time=   1.2s\n",
            "[CV 2/5] END C=1, class_weight=balanced, gamma=0.001, kernel=rbf, random_state=21;, score=0.406 total time=   1.2s\n",
            "[CV 3/5] END C=1, class_weight=balanced, gamma=0.001, kernel=rbf, random_state=21;, score=0.363 total time=   1.2s\n",
            "[CV 4/5] END C=1, class_weight=balanced, gamma=0.001, kernel=rbf, random_state=21;, score=0.297 total time=   1.2s\n",
            "[CV 5/5] END C=1, class_weight=balanced, gamma=0.001, kernel=rbf, random_state=21;, score=0.344 total time=   1.3s\n",
            "[CV 1/5] END C=1, class_weight=balanced, gamma=0.001, kernel=sigmoid, random_state=21;, score=0.094 total time=   1.4s\n",
            "[CV 2/5] END C=1, class_weight=balanced, gamma=0.001, kernel=sigmoid, random_state=21;, score=0.151 total time=   1.3s\n",
            "[CV 3/5] END C=1, class_weight=balanced, gamma=0.001, kernel=sigmoid, random_state=21;, score=0.090 total time=   1.3s\n",
            "[CV 4/5] END C=1, class_weight=balanced, gamma=0.001, kernel=sigmoid, random_state=21;, score=0.085 total time=   1.3s\n",
            "[CV 5/5] END C=1, class_weight=balanced, gamma=0.001, kernel=sigmoid, random_state=21;, score=0.387 total time=   1.4s\n",
            "[CV 1/5] END C=1, class_weight=balanced, gamma=0.0001, kernel=linear, random_state=21;, score=0.774 total time=   0.6s\n",
            "[CV 2/5] END C=1, class_weight=balanced, gamma=0.0001, kernel=linear, random_state=21;, score=0.778 total time=   0.6s\n",
            "[CV 3/5] END C=1, class_weight=balanced, gamma=0.0001, kernel=linear, random_state=21;, score=0.802 total time=   0.6s\n",
            "[CV 4/5] END C=1, class_weight=balanced, gamma=0.0001, kernel=linear, random_state=21;, score=0.764 total time=   0.6s\n",
            "[CV 5/5] END C=1, class_weight=balanced, gamma=0.0001, kernel=linear, random_state=21;, score=0.811 total time=   0.5s\n",
            "[CV 1/5] END C=1, class_weight=balanced, gamma=0.0001, kernel=poly, random_state=21;, score=0.071 total time=   1.2s\n",
            "[CV 2/5] END C=1, class_weight=balanced, gamma=0.0001, kernel=poly, random_state=21;, score=0.151 total time=   1.3s\n",
            "[CV 3/5] END C=1, class_weight=balanced, gamma=0.0001, kernel=poly, random_state=21;, score=0.033 total time=   1.2s\n",
            "[CV 4/5] END C=1, class_weight=balanced, gamma=0.0001, kernel=poly, random_state=21;, score=0.033 total time=   1.5s\n",
            "[CV 5/5] END C=1, class_weight=balanced, gamma=0.0001, kernel=poly, random_state=21;, score=0.344 total time=   1.4s\n",
            "[CV 1/5] END C=1, class_weight=balanced, gamma=0.0001, kernel=rbf, random_state=21;, score=0.085 total time=   1.4s\n",
            "[CV 2/5] END C=1, class_weight=balanced, gamma=0.0001, kernel=rbf, random_state=21;, score=0.175 total time=   1.4s\n",
            "[CV 3/5] END C=1, class_weight=balanced, gamma=0.0001, kernel=rbf, random_state=21;, score=0.061 total time=   1.4s\n",
            "[CV 4/5] END C=1, class_weight=balanced, gamma=0.0001, kernel=rbf, random_state=21;, score=0.066 total time=   1.3s\n",
            "[CV 5/5] END C=1, class_weight=balanced, gamma=0.0001, kernel=rbf, random_state=21;, score=0.340 total time=   1.4s\n",
            "[CV 1/5] END C=1, class_weight=balanced, gamma=0.0001, kernel=sigmoid, random_state=21;, score=0.094 total time=   1.4s\n",
            "[CV 2/5] END C=1, class_weight=balanced, gamma=0.0001, kernel=sigmoid, random_state=21;, score=0.160 total time=   1.3s\n",
            "[CV 3/5] END C=1, class_weight=balanced, gamma=0.0001, kernel=sigmoid, random_state=21;, score=0.052 total time=   1.3s\n",
            "[CV 4/5] END C=1, class_weight=balanced, gamma=0.0001, kernel=sigmoid, random_state=21;, score=0.042 total time=   1.3s\n",
            "[CV 5/5] END C=1, class_weight=balanced, gamma=0.0001, kernel=sigmoid, random_state=21;, score=0.358 total time=   1.3s\n",
            "[CV 1/5] END C=10, class_weight=None, gamma=0.001, kernel=linear, random_state=21;, score=0.774 total time=   0.6s\n",
            "[CV 2/5] END C=10, class_weight=None, gamma=0.001, kernel=linear, random_state=21;, score=0.778 total time=   0.6s\n",
            "[CV 3/5] END C=10, class_weight=None, gamma=0.001, kernel=linear, random_state=21;, score=0.797 total time=   0.6s\n",
            "[CV 4/5] END C=10, class_weight=None, gamma=0.001, kernel=linear, random_state=21;, score=0.764 total time=   0.5s\n",
            "[CV 5/5] END C=10, class_weight=None, gamma=0.001, kernel=linear, random_state=21;, score=0.807 total time=   0.6s\n",
            "[CV 1/5] END C=10, class_weight=None, gamma=0.001, kernel=poly, random_state=21;, score=0.679 total time=   0.6s\n",
            "[CV 2/5] END C=10, class_weight=None, gamma=0.001, kernel=poly, random_state=21;, score=0.665 total time=   0.6s\n",
            "[CV 3/5] END C=10, class_weight=None, gamma=0.001, kernel=poly, random_state=21;, score=0.693 total time=   0.6s\n",
            "[CV 4/5] END C=10, class_weight=None, gamma=0.001, kernel=poly, random_state=21;, score=0.651 total time=   0.6s\n",
            "[CV 5/5] END C=10, class_weight=None, gamma=0.001, kernel=poly, random_state=21;, score=0.693 total time=   0.6s\n",
            "[CV 1/5] END C=10, class_weight=None, gamma=0.001, kernel=rbf, random_state=21;, score=0.736 total time=   0.7s\n",
            "[CV 2/5] END C=10, class_weight=None, gamma=0.001, kernel=rbf, random_state=21;, score=0.717 total time=   0.7s\n",
            "[CV 3/5] END C=10, class_weight=None, gamma=0.001, kernel=rbf, random_state=21;, score=0.741 total time=   0.7s\n",
            "[CV 4/5] END C=10, class_weight=None, gamma=0.001, kernel=rbf, random_state=21;, score=0.670 total time=   0.6s\n",
            "[CV 5/5] END C=10, class_weight=None, gamma=0.001, kernel=rbf, random_state=21;, score=0.712 total time=   0.7s\n",
            "[CV 1/5] END C=10, class_weight=None, gamma=0.001, kernel=sigmoid, random_state=21;, score=0.387 total time=   0.6s\n",
            "[CV 2/5] END C=10, class_weight=None, gamma=0.001, kernel=sigmoid, random_state=21;, score=0.406 total time=   0.6s\n",
            "[CV 3/5] END C=10, class_weight=None, gamma=0.001, kernel=sigmoid, random_state=21;, score=0.401 total time=   0.6s\n",
            "[CV 4/5] END C=10, class_weight=None, gamma=0.001, kernel=sigmoid, random_state=21;, score=0.420 total time=   0.6s\n",
            "[CV 5/5] END C=10, class_weight=None, gamma=0.001, kernel=sigmoid, random_state=21;, score=0.410 total time=   0.6s\n",
            "[CV 1/5] END C=10, class_weight=None, gamma=0.0001, kernel=linear, random_state=21;, score=0.774 total time=   0.6s\n",
            "[CV 2/5] END C=10, class_weight=None, gamma=0.0001, kernel=linear, random_state=21;, score=0.778 total time=   0.6s\n",
            "[CV 3/5] END C=10, class_weight=None, gamma=0.0001, kernel=linear, random_state=21;, score=0.797 total time=   0.6s\n",
            "[CV 4/5] END C=10, class_weight=None, gamma=0.0001, kernel=linear, random_state=21;, score=0.764 total time=   0.5s\n",
            "[CV 5/5] END C=10, class_weight=None, gamma=0.0001, kernel=linear, random_state=21;, score=0.807 total time=   0.5s\n",
            "[CV 1/5] END C=10, class_weight=None, gamma=0.0001, kernel=poly, random_state=21;, score=0.340 total time=   0.7s\n",
            "[CV 2/5] END C=10, class_weight=None, gamma=0.0001, kernel=poly, random_state=21;, score=0.340 total time=   0.7s\n",
            "[CV 3/5] END C=10, class_weight=None, gamma=0.0001, kernel=poly, random_state=21;, score=0.340 total time=   0.7s\n",
            "[CV 4/5] END C=10, class_weight=None, gamma=0.0001, kernel=poly, random_state=21;, score=0.340 total time=   0.7s\n",
            "[CV 5/5] END C=10, class_weight=None, gamma=0.0001, kernel=poly, random_state=21;, score=0.344 total time=   0.7s\n",
            "[CV 1/5] END C=10, class_weight=None, gamma=0.0001, kernel=rbf, random_state=21;, score=0.392 total time=   0.7s\n",
            "[CV 2/5] END C=10, class_weight=None, gamma=0.0001, kernel=rbf, random_state=21;, score=0.406 total time=   0.7s\n",
            "[CV 3/5] END C=10, class_weight=None, gamma=0.0001, kernel=rbf, random_state=21;, score=0.401 total time=   0.8s\n",
            "[CV 4/5] END C=10, class_weight=None, gamma=0.0001, kernel=rbf, random_state=21;, score=0.420 total time=   0.7s\n",
            "[CV 5/5] END C=10, class_weight=None, gamma=0.0001, kernel=rbf, random_state=21;, score=0.406 total time=   0.9s\n",
            "[CV 1/5] END C=10, class_weight=None, gamma=0.0001, kernel=sigmoid, random_state=21;, score=0.349 total time=   0.8s\n",
            "[CV 2/5] END C=10, class_weight=None, gamma=0.0001, kernel=sigmoid, random_state=21;, score=0.349 total time=   0.7s\n",
            "[CV 3/5] END C=10, class_weight=None, gamma=0.0001, kernel=sigmoid, random_state=21;, score=0.344 total time=   0.8s\n",
            "[CV 4/5] END C=10, class_weight=None, gamma=0.0001, kernel=sigmoid, random_state=21;, score=0.349 total time=   0.8s\n",
            "[CV 5/5] END C=10, class_weight=None, gamma=0.0001, kernel=sigmoid, random_state=21;, score=0.354 total time=   0.7s\n",
            "[CV 1/5] END C=10, class_weight=balanced, gamma=0.001, kernel=linear, random_state=21;, score=0.774 total time=   0.6s\n",
            "[CV 2/5] END C=10, class_weight=balanced, gamma=0.001, kernel=linear, random_state=21;, score=0.778 total time=   0.6s\n",
            "[CV 3/5] END C=10, class_weight=balanced, gamma=0.001, kernel=linear, random_state=21;, score=0.797 total time=   0.6s\n",
            "[CV 4/5] END C=10, class_weight=balanced, gamma=0.001, kernel=linear, random_state=21;, score=0.764 total time=   0.5s\n",
            "[CV 5/5] END C=10, class_weight=balanced, gamma=0.001, kernel=linear, random_state=21;, score=0.807 total time=   0.6s\n",
            "[CV 1/5] END C=10, class_weight=balanced, gamma=0.001, kernel=poly, random_state=21;, score=0.693 total time=   0.8s\n",
            "[CV 2/5] END C=10, class_weight=balanced, gamma=0.001, kernel=poly, random_state=21;, score=0.651 total time=   0.8s\n",
            "[CV 3/5] END C=10, class_weight=balanced, gamma=0.001, kernel=poly, random_state=21;, score=0.717 total time=   0.8s\n",
            "[CV 4/5] END C=10, class_weight=balanced, gamma=0.001, kernel=poly, random_state=21;, score=0.599 total time=   0.8s\n",
            "[CV 5/5] END C=10, class_weight=balanced, gamma=0.001, kernel=poly, random_state=21;, score=0.712 total time=   0.8s\n",
            "[CV 1/5] END C=10, class_weight=balanced, gamma=0.001, kernel=rbf, random_state=21;, score=0.741 total time=   0.8s\n",
            "[CV 2/5] END C=10, class_weight=balanced, gamma=0.001, kernel=rbf, random_state=21;, score=0.736 total time=   0.9s\n",
            "[CV 3/5] END C=10, class_weight=balanced, gamma=0.001, kernel=rbf, random_state=21;, score=0.774 total time=   0.9s\n",
            "[CV 4/5] END C=10, class_weight=balanced, gamma=0.001, kernel=rbf, random_state=21;, score=0.717 total time=   0.8s\n",
            "[CV 5/5] END C=10, class_weight=balanced, gamma=0.001, kernel=rbf, random_state=21;, score=0.769 total time=   0.9s\n",
            "[CV 1/5] END C=10, class_weight=balanced, gamma=0.001, kernel=sigmoid, random_state=21;, score=0.486 total time=   1.0s\n",
            "[CV 2/5] END C=10, class_weight=balanced, gamma=0.001, kernel=sigmoid, random_state=21;, score=0.514 total time=   1.0s\n",
            "[CV 3/5] END C=10, class_weight=balanced, gamma=0.001, kernel=sigmoid, random_state=21;, score=0.486 total time=   1.0s\n",
            "[CV 4/5] END C=10, class_weight=balanced, gamma=0.001, kernel=sigmoid, random_state=21;, score=0.434 total time=   1.0s\n",
            "[CV 5/5] END C=10, class_weight=balanced, gamma=0.001, kernel=sigmoid, random_state=21;, score=0.500 total time=   1.0s\n",
            "[CV 1/5] END C=10, class_weight=balanced, gamma=0.0001, kernel=linear, random_state=21;, score=0.774 total time=   0.7s\n",
            "[CV 2/5] END C=10, class_weight=balanced, gamma=0.0001, kernel=linear, random_state=21;, score=0.778 total time=   0.6s\n",
            "[CV 3/5] END C=10, class_weight=balanced, gamma=0.0001, kernel=linear, random_state=21;, score=0.797 total time=   0.6s\n",
            "[CV 4/5] END C=10, class_weight=balanced, gamma=0.0001, kernel=linear, random_state=21;, score=0.764 total time=   0.6s\n",
            "[CV 5/5] END C=10, class_weight=balanced, gamma=0.0001, kernel=linear, random_state=21;, score=0.807 total time=   0.6s\n",
            "[CV 1/5] END C=10, class_weight=balanced, gamma=0.0001, kernel=poly, random_state=21;, score=0.038 total time=   1.3s\n",
            "[CV 2/5] END C=10, class_weight=balanced, gamma=0.0001, kernel=poly, random_state=21;, score=0.156 total time=   1.3s\n",
            "[CV 3/5] END C=10, class_weight=balanced, gamma=0.0001, kernel=poly, random_state=21;, score=0.033 total time=   1.3s\n",
            "[CV 4/5] END C=10, class_weight=balanced, gamma=0.0001, kernel=poly, random_state=21;, score=0.033 total time=   1.3s\n",
            "[CV 5/5] END C=10, class_weight=balanced, gamma=0.0001, kernel=poly, random_state=21;, score=0.033 total time=   1.3s\n",
            "[CV 1/5] END C=10, class_weight=balanced, gamma=0.0001, kernel=rbf, random_state=21;, score=0.358 total time=   1.2s\n",
            "[CV 2/5] END C=10, class_weight=balanced, gamma=0.0001, kernel=rbf, random_state=21;, score=0.420 total time=   1.2s\n",
            "[CV 3/5] END C=10, class_weight=balanced, gamma=0.0001, kernel=rbf, random_state=21;, score=0.387 total time=   1.2s\n",
            "[CV 4/5] END C=10, class_weight=balanced, gamma=0.0001, kernel=rbf, random_state=21;, score=0.311 total time=   1.2s\n",
            "[CV 5/5] END C=10, class_weight=balanced, gamma=0.0001, kernel=rbf, random_state=21;, score=0.368 total time=   1.3s\n",
            "[CV 1/5] END C=10, class_weight=balanced, gamma=0.0001, kernel=sigmoid, random_state=21;, score=0.212 total time=   1.3s\n",
            "[CV 2/5] END C=10, class_weight=balanced, gamma=0.0001, kernel=sigmoid, random_state=21;, score=0.222 total time=   1.3s\n",
            "[CV 3/5] END C=10, class_weight=balanced, gamma=0.0001, kernel=sigmoid, random_state=21;, score=0.226 total time=   1.2s\n",
            "[CV 4/5] END C=10, class_weight=balanced, gamma=0.0001, kernel=sigmoid, random_state=21;, score=0.156 total time=   1.2s\n",
            "[CV 5/5] END C=10, class_weight=balanced, gamma=0.0001, kernel=sigmoid, random_state=21;, score=0.203 total time=   1.2s\n",
            "[CV 1/5] END C=100, class_weight=None, gamma=0.001, kernel=linear, random_state=21;, score=0.774 total time=   0.6s\n",
            "[CV 2/5] END C=100, class_weight=None, gamma=0.001, kernel=linear, random_state=21;, score=0.778 total time=   0.6s\n",
            "[CV 3/5] END C=100, class_weight=None, gamma=0.001, kernel=linear, random_state=21;, score=0.797 total time=   0.6s\n",
            "[CV 4/5] END C=100, class_weight=None, gamma=0.001, kernel=linear, random_state=21;, score=0.764 total time=   0.5s\n",
            "[CV 5/5] END C=100, class_weight=None, gamma=0.001, kernel=linear, random_state=21;, score=0.807 total time=   0.5s\n",
            "[CV 1/5] END C=100, class_weight=None, gamma=0.001, kernel=poly, random_state=21;, score=0.759 total time=   0.6s\n",
            "[CV 2/5] END C=100, class_weight=None, gamma=0.001, kernel=poly, random_state=21;, score=0.750 total time=   0.6s\n",
            "[CV 3/5] END C=100, class_weight=None, gamma=0.001, kernel=poly, random_state=21;, score=0.783 total time=   0.6s\n",
            "[CV 4/5] END C=100, class_weight=None, gamma=0.001, kernel=poly, random_state=21;, score=0.736 total time=   0.5s\n",
            "[CV 5/5] END C=100, class_weight=None, gamma=0.001, kernel=poly, random_state=21;, score=0.764 total time=   0.6s\n",
            "[CV 1/5] END C=100, class_weight=None, gamma=0.001, kernel=rbf, random_state=21;, score=0.797 total time=   0.6s\n",
            "[CV 2/5] END C=100, class_weight=None, gamma=0.001, kernel=rbf, random_state=21;, score=0.797 total time=   0.6s\n",
            "[CV 3/5] END C=100, class_weight=None, gamma=0.001, kernel=rbf, random_state=21;, score=0.821 total time=   0.6s\n",
            "[CV 4/5] END C=100, class_weight=None, gamma=0.001, kernel=rbf, random_state=21;, score=0.741 total time=   0.6s\n",
            "[CV 5/5] END C=100, class_weight=None, gamma=0.001, kernel=rbf, random_state=21;, score=0.802 total time=   0.6s\n",
            "[CV 1/5] END C=100, class_weight=None, gamma=0.001, kernel=sigmoid, random_state=21;, score=0.448 total time=   0.5s\n",
            "[CV 2/5] END C=100, class_weight=None, gamma=0.001, kernel=sigmoid, random_state=21;, score=0.443 total time=   0.5s\n",
            "[CV 3/5] END C=100, class_weight=None, gamma=0.001, kernel=sigmoid, random_state=21;, score=0.462 total time=   0.5s\n",
            "[CV 4/5] END C=100, class_weight=None, gamma=0.001, kernel=sigmoid, random_state=21;, score=0.443 total time=   0.4s\n",
            "[CV 5/5] END C=100, class_weight=None, gamma=0.001, kernel=sigmoid, random_state=21;, score=0.396 total time=   0.4s\n",
            "[CV 1/5] END C=100, class_weight=None, gamma=0.0001, kernel=linear, random_state=21;, score=0.774 total time=   0.6s\n",
            "[CV 2/5] END C=100, class_weight=None, gamma=0.0001, kernel=linear, random_state=21;, score=0.778 total time=   0.6s\n",
            "[CV 3/5] END C=100, class_weight=None, gamma=0.0001, kernel=linear, random_state=21;, score=0.797 total time=   0.6s\n",
            "[CV 4/5] END C=100, class_weight=None, gamma=0.0001, kernel=linear, random_state=21;, score=0.764 total time=   0.5s\n",
            "[CV 5/5] END C=100, class_weight=None, gamma=0.0001, kernel=linear, random_state=21;, score=0.807 total time=   0.5s\n",
            "[CV 1/5] END C=100, class_weight=None, gamma=0.0001, kernel=poly, random_state=21;, score=0.340 total time=   0.7s\n",
            "[CV 2/5] END C=100, class_weight=None, gamma=0.0001, kernel=poly, random_state=21;, score=0.340 total time=   0.7s\n",
            "[CV 3/5] END C=100, class_weight=None, gamma=0.0001, kernel=poly, random_state=21;, score=0.340 total time=   0.7s\n",
            "[CV 4/5] END C=100, class_weight=None, gamma=0.0001, kernel=poly, random_state=21;, score=0.340 total time=   0.7s\n",
            "[CV 5/5] END C=100, class_weight=None, gamma=0.0001, kernel=poly, random_state=21;, score=0.344 total time=   0.7s\n",
            "[CV 1/5] END C=100, class_weight=None, gamma=0.0001, kernel=rbf, random_state=21;, score=0.736 total time=   0.6s\n",
            "[CV 2/5] END C=100, class_weight=None, gamma=0.0001, kernel=rbf, random_state=21;, score=0.731 total time=   0.6s\n",
            "[CV 3/5] END C=100, class_weight=None, gamma=0.0001, kernel=rbf, random_state=21;, score=0.755 total time=   0.6s\n",
            "[CV 4/5] END C=100, class_weight=None, gamma=0.0001, kernel=rbf, random_state=21;, score=0.679 total time=   0.6s\n",
            "[CV 5/5] END C=100, class_weight=None, gamma=0.0001, kernel=rbf, random_state=21;, score=0.731 total time=   0.6s\n",
            "[CV 1/5] END C=100, class_weight=None, gamma=0.0001, kernel=sigmoid, random_state=21;, score=0.608 total time=   0.6s\n",
            "[CV 2/5] END C=100, class_weight=None, gamma=0.0001, kernel=sigmoid, random_state=21;, score=0.627 total time=   0.6s\n",
            "[CV 3/5] END C=100, class_weight=None, gamma=0.0001, kernel=sigmoid, random_state=21;, score=0.637 total time=   0.6s\n",
            "[CV 4/5] END C=100, class_weight=None, gamma=0.0001, kernel=sigmoid, random_state=21;, score=0.608 total time=   0.6s\n",
            "[CV 5/5] END C=100, class_weight=None, gamma=0.0001, kernel=sigmoid, random_state=21;, score=0.623 total time=   0.6s\n",
            "[CV 1/5] END C=100, class_weight=balanced, gamma=0.001, kernel=linear, random_state=21;, score=0.774 total time=   0.6s\n",
            "[CV 2/5] END C=100, class_weight=balanced, gamma=0.001, kernel=linear, random_state=21;, score=0.778 total time=   0.5s\n",
            "[CV 3/5] END C=100, class_weight=balanced, gamma=0.001, kernel=linear, random_state=21;, score=0.797 total time=   0.6s\n",
            "[CV 4/5] END C=100, class_weight=balanced, gamma=0.001, kernel=linear, random_state=21;, score=0.764 total time=   0.5s\n",
            "[CV 5/5] END C=100, class_weight=balanced, gamma=0.001, kernel=linear, random_state=21;, score=0.807 total time=   0.5s\n",
            "[CV 1/5] END C=100, class_weight=balanced, gamma=0.001, kernel=poly, random_state=21;, score=0.755 total time=   0.6s\n",
            "[CV 2/5] END C=100, class_weight=balanced, gamma=0.001, kernel=poly, random_state=21;, score=0.755 total time=   0.6s\n",
            "[CV 3/5] END C=100, class_weight=balanced, gamma=0.001, kernel=poly, random_state=21;, score=0.783 total time=   0.6s\n",
            "[CV 4/5] END C=100, class_weight=balanced, gamma=0.001, kernel=poly, random_state=21;, score=0.731 total time=   0.6s\n",
            "[CV 5/5] END C=100, class_weight=balanced, gamma=0.001, kernel=poly, random_state=21;, score=0.774 total time=   0.6s\n",
            "[CV 1/5] END C=100, class_weight=balanced, gamma=0.001, kernel=rbf, random_state=21;, score=0.816 total time=   0.6s\n",
            "[CV 2/5] END C=100, class_weight=balanced, gamma=0.001, kernel=rbf, random_state=21;, score=0.788 total time=   0.6s\n",
            "[CV 3/5] END C=100, class_weight=balanced, gamma=0.001, kernel=rbf, random_state=21;, score=0.825 total time=   0.6s\n",
            "[CV 4/5] END C=100, class_weight=balanced, gamma=0.001, kernel=rbf, random_state=21;, score=0.750 total time=   0.6s\n",
            "[CV 5/5] END C=100, class_weight=balanced, gamma=0.001, kernel=rbf, random_state=21;, score=0.797 total time=   0.6s\n",
            "[CV 1/5] END C=100, class_weight=balanced, gamma=0.001, kernel=sigmoid, random_state=21;, score=0.330 total time=   0.5s\n",
            "[CV 2/5] END C=100, class_weight=balanced, gamma=0.001, kernel=sigmoid, random_state=21;, score=0.325 total time=   0.6s\n",
            "[CV 3/5] END C=100, class_weight=balanced, gamma=0.001, kernel=sigmoid, random_state=21;, score=0.307 total time=   0.6s\n",
            "[CV 4/5] END C=100, class_weight=balanced, gamma=0.001, kernel=sigmoid, random_state=21;, score=0.274 total time=   0.5s\n",
            "[CV 5/5] END C=100, class_weight=balanced, gamma=0.001, kernel=sigmoid, random_state=21;, score=0.377 total time=   0.5s\n",
            "[CV 1/5] END C=100, class_weight=balanced, gamma=0.0001, kernel=linear, random_state=21;, score=0.774 total time=   0.6s\n",
            "[CV 2/5] END C=100, class_weight=balanced, gamma=0.0001, kernel=linear, random_state=21;, score=0.778 total time=   0.6s\n",
            "[CV 3/5] END C=100, class_weight=balanced, gamma=0.0001, kernel=linear, random_state=21;, score=0.797 total time=   0.5s\n",
            "[CV 4/5] END C=100, class_weight=balanced, gamma=0.0001, kernel=linear, random_state=21;, score=0.764 total time=   0.5s\n",
            "[CV 5/5] END C=100, class_weight=balanced, gamma=0.0001, kernel=linear, random_state=21;, score=0.807 total time=   0.5s\n",
            "[CV 1/5] END C=100, class_weight=balanced, gamma=0.0001, kernel=poly, random_state=21;, score=0.108 total time=   1.3s\n",
            "[CV 2/5] END C=100, class_weight=balanced, gamma=0.0001, kernel=poly, random_state=21;, score=0.099 total time=   1.3s\n",
            "[CV 3/5] END C=100, class_weight=balanced, gamma=0.0001, kernel=poly, random_state=21;, score=0.066 total time=   1.2s\n",
            "[CV 4/5] END C=100, class_weight=balanced, gamma=0.0001, kernel=poly, random_state=21;, score=0.108 total time=   1.2s\n",
            "[CV 5/5] END C=100, class_weight=balanced, gamma=0.0001, kernel=poly, random_state=21;, score=0.066 total time=   1.2s\n",
            "[CV 1/5] END C=100, class_weight=balanced, gamma=0.0001, kernel=rbf, random_state=21;, score=0.741 total time=   0.8s\n",
            "[CV 2/5] END C=100, class_weight=balanced, gamma=0.0001, kernel=rbf, random_state=21;, score=0.717 total time=   0.8s\n",
            "[CV 3/5] END C=100, class_weight=balanced, gamma=0.0001, kernel=rbf, random_state=21;, score=0.792 total time=   0.8s\n",
            "[CV 4/5] END C=100, class_weight=balanced, gamma=0.0001, kernel=rbf, random_state=21;, score=0.717 total time=   0.8s\n",
            "[CV 5/5] END C=100, class_weight=balanced, gamma=0.0001, kernel=rbf, random_state=21;, score=0.778 total time=   0.8s\n",
            "[CV 1/5] END C=100, class_weight=balanced, gamma=0.0001, kernel=sigmoid, random_state=21;, score=0.689 total time=   0.9s\n",
            "[CV 2/5] END C=100, class_weight=balanced, gamma=0.0001, kernel=sigmoid, random_state=21;, score=0.651 total time=   0.9s\n",
            "[CV 3/5] END C=100, class_weight=balanced, gamma=0.0001, kernel=sigmoid, random_state=21;, score=0.712 total time=   0.9s\n",
            "[CV 4/5] END C=100, class_weight=balanced, gamma=0.0001, kernel=sigmoid, random_state=21;, score=0.594 total time=   0.9s\n",
            "[CV 5/5] END C=100, class_weight=balanced, gamma=0.0001, kernel=sigmoid, random_state=21;, score=0.698 total time=   0.9s\n",
            "[CV 1/5] END C=1000, class_weight=None, gamma=0.001, kernel=linear, random_state=21;, score=0.774 total time=   0.6s\n",
            "[CV 2/5] END C=1000, class_weight=None, gamma=0.001, kernel=linear, random_state=21;, score=0.778 total time=   0.6s\n",
            "[CV 3/5] END C=1000, class_weight=None, gamma=0.001, kernel=linear, random_state=21;, score=0.797 total time=   0.6s\n",
            "[CV 4/5] END C=1000, class_weight=None, gamma=0.001, kernel=linear, random_state=21;, score=0.764 total time=   0.5s\n",
            "[CV 5/5] END C=1000, class_weight=None, gamma=0.001, kernel=linear, random_state=21;, score=0.807 total time=   0.6s\n",
            "[CV 1/5] END C=1000, class_weight=None, gamma=0.001, kernel=poly, random_state=21;, score=0.745 total time=   0.6s\n",
            "[CV 2/5] END C=1000, class_weight=None, gamma=0.001, kernel=poly, random_state=21;, score=0.755 total time=   0.6s\n",
            "[CV 3/5] END C=1000, class_weight=None, gamma=0.001, kernel=poly, random_state=21;, score=0.769 total time=   0.6s\n",
            "[CV 4/5] END C=1000, class_weight=None, gamma=0.001, kernel=poly, random_state=21;, score=0.712 total time=   0.5s\n",
            "[CV 5/5] END C=1000, class_weight=None, gamma=0.001, kernel=poly, random_state=21;, score=0.792 total time=   0.5s\n",
            "[CV 1/5] END C=1000, class_weight=None, gamma=0.001, kernel=rbf, random_state=21;, score=0.802 total time=   0.6s\n",
            "[CV 2/5] END C=1000, class_weight=None, gamma=0.001, kernel=rbf, random_state=21;, score=0.797 total time=   0.6s\n",
            "[CV 3/5] END C=1000, class_weight=None, gamma=0.001, kernel=rbf, random_state=21;, score=0.816 total time=   0.6s\n",
            "[CV 4/5] END C=1000, class_weight=None, gamma=0.001, kernel=rbf, random_state=21;, score=0.741 total time=   0.6s\n",
            "[CV 5/5] END C=1000, class_weight=None, gamma=0.001, kernel=rbf, random_state=21;, score=0.807 total time=   0.6s\n",
            "[CV 1/5] END C=1000, class_weight=None, gamma=0.001, kernel=sigmoid, random_state=21;, score=0.344 total time=   0.4s\n",
            "[CV 2/5] END C=1000, class_weight=None, gamma=0.001, kernel=sigmoid, random_state=21;, score=0.396 total time=   0.4s\n",
            "[CV 3/5] END C=1000, class_weight=None, gamma=0.001, kernel=sigmoid, random_state=21;, score=0.415 total time=   0.4s\n",
            "[CV 4/5] END C=1000, class_weight=None, gamma=0.001, kernel=sigmoid, random_state=21;, score=0.358 total time=   0.4s\n",
            "[CV 5/5] END C=1000, class_weight=None, gamma=0.001, kernel=sigmoid, random_state=21;, score=0.368 total time=   0.4s\n",
            "[CV 1/5] END C=1000, class_weight=None, gamma=0.0001, kernel=linear, random_state=21;, score=0.774 total time=   0.6s\n",
            "[CV 2/5] END C=1000, class_weight=None, gamma=0.0001, kernel=linear, random_state=21;, score=0.778 total time=   0.6s\n",
            "[CV 3/5] END C=1000, class_weight=None, gamma=0.0001, kernel=linear, random_state=21;, score=0.797 total time=   0.6s\n",
            "[CV 4/5] END C=1000, class_weight=None, gamma=0.0001, kernel=linear, random_state=21;, score=0.764 total time=   0.5s\n",
            "[CV 5/5] END C=1000, class_weight=None, gamma=0.0001, kernel=linear, random_state=21;, score=0.807 total time=   0.5s\n",
            "[CV 1/5] END C=1000, class_weight=None, gamma=0.0001, kernel=poly, random_state=21;, score=0.377 total time=   0.7s\n",
            "[CV 2/5] END C=1000, class_weight=None, gamma=0.0001, kernel=poly, random_state=21;, score=0.377 total time=   0.7s\n",
            "[CV 3/5] END C=1000, class_weight=None, gamma=0.0001, kernel=poly, random_state=21;, score=0.354 total time=   0.7s\n",
            "[CV 4/5] END C=1000, class_weight=None, gamma=0.0001, kernel=poly, random_state=21;, score=0.358 total time=   0.7s\n",
            "[CV 5/5] END C=1000, class_weight=None, gamma=0.0001, kernel=poly, random_state=21;, score=0.358 total time=   0.7s\n",
            "[CV 1/5] END C=1000, class_weight=None, gamma=0.0001, kernel=rbf, random_state=21;, score=0.774 total time=   0.6s\n",
            "[CV 2/5] END C=1000, class_weight=None, gamma=0.0001, kernel=rbf, random_state=21;, score=0.792 total time=   0.6s\n",
            "[CV 3/5] END C=1000, class_weight=None, gamma=0.0001, kernel=rbf, random_state=21;, score=0.816 total time=   0.6s\n",
            "[CV 4/5] END C=1000, class_weight=None, gamma=0.0001, kernel=rbf, random_state=21;, score=0.759 total time=   0.6s\n",
            "[CV 5/5] END C=1000, class_weight=None, gamma=0.0001, kernel=rbf, random_state=21;, score=0.802 total time=   0.6s\n",
            "[CV 1/5] END C=1000, class_weight=None, gamma=0.0001, kernel=sigmoid, random_state=21;, score=0.769 total time=   0.6s\n",
            "[CV 2/5] END C=1000, class_weight=None, gamma=0.0001, kernel=sigmoid, random_state=21;, score=0.769 total time=   0.5s\n",
            "[CV 3/5] END C=1000, class_weight=None, gamma=0.0001, kernel=sigmoid, random_state=21;, score=0.830 total time=   0.5s\n",
            "[CV 4/5] END C=1000, class_weight=None, gamma=0.0001, kernel=sigmoid, random_state=21;, score=0.774 total time=   0.5s\n",
            "[CV 5/5] END C=1000, class_weight=None, gamma=0.0001, kernel=sigmoid, random_state=21;, score=0.802 total time=   0.6s\n",
            "[CV 1/5] END C=1000, class_weight=balanced, gamma=0.001, kernel=linear, random_state=21;, score=0.774 total time=   0.6s\n",
            "[CV 2/5] END C=1000, class_weight=balanced, gamma=0.001, kernel=linear, random_state=21;, score=0.778 total time=   0.5s\n",
            "[CV 3/5] END C=1000, class_weight=balanced, gamma=0.001, kernel=linear, random_state=21;, score=0.797 total time=   0.6s\n",
            "[CV 4/5] END C=1000, class_weight=balanced, gamma=0.001, kernel=linear, random_state=21;, score=0.764 total time=   0.5s\n",
            "[CV 5/5] END C=1000, class_weight=balanced, gamma=0.001, kernel=linear, random_state=21;, score=0.807 total time=   0.5s\n",
            "[CV 1/5] END C=1000, class_weight=balanced, gamma=0.001, kernel=poly, random_state=21;, score=0.745 total time=   0.6s\n",
            "[CV 2/5] END C=1000, class_weight=balanced, gamma=0.001, kernel=poly, random_state=21;, score=0.755 total time=   0.5s\n",
            "[CV 3/5] END C=1000, class_weight=balanced, gamma=0.001, kernel=poly, random_state=21;, score=0.778 total time=   0.6s\n",
            "[CV 4/5] END C=1000, class_weight=balanced, gamma=0.001, kernel=poly, random_state=21;, score=0.712 total time=   0.5s\n",
            "[CV 5/5] END C=1000, class_weight=balanced, gamma=0.001, kernel=poly, random_state=21;, score=0.788 total time=   0.5s\n",
            "[CV 1/5] END C=1000, class_weight=balanced, gamma=0.001, kernel=rbf, random_state=21;, score=0.802 total time=   0.6s\n",
            "[CV 2/5] END C=1000, class_weight=balanced, gamma=0.001, kernel=rbf, random_state=21;, score=0.797 total time=   0.6s\n",
            "[CV 3/5] END C=1000, class_weight=balanced, gamma=0.001, kernel=rbf, random_state=21;, score=0.816 total time=   0.6s\n",
            "[CV 4/5] END C=1000, class_weight=balanced, gamma=0.001, kernel=rbf, random_state=21;, score=0.741 total time=   0.6s\n",
            "[CV 5/5] END C=1000, class_weight=balanced, gamma=0.001, kernel=rbf, random_state=21;, score=0.807 total time=   0.6s\n",
            "[CV 1/5] END C=1000, class_weight=balanced, gamma=0.001, kernel=sigmoid, random_state=21;, score=0.269 total time=   0.5s\n",
            "[CV 2/5] END C=1000, class_weight=balanced, gamma=0.001, kernel=sigmoid, random_state=21;, score=0.302 total time=   0.5s\n",
            "[CV 3/5] END C=1000, class_weight=balanced, gamma=0.001, kernel=sigmoid, random_state=21;, score=0.274 total time=   0.5s\n",
            "[CV 4/5] END C=1000, class_weight=balanced, gamma=0.001, kernel=sigmoid, random_state=21;, score=0.245 total time=   0.5s\n",
            "[CV 5/5] END C=1000, class_weight=balanced, gamma=0.001, kernel=sigmoid, random_state=21;, score=0.392 total time=   0.4s\n",
            "[CV 1/5] END C=1000, class_weight=balanced, gamma=0.0001, kernel=linear, random_state=21;, score=0.774 total time=   0.6s\n",
            "[CV 2/5] END C=1000, class_weight=balanced, gamma=0.0001, kernel=linear, random_state=21;, score=0.778 total time=   0.5s\n",
            "[CV 3/5] END C=1000, class_weight=balanced, gamma=0.0001, kernel=linear, random_state=21;, score=0.797 total time=   0.6s\n",
            "[CV 4/5] END C=1000, class_weight=balanced, gamma=0.0001, kernel=linear, random_state=21;, score=0.764 total time=   0.5s\n",
            "[CV 5/5] END C=1000, class_weight=balanced, gamma=0.0001, kernel=linear, random_state=21;, score=0.807 total time=   0.5s\n",
            "[CV 1/5] END C=1000, class_weight=balanced, gamma=0.0001, kernel=poly, random_state=21;, score=0.316 total time=   1.1s\n",
            "[CV 2/5] END C=1000, class_weight=balanced, gamma=0.0001, kernel=poly, random_state=21;, score=0.335 total time=   1.1s\n",
            "[CV 3/5] END C=1000, class_weight=balanced, gamma=0.0001, kernel=poly, random_state=21;, score=0.354 total time=   1.1s\n",
            "[CV 4/5] END C=1000, class_weight=balanced, gamma=0.0001, kernel=poly, random_state=21;, score=0.316 total time=   1.1s\n",
            "[CV 5/5] END C=1000, class_weight=balanced, gamma=0.0001, kernel=poly, random_state=21;, score=0.340 total time=   1.1s\n",
            "[CV 1/5] END C=1000, class_weight=balanced, gamma=0.0001, kernel=rbf, random_state=21;, score=0.778 total time=   0.6s\n",
            "[CV 2/5] END C=1000, class_weight=balanced, gamma=0.0001, kernel=rbf, random_state=21;, score=0.778 total time=   0.6s\n",
            "[CV 3/5] END C=1000, class_weight=balanced, gamma=0.0001, kernel=rbf, random_state=21;, score=0.821 total time=   0.6s\n",
            "[CV 4/5] END C=1000, class_weight=balanced, gamma=0.0001, kernel=rbf, random_state=21;, score=0.764 total time=   0.7s\n",
            "[CV 5/5] END C=1000, class_weight=balanced, gamma=0.0001, kernel=rbf, random_state=21;, score=0.802 total time=   0.6s\n",
            "[CV 1/5] END C=1000, class_weight=balanced, gamma=0.0001, kernel=sigmoid, random_state=21;, score=0.769 total time=   0.6s\n",
            "[CV 2/5] END C=1000, class_weight=balanced, gamma=0.0001, kernel=sigmoid, random_state=21;, score=0.764 total time=   0.6s\n",
            "[CV 3/5] END C=1000, class_weight=balanced, gamma=0.0001, kernel=sigmoid, random_state=21;, score=0.840 total time=   0.6s\n",
            "[CV 4/5] END C=1000, class_weight=balanced, gamma=0.0001, kernel=sigmoid, random_state=21;, score=0.759 total time=   0.6s\n",
            "[CV 5/5] END C=1000, class_weight=balanced, gamma=0.0001, kernel=sigmoid, random_state=21;, score=0.821 total time=   0.6s\n"
          ]
        },
        {
          "data": {
            "text/plain": [
              "{'C': 100,\n",
              " 'class_weight': 'balanced',\n",
              " 'gamma': 0.001,\n",
              " 'kernel': 'rbf',\n",
              " 'random_state': 21}"
            ]
          },
          "execution_count": 294,
          "metadata": {},
          "output_type": "execute_result"
        }
      ],
      "source": [
        "cv.fit(X_train, y_train)\n",
        "cv.best_params_"
      ]
    },
    {
      "cell_type": "markdown",
      "metadata": {
        "id": "1owOotVmZi3C"
      },
      "source": [
        "Выполните предсказание для тестовых данных при помощи лучшей полученной модели. Вычислите <code>f1_score(average='weighted')</code>."
      ]
    },
    {
      "cell_type": "code",
      "execution_count": 297,
      "metadata": {
        "id": "OHlPZdMjFxZU"
      },
      "outputs": [
        {
          "data": {
            "text/plain": [
              "0.7806498358908797"
            ]
          },
          "execution_count": 297,
          "metadata": {},
          "output_type": "execute_result"
        }
      ],
      "source": [
        "svc = SVC(C = 100,\n",
        " class_weight='balanced',\n",
        " gamma=0.001,\n",
        " kernel='rbf',\n",
        " random_state=21)\n",
        "svc.fit(X_train, y_train)\n",
        "pred = svc.predict(X_test)\n",
        "\n",
        "f1_score(y_test, pred, average='weighted')"
      ]
    },
    {
      "cell_type": "markdown",
      "metadata": {
        "id": "h4hQneoOa4G7"
      },
      "source": [
        "## Уменьшение размерности"
      ]
    },
    {
      "cell_type": "markdown",
      "metadata": {
        "id": "-PwauftDRKh-"
      },
      "source": [
        "Обучение было долгим. Имеет смысл проверить, что будет если уменьшить размерность входных данных, например, при помощи <code>PCA</code>. Обучите модель <code>PCA(svd_solver='full')</code> на тренировочных данных и определите минимальное количество компонент, необходимое для того, чтобы уровень объясненной дисперсии был больше <code>0.95</code>."
      ]
    },
    {
      "cell_type": "code",
      "execution_count": 298,
      "metadata": {},
      "outputs": [],
      "source": [
        "from sklearn.decomposition import PCA"
      ]
    },
    {
      "cell_type": "code",
      "execution_count": 321,
      "metadata": {
        "id": "VrnHwI3nN4tL"
      },
      "outputs": [],
      "source": [
        "model_PCA = PCA(svd_solver='full')\n",
        "data_transformed = model_PCA.fit_transform(X_train)\n",
        "explained_var = np.cumsum(model_PCA.explained_variance_ratio_)\n",
        "components = np.arange(1, len(explained_var)+1)\n",
        "\n"
      ]
    },
    {
      "cell_type": "code",
      "execution_count": 322,
      "metadata": {},
      "outputs": [
        {
          "data": {
            "text/plain": [
              "172"
            ]
          },
          "execution_count": 322,
          "metadata": {},
          "output_type": "execute_result"
        }
      ],
      "source": [
        "np.where(explained_var>0.95)[0][0]+1"
      ]
    },
    {
      "cell_type": "markdown",
      "metadata": {
        "id": "rg9Q0G4ic5HZ"
      },
      "source": [
        "Заново обучите модель <code>PCA(svd_solver='full')</code> на тренировочных данных с использованием полученного числа ГК. Примените полученное преобразование для тренировочных и тестовых данных."
      ]
    },
    {
      "cell_type": "code",
      "execution_count": 323,
      "metadata": {
        "id": "DrFbJeBwPs0B"
      },
      "outputs": [],
      "source": [
        "model_PCA = PCA(svd_solver='full', n_components=172)\n",
        "model_PCA.fit(X_train)\n",
        "X_train = model_PCA.transform(X_train)\n",
        "X_test = model_PCA.transform(X_test)\n"
      ]
    },
    {
      "cell_type": "markdown",
      "metadata": {
        "id": "N2NJjCbFdXZW"
      },
      "source": [
        "Для полученных после <code>PCA</code> данных аналогично проделанному ранее, то есть используя <code>GridSearchCV()</code>, осуществите подбор гиперпараметров, указанных в вашем задании. Отдельно обратите внимание на время обучения моделей."
      ]
    },
    {
      "cell_type": "code",
      "execution_count": 324,
      "metadata": {
        "id": "Osdm-hJQP50Q"
      },
      "outputs": [],
      "source": [
        "tuned_parameters = [{'kernel': ['linear', 'poly', 'rbf', 'sigmoid'], 'gamma': [1e-3, 1e-4],\n",
        "                     'C': [1, 10, 100, 1000], 'class_weight': [None, 'balanced'], 'random_state':[21]}]\n",
        "\n",
        "cv = GridSearchCV(SVC(), tuned_parameters, refit=True, verbose=3)"
      ]
    },
    {
      "cell_type": "markdown",
      "metadata": {
        "id": "bC8S2mixeBsg"
      },
      "source": [
        "Определите гиперпараметры лучшей полученной модели."
      ]
    },
    {
      "cell_type": "code",
      "execution_count": 325,
      "metadata": {
        "id": "-0rlhTDgQboM"
      },
      "outputs": [
        {
          "name": "stdout",
          "output_type": "stream",
          "text": [
            "Fitting 5 folds for each of 64 candidates, totalling 320 fits\n",
            "[CV 1/5] END C=1, class_weight=None, gamma=0.001, kernel=linear, random_state=21;, score=0.750 total time=   0.1s\n",
            "[CV 2/5] END C=1, class_weight=None, gamma=0.001, kernel=linear, random_state=21;, score=0.759 total time=   0.1s\n",
            "[CV 3/5] END C=1, class_weight=None, gamma=0.001, kernel=linear, random_state=21;, score=0.802 total time=   0.1s\n",
            "[CV 4/5] END C=1, class_weight=None, gamma=0.001, kernel=linear, random_state=21;, score=0.731 total time=   0.1s\n",
            "[CV 5/5] END C=1, class_weight=None, gamma=0.001, kernel=linear, random_state=21;, score=0.778 total time=   0.1s\n",
            "[CV 1/5] END C=1, class_weight=None, gamma=0.001, kernel=poly, random_state=21;, score=0.340 total time=   0.1s\n",
            "[CV 2/5] END C=1, class_weight=None, gamma=0.001, kernel=poly, random_state=21;, score=0.340 total time=   0.1s\n",
            "[CV 3/5] END C=1, class_weight=None, gamma=0.001, kernel=poly, random_state=21;, score=0.340 total time=   0.1s\n",
            "[CV 4/5] END C=1, class_weight=None, gamma=0.001, kernel=poly, random_state=21;, score=0.340 total time=   0.1s\n",
            "[CV 5/5] END C=1, class_weight=None, gamma=0.001, kernel=poly, random_state=21;, score=0.344 total time=   0.1s\n",
            "[CV 1/5] END C=1, class_weight=None, gamma=0.001, kernel=rbf, random_state=21;, score=0.377 total time=   0.1s\n",
            "[CV 2/5] END C=1, class_weight=None, gamma=0.001, kernel=rbf, random_state=21;, score=0.401 total time=   0.1s\n",
            "[CV 3/5] END C=1, class_weight=None, gamma=0.001, kernel=rbf, random_state=21;, score=0.392 total time=   0.1s\n",
            "[CV 4/5] END C=1, class_weight=None, gamma=0.001, kernel=rbf, random_state=21;, score=0.410 total time=   0.1s\n",
            "[CV 5/5] END C=1, class_weight=None, gamma=0.001, kernel=rbf, random_state=21;, score=0.406 total time=   0.1s\n",
            "[CV 1/5] END C=1, class_weight=None, gamma=0.001, kernel=sigmoid, random_state=21;, score=0.349 total time=   0.1s\n",
            "[CV 2/5] END C=1, class_weight=None, gamma=0.001, kernel=sigmoid, random_state=21;, score=0.349 total time=   0.1s\n",
            "[CV 3/5] END C=1, class_weight=None, gamma=0.001, kernel=sigmoid, random_state=21;, score=0.344 total time=   0.1s\n",
            "[CV 4/5] END C=1, class_weight=None, gamma=0.001, kernel=sigmoid, random_state=21;, score=0.349 total time=   0.1s\n",
            "[CV 5/5] END C=1, class_weight=None, gamma=0.001, kernel=sigmoid, random_state=21;, score=0.354 total time=   0.1s\n",
            "[CV 1/5] END C=1, class_weight=None, gamma=0.0001, kernel=linear, random_state=21;, score=0.750 total time=   0.1s\n",
            "[CV 2/5] END C=1, class_weight=None, gamma=0.0001, kernel=linear, random_state=21;, score=0.759 total time=   0.1s\n",
            "[CV 3/5] END C=1, class_weight=None, gamma=0.0001, kernel=linear, random_state=21;, score=0.802 total time=   0.1s\n",
            "[CV 4/5] END C=1, class_weight=None, gamma=0.0001, kernel=linear, random_state=21;, score=0.731 total time=   0.1s\n",
            "[CV 5/5] END C=1, class_weight=None, gamma=0.0001, kernel=linear, random_state=21;, score=0.778 total time=   0.1s\n",
            "[CV 1/5] END C=1, class_weight=None, gamma=0.0001, kernel=poly, random_state=21;, score=0.340 total time=   0.1s\n",
            "[CV 2/5] END C=1, class_weight=None, gamma=0.0001, kernel=poly, random_state=21;, score=0.340 total time=   0.1s\n",
            "[CV 3/5] END C=1, class_weight=None, gamma=0.0001, kernel=poly, random_state=21;, score=0.340 total time=   0.1s\n",
            "[CV 4/5] END C=1, class_weight=None, gamma=0.0001, kernel=poly, random_state=21;, score=0.340 total time=   0.1s\n",
            "[CV 5/5] END C=1, class_weight=None, gamma=0.0001, kernel=poly, random_state=21;, score=0.344 total time=   0.1s\n",
            "[CV 1/5] END C=1, class_weight=None, gamma=0.0001, kernel=rbf, random_state=21;, score=0.340 total time=   0.1s\n",
            "[CV 2/5] END C=1, class_weight=None, gamma=0.0001, kernel=rbf, random_state=21;, score=0.340 total time=   0.1s\n",
            "[CV 3/5] END C=1, class_weight=None, gamma=0.0001, kernel=rbf, random_state=21;, score=0.340 total time=   0.1s\n",
            "[CV 4/5] END C=1, class_weight=None, gamma=0.0001, kernel=rbf, random_state=21;, score=0.340 total time=   0.1s\n",
            "[CV 5/5] END C=1, class_weight=None, gamma=0.0001, kernel=rbf, random_state=21;, score=0.344 total time=   0.1s\n",
            "[CV 1/5] END C=1, class_weight=None, gamma=0.0001, kernel=sigmoid, random_state=21;, score=0.340 total time=   0.1s\n",
            "[CV 2/5] END C=1, class_weight=None, gamma=0.0001, kernel=sigmoid, random_state=21;, score=0.340 total time=   0.1s\n",
            "[CV 3/5] END C=1, class_weight=None, gamma=0.0001, kernel=sigmoid, random_state=21;, score=0.340 total time=   0.1s\n",
            "[CV 4/5] END C=1, class_weight=None, gamma=0.0001, kernel=sigmoid, random_state=21;, score=0.340 total time=   0.1s\n",
            "[CV 5/5] END C=1, class_weight=None, gamma=0.0001, kernel=sigmoid, random_state=21;, score=0.344 total time=   0.1s\n",
            "[CV 1/5] END C=1, class_weight=balanced, gamma=0.001, kernel=linear, random_state=21;, score=0.764 total time=   0.1s\n",
            "[CV 2/5] END C=1, class_weight=balanced, gamma=0.001, kernel=linear, random_state=21;, score=0.764 total time=   0.1s\n",
            "[CV 3/5] END C=1, class_weight=balanced, gamma=0.001, kernel=linear, random_state=21;, score=0.802 total time=   0.1s\n",
            "[CV 4/5] END C=1, class_weight=balanced, gamma=0.001, kernel=linear, random_state=21;, score=0.726 total time=   0.1s\n",
            "[CV 5/5] END C=1, class_weight=balanced, gamma=0.001, kernel=linear, random_state=21;, score=0.783 total time=   0.1s\n",
            "[CV 1/5] END C=1, class_weight=balanced, gamma=0.001, kernel=poly, random_state=21;, score=0.071 total time=   0.1s\n",
            "[CV 2/5] END C=1, class_weight=balanced, gamma=0.001, kernel=poly, random_state=21;, score=0.160 total time=   0.1s\n",
            "[CV 3/5] END C=1, class_weight=balanced, gamma=0.001, kernel=poly, random_state=21;, score=0.033 total time=   0.1s\n",
            "[CV 4/5] END C=1, class_weight=balanced, gamma=0.001, kernel=poly, random_state=21;, score=0.033 total time=   0.1s\n",
            "[CV 5/5] END C=1, class_weight=balanced, gamma=0.001, kernel=poly, random_state=21;, score=0.344 total time=   0.1s\n",
            "[CV 1/5] END C=1, class_weight=balanced, gamma=0.001, kernel=rbf, random_state=21;, score=0.325 total time=   0.1s\n",
            "[CV 2/5] END C=1, class_weight=balanced, gamma=0.001, kernel=rbf, random_state=21;, score=0.406 total time=   0.1s\n",
            "[CV 3/5] END C=1, class_weight=balanced, gamma=0.001, kernel=rbf, random_state=21;, score=0.363 total time=   0.1s\n",
            "[CV 4/5] END C=1, class_weight=balanced, gamma=0.001, kernel=rbf, random_state=21;, score=0.292 total time=   0.1s\n",
            "[CV 5/5] END C=1, class_weight=balanced, gamma=0.001, kernel=rbf, random_state=21;, score=0.344 total time=   0.1s\n",
            "[CV 1/5] END C=1, class_weight=balanced, gamma=0.001, kernel=sigmoid, random_state=21;, score=0.175 total time=   0.1s\n",
            "[CV 2/5] END C=1, class_weight=balanced, gamma=0.001, kernel=sigmoid, random_state=21;, score=0.236 total time=   0.1s\n",
            "[CV 3/5] END C=1, class_weight=balanced, gamma=0.001, kernel=sigmoid, random_state=21;, score=0.259 total time=   0.1s\n",
            "[CV 4/5] END C=1, class_weight=balanced, gamma=0.001, kernel=sigmoid, random_state=21;, score=0.184 total time=   0.1s\n",
            "[CV 5/5] END C=1, class_weight=balanced, gamma=0.001, kernel=sigmoid, random_state=21;, score=0.231 total time=   0.1s\n",
            "[CV 1/5] END C=1, class_weight=balanced, gamma=0.0001, kernel=linear, random_state=21;, score=0.764 total time=   0.1s\n",
            "[CV 2/5] END C=1, class_weight=balanced, gamma=0.0001, kernel=linear, random_state=21;, score=0.764 total time=   0.1s\n",
            "[CV 3/5] END C=1, class_weight=balanced, gamma=0.0001, kernel=linear, random_state=21;, score=0.802 total time=   0.1s\n",
            "[CV 4/5] END C=1, class_weight=balanced, gamma=0.0001, kernel=linear, random_state=21;, score=0.726 total time=   0.1s\n",
            "[CV 5/5] END C=1, class_weight=balanced, gamma=0.0001, kernel=linear, random_state=21;, score=0.783 total time=   0.1s\n",
            "[CV 1/5] END C=1, class_weight=balanced, gamma=0.0001, kernel=poly, random_state=21;, score=0.071 total time=   0.1s\n",
            "[CV 2/5] END C=1, class_weight=balanced, gamma=0.0001, kernel=poly, random_state=21;, score=0.160 total time=   0.1s\n",
            "[CV 3/5] END C=1, class_weight=balanced, gamma=0.0001, kernel=poly, random_state=21;, score=0.033 total time=   0.1s\n",
            "[CV 4/5] END C=1, class_weight=balanced, gamma=0.0001, kernel=poly, random_state=21;, score=0.033 total time=   0.1s\n",
            "[CV 5/5] END C=1, class_weight=balanced, gamma=0.0001, kernel=poly, random_state=21;, score=0.344 total time=   0.1s\n",
            "[CV 1/5] END C=1, class_weight=balanced, gamma=0.0001, kernel=rbf, random_state=21;, score=0.085 total time=   0.1s\n",
            "[CV 2/5] END C=1, class_weight=balanced, gamma=0.0001, kernel=rbf, random_state=21;, score=0.175 total time=   0.1s\n",
            "[CV 3/5] END C=1, class_weight=balanced, gamma=0.0001, kernel=rbf, random_state=21;, score=0.061 total time=   0.1s\n",
            "[CV 4/5] END C=1, class_weight=balanced, gamma=0.0001, kernel=rbf, random_state=21;, score=0.066 total time=   0.1s\n",
            "[CV 5/5] END C=1, class_weight=balanced, gamma=0.0001, kernel=rbf, random_state=21;, score=0.340 total time=   0.1s\n",
            "[CV 1/5] END C=1, class_weight=balanced, gamma=0.0001, kernel=sigmoid, random_state=21;, score=0.094 total time=   0.1s\n",
            "[CV 2/5] END C=1, class_weight=balanced, gamma=0.0001, kernel=sigmoid, random_state=21;, score=0.160 total time=   0.1s\n",
            "[CV 3/5] END C=1, class_weight=balanced, gamma=0.0001, kernel=sigmoid, random_state=21;, score=0.052 total time=   0.1s\n",
            "[CV 4/5] END C=1, class_weight=balanced, gamma=0.0001, kernel=sigmoid, random_state=21;, score=0.042 total time=   0.1s\n",
            "[CV 5/5] END C=1, class_weight=balanced, gamma=0.0001, kernel=sigmoid, random_state=21;, score=0.363 total time=   0.1s\n",
            "[CV 1/5] END C=10, class_weight=None, gamma=0.001, kernel=linear, random_state=21;, score=0.750 total time=   0.1s\n",
            "[CV 2/5] END C=10, class_weight=None, gamma=0.001, kernel=linear, random_state=21;, score=0.759 total time=   0.1s\n",
            "[CV 3/5] END C=10, class_weight=None, gamma=0.001, kernel=linear, random_state=21;, score=0.802 total time=   0.1s\n",
            "[CV 4/5] END C=10, class_weight=None, gamma=0.001, kernel=linear, random_state=21;, score=0.731 total time=   0.1s\n",
            "[CV 5/5] END C=10, class_weight=None, gamma=0.001, kernel=linear, random_state=21;, score=0.778 total time=   0.1s\n",
            "[CV 1/5] END C=10, class_weight=None, gamma=0.001, kernel=poly, random_state=21;, score=0.340 total time=   0.1s\n",
            "[CV 2/5] END C=10, class_weight=None, gamma=0.001, kernel=poly, random_state=21;, score=0.340 total time=   0.1s\n",
            "[CV 3/5] END C=10, class_weight=None, gamma=0.001, kernel=poly, random_state=21;, score=0.340 total time=   0.1s\n",
            "[CV 4/5] END C=10, class_weight=None, gamma=0.001, kernel=poly, random_state=21;, score=0.340 total time=   0.1s\n",
            "[CV 5/5] END C=10, class_weight=None, gamma=0.001, kernel=poly, random_state=21;, score=0.344 total time=   0.1s\n",
            "[CV 1/5] END C=10, class_weight=None, gamma=0.001, kernel=rbf, random_state=21;, score=0.726 total time=   0.1s\n",
            "[CV 2/5] END C=10, class_weight=None, gamma=0.001, kernel=rbf, random_state=21;, score=0.717 total time=   0.1s\n",
            "[CV 3/5] END C=10, class_weight=None, gamma=0.001, kernel=rbf, random_state=21;, score=0.736 total time=   0.1s\n",
            "[CV 4/5] END C=10, class_weight=None, gamma=0.001, kernel=rbf, random_state=21;, score=0.675 total time=   0.1s\n",
            "[CV 5/5] END C=10, class_weight=None, gamma=0.001, kernel=rbf, random_state=21;, score=0.708 total time=   0.1s\n",
            "[CV 1/5] END C=10, class_weight=None, gamma=0.001, kernel=sigmoid, random_state=21;, score=0.608 total time=   0.1s\n",
            "[CV 2/5] END C=10, class_weight=None, gamma=0.001, kernel=sigmoid, random_state=21;, score=0.623 total time=   0.1s\n",
            "[CV 3/5] END C=10, class_weight=None, gamma=0.001, kernel=sigmoid, random_state=21;, score=0.637 total time=   0.1s\n",
            "[CV 4/5] END C=10, class_weight=None, gamma=0.001, kernel=sigmoid, random_state=21;, score=0.608 total time=   0.1s\n",
            "[CV 5/5] END C=10, class_weight=None, gamma=0.001, kernel=sigmoid, random_state=21;, score=0.623 total time=   0.1s\n",
            "[CV 1/5] END C=10, class_weight=None, gamma=0.0001, kernel=linear, random_state=21;, score=0.750 total time=   0.1s\n",
            "[CV 2/5] END C=10, class_weight=None, gamma=0.0001, kernel=linear, random_state=21;, score=0.759 total time=   0.1s\n",
            "[CV 3/5] END C=10, class_weight=None, gamma=0.0001, kernel=linear, random_state=21;, score=0.802 total time=   0.1s\n",
            "[CV 4/5] END C=10, class_weight=None, gamma=0.0001, kernel=linear, random_state=21;, score=0.731 total time=   0.1s\n",
            "[CV 5/5] END C=10, class_weight=None, gamma=0.0001, kernel=linear, random_state=21;, score=0.778 total time=   0.1s\n",
            "[CV 1/5] END C=10, class_weight=None, gamma=0.0001, kernel=poly, random_state=21;, score=0.340 total time=   0.1s\n",
            "[CV 2/5] END C=10, class_weight=None, gamma=0.0001, kernel=poly, random_state=21;, score=0.340 total time=   0.1s\n",
            "[CV 3/5] END C=10, class_weight=None, gamma=0.0001, kernel=poly, random_state=21;, score=0.340 total time=   0.1s\n",
            "[CV 4/5] END C=10, class_weight=None, gamma=0.0001, kernel=poly, random_state=21;, score=0.340 total time=   0.1s\n",
            "[CV 5/5] END C=10, class_weight=None, gamma=0.0001, kernel=poly, random_state=21;, score=0.344 total time=   0.1s\n",
            "[CV 1/5] END C=10, class_weight=None, gamma=0.0001, kernel=rbf, random_state=21;, score=0.392 total time=   0.1s\n",
            "[CV 2/5] END C=10, class_weight=None, gamma=0.0001, kernel=rbf, random_state=21;, score=0.406 total time=   0.1s\n",
            "[CV 3/5] END C=10, class_weight=None, gamma=0.0001, kernel=rbf, random_state=21;, score=0.401 total time=   0.1s\n",
            "[CV 4/5] END C=10, class_weight=None, gamma=0.0001, kernel=rbf, random_state=21;, score=0.420 total time=   0.1s\n",
            "[CV 5/5] END C=10, class_weight=None, gamma=0.0001, kernel=rbf, random_state=21;, score=0.406 total time=   0.1s\n",
            "[CV 1/5] END C=10, class_weight=None, gamma=0.0001, kernel=sigmoid, random_state=21;, score=0.349 total time=   0.1s\n",
            "[CV 2/5] END C=10, class_weight=None, gamma=0.0001, kernel=sigmoid, random_state=21;, score=0.349 total time=   0.1s\n",
            "[CV 3/5] END C=10, class_weight=None, gamma=0.0001, kernel=sigmoid, random_state=21;, score=0.344 total time=   0.1s\n",
            "[CV 4/5] END C=10, class_weight=None, gamma=0.0001, kernel=sigmoid, random_state=21;, score=0.349 total time=   0.1s\n",
            "[CV 5/5] END C=10, class_weight=None, gamma=0.0001, kernel=sigmoid, random_state=21;, score=0.354 total time=   0.1s\n",
            "[CV 1/5] END C=10, class_weight=balanced, gamma=0.001, kernel=linear, random_state=21;, score=0.750 total time=   0.1s\n",
            "[CV 2/5] END C=10, class_weight=balanced, gamma=0.001, kernel=linear, random_state=21;, score=0.759 total time=   0.1s\n",
            "[CV 3/5] END C=10, class_weight=balanced, gamma=0.001, kernel=linear, random_state=21;, score=0.802 total time=   0.1s\n",
            "[CV 4/5] END C=10, class_weight=balanced, gamma=0.001, kernel=linear, random_state=21;, score=0.731 total time=   0.1s\n",
            "[CV 5/5] END C=10, class_weight=balanced, gamma=0.001, kernel=linear, random_state=21;, score=0.778 total time=   0.1s\n",
            "[CV 1/5] END C=10, class_weight=balanced, gamma=0.001, kernel=poly, random_state=21;, score=0.085 total time=   0.1s\n",
            "[CV 2/5] END C=10, class_weight=balanced, gamma=0.001, kernel=poly, random_state=21;, score=0.165 total time=   0.1s\n",
            "[CV 3/5] END C=10, class_weight=balanced, gamma=0.001, kernel=poly, random_state=21;, score=0.047 total time=   0.1s\n",
            "[CV 4/5] END C=10, class_weight=balanced, gamma=0.001, kernel=poly, random_state=21;, score=0.047 total time=   0.1s\n",
            "[CV 5/5] END C=10, class_weight=balanced, gamma=0.001, kernel=poly, random_state=21;, score=0.042 total time=   0.1s\n",
            "[CV 1/5] END C=10, class_weight=balanced, gamma=0.001, kernel=rbf, random_state=21;, score=0.741 total time=   0.1s\n",
            "[CV 2/5] END C=10, class_weight=balanced, gamma=0.001, kernel=rbf, random_state=21;, score=0.708 total time=   0.1s\n",
            "[CV 3/5] END C=10, class_weight=balanced, gamma=0.001, kernel=rbf, random_state=21;, score=0.778 total time=   0.1s\n",
            "[CV 4/5] END C=10, class_weight=balanced, gamma=0.001, kernel=rbf, random_state=21;, score=0.698 total time=   0.1s\n",
            "[CV 5/5] END C=10, class_weight=balanced, gamma=0.001, kernel=rbf, random_state=21;, score=0.774 total time=   0.1s\n",
            "[CV 1/5] END C=10, class_weight=balanced, gamma=0.001, kernel=sigmoid, random_state=21;, score=0.679 total time=   0.1s\n",
            "[CV 2/5] END C=10, class_weight=balanced, gamma=0.001, kernel=sigmoid, random_state=21;, score=0.651 total time=   0.1s\n",
            "[CV 3/5] END C=10, class_weight=balanced, gamma=0.001, kernel=sigmoid, random_state=21;, score=0.698 total time=   0.1s\n",
            "[CV 4/5] END C=10, class_weight=balanced, gamma=0.001, kernel=sigmoid, random_state=21;, score=0.571 total time=   0.1s\n",
            "[CV 5/5] END C=10, class_weight=balanced, gamma=0.001, kernel=sigmoid, random_state=21;, score=0.708 total time=   0.1s\n",
            "[CV 1/5] END C=10, class_weight=balanced, gamma=0.0001, kernel=linear, random_state=21;, score=0.750 total time=   0.1s\n",
            "[CV 2/5] END C=10, class_weight=balanced, gamma=0.0001, kernel=linear, random_state=21;, score=0.759 total time=   0.1s\n",
            "[CV 3/5] END C=10, class_weight=balanced, gamma=0.0001, kernel=linear, random_state=21;, score=0.802 total time=   0.1s\n",
            "[CV 4/5] END C=10, class_weight=balanced, gamma=0.0001, kernel=linear, random_state=21;, score=0.731 total time=   0.1s\n",
            "[CV 5/5] END C=10, class_weight=balanced, gamma=0.0001, kernel=linear, random_state=21;, score=0.778 total time=   0.1s\n",
            "[CV 1/5] END C=10, class_weight=balanced, gamma=0.0001, kernel=poly, random_state=21;, score=0.038 total time=   0.1s\n",
            "[CV 2/5] END C=10, class_weight=balanced, gamma=0.0001, kernel=poly, random_state=21;, score=0.047 total time=   0.1s\n",
            "[CV 3/5] END C=10, class_weight=balanced, gamma=0.0001, kernel=poly, random_state=21;, score=0.033 total time=   0.1s\n",
            "[CV 4/5] END C=10, class_weight=balanced, gamma=0.0001, kernel=poly, random_state=21;, score=0.033 total time=   0.1s\n",
            "[CV 5/5] END C=10, class_weight=balanced, gamma=0.0001, kernel=poly, random_state=21;, score=0.033 total time=   0.1s\n",
            "[CV 1/5] END C=10, class_weight=balanced, gamma=0.0001, kernel=rbf, random_state=21;, score=0.363 total time=   0.1s\n",
            "[CV 2/5] END C=10, class_weight=balanced, gamma=0.0001, kernel=rbf, random_state=21;, score=0.425 total time=   0.1s\n",
            "[CV 3/5] END C=10, class_weight=balanced, gamma=0.0001, kernel=rbf, random_state=21;, score=0.382 total time=   0.1s\n",
            "[CV 4/5] END C=10, class_weight=balanced, gamma=0.0001, kernel=rbf, random_state=21;, score=0.316 total time=   0.1s\n",
            "[CV 5/5] END C=10, class_weight=balanced, gamma=0.0001, kernel=rbf, random_state=21;, score=0.358 total time=   0.1s\n",
            "[CV 1/5] END C=10, class_weight=balanced, gamma=0.0001, kernel=sigmoid, random_state=21;, score=0.208 total time=   0.1s\n",
            "[CV 2/5] END C=10, class_weight=balanced, gamma=0.0001, kernel=sigmoid, random_state=21;, score=0.222 total time=   0.1s\n",
            "[CV 3/5] END C=10, class_weight=balanced, gamma=0.0001, kernel=sigmoid, random_state=21;, score=0.226 total time=   0.1s\n",
            "[CV 4/5] END C=10, class_weight=balanced, gamma=0.0001, kernel=sigmoid, random_state=21;, score=0.160 total time=   0.1s\n",
            "[CV 5/5] END C=10, class_weight=balanced, gamma=0.0001, kernel=sigmoid, random_state=21;, score=0.208 total time=   0.1s\n",
            "[CV 1/5] END C=100, class_weight=None, gamma=0.001, kernel=linear, random_state=21;, score=0.750 total time=   0.1s\n",
            "[CV 2/5] END C=100, class_weight=None, gamma=0.001, kernel=linear, random_state=21;, score=0.759 total time=   0.1s\n",
            "[CV 3/5] END C=100, class_weight=None, gamma=0.001, kernel=linear, random_state=21;, score=0.802 total time=   0.1s\n",
            "[CV 4/5] END C=100, class_weight=None, gamma=0.001, kernel=linear, random_state=21;, score=0.731 total time=   0.1s\n",
            "[CV 5/5] END C=100, class_weight=None, gamma=0.001, kernel=linear, random_state=21;, score=0.778 total time=   0.1s\n",
            "[CV 1/5] END C=100, class_weight=None, gamma=0.001, kernel=poly, random_state=21;, score=0.363 total time=   0.1s\n",
            "[CV 2/5] END C=100, class_weight=None, gamma=0.001, kernel=poly, random_state=21;, score=0.349 total time=   0.1s\n",
            "[CV 3/5] END C=100, class_weight=None, gamma=0.001, kernel=poly, random_state=21;, score=0.358 total time=   0.1s\n",
            "[CV 4/5] END C=100, class_weight=None, gamma=0.001, kernel=poly, random_state=21;, score=0.354 total time=   0.1s\n",
            "[CV 5/5] END C=100, class_weight=None, gamma=0.001, kernel=poly, random_state=21;, score=0.363 total time=   0.1s\n",
            "[CV 1/5] END C=100, class_weight=None, gamma=0.001, kernel=rbf, random_state=21;, score=0.797 total time=   0.1s\n",
            "[CV 2/5] END C=100, class_weight=None, gamma=0.001, kernel=rbf, random_state=21;, score=0.774 total time=   0.1s\n",
            "[CV 3/5] END C=100, class_weight=None, gamma=0.001, kernel=rbf, random_state=21;, score=0.811 total time=   0.1s\n",
            "[CV 4/5] END C=100, class_weight=None, gamma=0.001, kernel=rbf, random_state=21;, score=0.741 total time=   0.1s\n",
            "[CV 5/5] END C=100, class_weight=None, gamma=0.001, kernel=rbf, random_state=21;, score=0.807 total time=   0.1s\n",
            "[CV 1/5] END C=100, class_weight=None, gamma=0.001, kernel=sigmoid, random_state=21;, score=0.788 total time=   0.1s\n",
            "[CV 2/5] END C=100, class_weight=None, gamma=0.001, kernel=sigmoid, random_state=21;, score=0.792 total time=   0.1s\n",
            "[CV 3/5] END C=100, class_weight=None, gamma=0.001, kernel=sigmoid, random_state=21;, score=0.811 total time=   0.1s\n",
            "[CV 4/5] END C=100, class_weight=None, gamma=0.001, kernel=sigmoid, random_state=21;, score=0.736 total time=   0.1s\n",
            "[CV 5/5] END C=100, class_weight=None, gamma=0.001, kernel=sigmoid, random_state=21;, score=0.802 total time=   0.1s\n",
            "[CV 1/5] END C=100, class_weight=None, gamma=0.0001, kernel=linear, random_state=21;, score=0.750 total time=   0.1s\n",
            "[CV 2/5] END C=100, class_weight=None, gamma=0.0001, kernel=linear, random_state=21;, score=0.759 total time=   0.1s\n",
            "[CV 3/5] END C=100, class_weight=None, gamma=0.0001, kernel=linear, random_state=21;, score=0.802 total time=   0.1s\n",
            "[CV 4/5] END C=100, class_weight=None, gamma=0.0001, kernel=linear, random_state=21;, score=0.731 total time=   0.1s\n",
            "[CV 5/5] END C=100, class_weight=None, gamma=0.0001, kernel=linear, random_state=21;, score=0.778 total time=   0.1s\n",
            "[CV 1/5] END C=100, class_weight=None, gamma=0.0001, kernel=poly, random_state=21;, score=0.340 total time=   0.1s\n",
            "[CV 2/5] END C=100, class_weight=None, gamma=0.0001, kernel=poly, random_state=21;, score=0.340 total time=   0.1s\n",
            "[CV 3/5] END C=100, class_weight=None, gamma=0.0001, kernel=poly, random_state=21;, score=0.340 total time=   0.1s\n",
            "[CV 4/5] END C=100, class_weight=None, gamma=0.0001, kernel=poly, random_state=21;, score=0.340 total time=   0.1s\n",
            "[CV 5/5] END C=100, class_weight=None, gamma=0.0001, kernel=poly, random_state=21;, score=0.344 total time=   0.1s\n",
            "[CV 1/5] END C=100, class_weight=None, gamma=0.0001, kernel=rbf, random_state=21;, score=0.745 total time=   0.1s\n",
            "[CV 2/5] END C=100, class_weight=None, gamma=0.0001, kernel=rbf, random_state=21;, score=0.731 total time=   0.1s\n",
            "[CV 3/5] END C=100, class_weight=None, gamma=0.0001, kernel=rbf, random_state=21;, score=0.755 total time=   0.1s\n",
            "[CV 4/5] END C=100, class_weight=None, gamma=0.0001, kernel=rbf, random_state=21;, score=0.684 total time=   0.1s\n",
            "[CV 5/5] END C=100, class_weight=None, gamma=0.0001, kernel=rbf, random_state=21;, score=0.726 total time=   0.1s\n",
            "[CV 1/5] END C=100, class_weight=None, gamma=0.0001, kernel=sigmoid, random_state=21;, score=0.608 total time=   0.1s\n",
            "[CV 2/5] END C=100, class_weight=None, gamma=0.0001, kernel=sigmoid, random_state=21;, score=0.623 total time=   0.1s\n",
            "[CV 3/5] END C=100, class_weight=None, gamma=0.0001, kernel=sigmoid, random_state=21;, score=0.637 total time=   0.1s\n",
            "[CV 4/5] END C=100, class_weight=None, gamma=0.0001, kernel=sigmoid, random_state=21;, score=0.608 total time=   0.1s\n",
            "[CV 5/5] END C=100, class_weight=None, gamma=0.0001, kernel=sigmoid, random_state=21;, score=0.623 total time=   0.1s\n",
            "[CV 1/5] END C=100, class_weight=balanced, gamma=0.001, kernel=linear, random_state=21;, score=0.750 total time=   0.1s\n",
            "[CV 2/5] END C=100, class_weight=balanced, gamma=0.001, kernel=linear, random_state=21;, score=0.759 total time=   0.1s\n",
            "[CV 3/5] END C=100, class_weight=balanced, gamma=0.001, kernel=linear, random_state=21;, score=0.802 total time=   0.1s\n",
            "[CV 4/5] END C=100, class_weight=balanced, gamma=0.001, kernel=linear, random_state=21;, score=0.731 total time=   0.1s\n",
            "[CV 5/5] END C=100, class_weight=balanced, gamma=0.001, kernel=linear, random_state=21;, score=0.778 total time=   0.1s\n",
            "[CV 1/5] END C=100, class_weight=balanced, gamma=0.001, kernel=poly, random_state=21;, score=0.123 total time=   0.1s\n",
            "[CV 2/5] END C=100, class_weight=balanced, gamma=0.001, kernel=poly, random_state=21;, score=0.108 total time=   0.1s\n",
            "[CV 3/5] END C=100, class_weight=balanced, gamma=0.001, kernel=poly, random_state=21;, score=0.189 total time=   0.1s\n",
            "[CV 4/5] END C=100, class_weight=balanced, gamma=0.001, kernel=poly, random_state=21;, score=0.179 total time=   0.1s\n",
            "[CV 5/5] END C=100, class_weight=balanced, gamma=0.001, kernel=poly, random_state=21;, score=0.075 total time=   0.1s\n",
            "[CV 1/5] END C=100, class_weight=balanced, gamma=0.001, kernel=rbf, random_state=21;, score=0.802 total time=   0.1s\n",
            "[CV 2/5] END C=100, class_weight=balanced, gamma=0.001, kernel=rbf, random_state=21;, score=0.774 total time=   0.1s\n",
            "[CV 3/5] END C=100, class_weight=balanced, gamma=0.001, kernel=rbf, random_state=21;, score=0.802 total time=   0.1s\n",
            "[CV 4/5] END C=100, class_weight=balanced, gamma=0.001, kernel=rbf, random_state=21;, score=0.745 total time=   0.1s\n",
            "[CV 5/5] END C=100, class_weight=balanced, gamma=0.001, kernel=rbf, random_state=21;, score=0.821 total time=   0.1s\n",
            "[CV 1/5] END C=100, class_weight=balanced, gamma=0.001, kernel=sigmoid, random_state=21;, score=0.774 total time=   0.1s\n",
            "[CV 2/5] END C=100, class_weight=balanced, gamma=0.001, kernel=sigmoid, random_state=21;, score=0.759 total time=   0.1s\n",
            "[CV 3/5] END C=100, class_weight=balanced, gamma=0.001, kernel=sigmoid, random_state=21;, score=0.825 total time=   0.1s\n",
            "[CV 4/5] END C=100, class_weight=balanced, gamma=0.001, kernel=sigmoid, random_state=21;, score=0.745 total time=   0.1s\n",
            "[CV 5/5] END C=100, class_weight=balanced, gamma=0.001, kernel=sigmoid, random_state=21;, score=0.811 total time=   0.1s\n",
            "[CV 1/5] END C=100, class_weight=balanced, gamma=0.0001, kernel=linear, random_state=21;, score=0.750 total time=   0.1s\n",
            "[CV 2/5] END C=100, class_weight=balanced, gamma=0.0001, kernel=linear, random_state=21;, score=0.759 total time=   0.1s\n",
            "[CV 3/5] END C=100, class_weight=balanced, gamma=0.0001, kernel=linear, random_state=21;, score=0.802 total time=   0.1s\n",
            "[CV 4/5] END C=100, class_weight=balanced, gamma=0.0001, kernel=linear, random_state=21;, score=0.731 total time=   0.1s\n",
            "[CV 5/5] END C=100, class_weight=balanced, gamma=0.0001, kernel=linear, random_state=21;, score=0.778 total time=   0.1s\n",
            "[CV 1/5] END C=100, class_weight=balanced, gamma=0.0001, kernel=poly, random_state=21;, score=0.052 total time=   0.2s\n",
            "[CV 2/5] END C=100, class_weight=balanced, gamma=0.0001, kernel=poly, random_state=21;, score=0.047 total time=   0.1s\n",
            "[CV 3/5] END C=100, class_weight=balanced, gamma=0.0001, kernel=poly, random_state=21;, score=0.071 total time=   0.1s\n",
            "[CV 4/5] END C=100, class_weight=balanced, gamma=0.0001, kernel=poly, random_state=21;, score=0.071 total time=   0.1s\n",
            "[CV 5/5] END C=100, class_weight=balanced, gamma=0.0001, kernel=poly, random_state=21;, score=0.052 total time=   0.1s\n",
            "[CV 1/5] END C=100, class_weight=balanced, gamma=0.0001, kernel=rbf, random_state=21;, score=0.726 total time=   0.1s\n",
            "[CV 2/5] END C=100, class_weight=balanced, gamma=0.0001, kernel=rbf, random_state=21;, score=0.703 total time=   0.1s\n",
            "[CV 3/5] END C=100, class_weight=balanced, gamma=0.0001, kernel=rbf, random_state=21;, score=0.778 total time=   0.1s\n",
            "[CV 4/5] END C=100, class_weight=balanced, gamma=0.0001, kernel=rbf, random_state=21;, score=0.693 total time=   0.1s\n",
            "[CV 5/5] END C=100, class_weight=balanced, gamma=0.0001, kernel=rbf, random_state=21;, score=0.783 total time=   0.1s\n",
            "[CV 1/5] END C=100, class_weight=balanced, gamma=0.0001, kernel=sigmoid, random_state=21;, score=0.679 total time=   0.1s\n",
            "[CV 2/5] END C=100, class_weight=balanced, gamma=0.0001, kernel=sigmoid, random_state=21;, score=0.646 total time=   0.1s\n",
            "[CV 3/5] END C=100, class_weight=balanced, gamma=0.0001, kernel=sigmoid, random_state=21;, score=0.698 total time=   0.1s\n",
            "[CV 4/5] END C=100, class_weight=balanced, gamma=0.0001, kernel=sigmoid, random_state=21;, score=0.571 total time=   0.1s\n",
            "[CV 5/5] END C=100, class_weight=balanced, gamma=0.0001, kernel=sigmoid, random_state=21;, score=0.708 total time=   0.1s\n",
            "[CV 1/5] END C=1000, class_weight=None, gamma=0.001, kernel=linear, random_state=21;, score=0.750 total time=   0.1s\n",
            "[CV 2/5] END C=1000, class_weight=None, gamma=0.001, kernel=linear, random_state=21;, score=0.759 total time=   0.1s\n",
            "[CV 3/5] END C=1000, class_weight=None, gamma=0.001, kernel=linear, random_state=21;, score=0.802 total time=   0.1s\n",
            "[CV 4/5] END C=1000, class_weight=None, gamma=0.001, kernel=linear, random_state=21;, score=0.731 total time=   0.1s\n",
            "[CV 5/5] END C=1000, class_weight=None, gamma=0.001, kernel=linear, random_state=21;, score=0.778 total time=   0.1s\n",
            "[CV 1/5] END C=1000, class_weight=None, gamma=0.001, kernel=poly, random_state=21;, score=0.377 total time=   0.1s\n",
            "[CV 2/5] END C=1000, class_weight=None, gamma=0.001, kernel=poly, random_state=21;, score=0.373 total time=   0.1s\n",
            "[CV 3/5] END C=1000, class_weight=None, gamma=0.001, kernel=poly, random_state=21;, score=0.377 total time=   0.1s\n",
            "[CV 4/5] END C=1000, class_weight=None, gamma=0.001, kernel=poly, random_state=21;, score=0.363 total time=   0.1s\n",
            "[CV 5/5] END C=1000, class_weight=None, gamma=0.001, kernel=poly, random_state=21;, score=0.396 total time=   0.1s\n",
            "[CV 1/5] END C=1000, class_weight=None, gamma=0.001, kernel=rbf, random_state=21;, score=0.783 total time=   0.1s\n",
            "[CV 2/5] END C=1000, class_weight=None, gamma=0.001, kernel=rbf, random_state=21;, score=0.774 total time=   0.1s\n",
            "[CV 3/5] END C=1000, class_weight=None, gamma=0.001, kernel=rbf, random_state=21;, score=0.792 total time=   0.1s\n",
            "[CV 4/5] END C=1000, class_weight=None, gamma=0.001, kernel=rbf, random_state=21;, score=0.741 total time=   0.1s\n",
            "[CV 5/5] END C=1000, class_weight=None, gamma=0.001, kernel=rbf, random_state=21;, score=0.797 total time=   0.1s\n",
            "[CV 1/5] END C=1000, class_weight=None, gamma=0.001, kernel=sigmoid, random_state=21;, score=0.741 total time=   0.1s\n",
            "[CV 2/5] END C=1000, class_weight=None, gamma=0.001, kernel=sigmoid, random_state=21;, score=0.759 total time=   0.1s\n",
            "[CV 3/5] END C=1000, class_weight=None, gamma=0.001, kernel=sigmoid, random_state=21;, score=0.788 total time=   0.1s\n",
            "[CV 4/5] END C=1000, class_weight=None, gamma=0.001, kernel=sigmoid, random_state=21;, score=0.741 total time=   0.1s\n",
            "[CV 5/5] END C=1000, class_weight=None, gamma=0.001, kernel=sigmoid, random_state=21;, score=0.769 total time=   0.1s\n",
            "[CV 1/5] END C=1000, class_weight=None, gamma=0.0001, kernel=linear, random_state=21;, score=0.750 total time=   0.1s\n",
            "[CV 2/5] END C=1000, class_weight=None, gamma=0.0001, kernel=linear, random_state=21;, score=0.759 total time=   0.1s\n",
            "[CV 3/5] END C=1000, class_weight=None, gamma=0.0001, kernel=linear, random_state=21;, score=0.802 total time=   0.1s\n",
            "[CV 4/5] END C=1000, class_weight=None, gamma=0.0001, kernel=linear, random_state=21;, score=0.731 total time=   0.1s\n",
            "[CV 5/5] END C=1000, class_weight=None, gamma=0.0001, kernel=linear, random_state=21;, score=0.778 total time=   0.1s\n",
            "[CV 1/5] END C=1000, class_weight=None, gamma=0.0001, kernel=poly, random_state=21;, score=0.340 total time=   0.1s\n",
            "[CV 2/5] END C=1000, class_weight=None, gamma=0.0001, kernel=poly, random_state=21;, score=0.340 total time=   0.1s\n",
            "[CV 3/5] END C=1000, class_weight=None, gamma=0.0001, kernel=poly, random_state=21;, score=0.340 total time=   0.1s\n",
            "[CV 4/5] END C=1000, class_weight=None, gamma=0.0001, kernel=poly, random_state=21;, score=0.340 total time=   0.1s\n",
            "[CV 5/5] END C=1000, class_weight=None, gamma=0.0001, kernel=poly, random_state=21;, score=0.344 total time=   0.1s\n",
            "[CV 1/5] END C=1000, class_weight=None, gamma=0.0001, kernel=rbf, random_state=21;, score=0.783 total time=   0.1s\n",
            "[CV 2/5] END C=1000, class_weight=None, gamma=0.0001, kernel=rbf, random_state=21;, score=0.797 total time=   0.1s\n",
            "[CV 3/5] END C=1000, class_weight=None, gamma=0.0001, kernel=rbf, random_state=21;, score=0.807 total time=   0.1s\n",
            "[CV 4/5] END C=1000, class_weight=None, gamma=0.0001, kernel=rbf, random_state=21;, score=0.731 total time=   0.1s\n",
            "[CV 5/5] END C=1000, class_weight=None, gamma=0.0001, kernel=rbf, random_state=21;, score=0.802 total time=   0.1s\n",
            "[CV 1/5] END C=1000, class_weight=None, gamma=0.0001, kernel=sigmoid, random_state=21;, score=0.783 total time=   0.1s\n",
            "[CV 2/5] END C=1000, class_weight=None, gamma=0.0001, kernel=sigmoid, random_state=21;, score=0.797 total time=   0.1s\n",
            "[CV 3/5] END C=1000, class_weight=None, gamma=0.0001, kernel=sigmoid, random_state=21;, score=0.816 total time=   0.1s\n",
            "[CV 4/5] END C=1000, class_weight=None, gamma=0.0001, kernel=sigmoid, random_state=21;, score=0.722 total time=   0.1s\n",
            "[CV 5/5] END C=1000, class_weight=None, gamma=0.0001, kernel=sigmoid, random_state=21;, score=0.807 total time=   0.1s\n",
            "[CV 1/5] END C=1000, class_weight=balanced, gamma=0.001, kernel=linear, random_state=21;, score=0.750 total time=   0.1s\n",
            "[CV 2/5] END C=1000, class_weight=balanced, gamma=0.001, kernel=linear, random_state=21;, score=0.759 total time=   0.1s\n",
            "[CV 3/5] END C=1000, class_weight=balanced, gamma=0.001, kernel=linear, random_state=21;, score=0.802 total time=   0.1s\n",
            "[CV 4/5] END C=1000, class_weight=balanced, gamma=0.001, kernel=linear, random_state=21;, score=0.731 total time=   0.1s\n",
            "[CV 5/5] END C=1000, class_weight=balanced, gamma=0.001, kernel=linear, random_state=21;, score=0.778 total time=   0.1s\n",
            "[CV 1/5] END C=1000, class_weight=balanced, gamma=0.001, kernel=poly, random_state=21;, score=0.410 total time=   0.1s\n",
            "[CV 2/5] END C=1000, class_weight=balanced, gamma=0.001, kernel=poly, random_state=21;, score=0.443 total time=   0.1s\n",
            "[CV 3/5] END C=1000, class_weight=balanced, gamma=0.001, kernel=poly, random_state=21;, score=0.420 total time=   0.1s\n",
            "[CV 4/5] END C=1000, class_weight=balanced, gamma=0.001, kernel=poly, random_state=21;, score=0.443 total time=   0.1s\n",
            "[CV 5/5] END C=1000, class_weight=balanced, gamma=0.001, kernel=poly, random_state=21;, score=0.439 total time=   0.1s\n",
            "[CV 1/5] END C=1000, class_weight=balanced, gamma=0.001, kernel=rbf, random_state=21;, score=0.783 total time=   0.1s\n",
            "[CV 2/5] END C=1000, class_weight=balanced, gamma=0.001, kernel=rbf, random_state=21;, score=0.774 total time=   0.1s\n",
            "[CV 3/5] END C=1000, class_weight=balanced, gamma=0.001, kernel=rbf, random_state=21;, score=0.792 total time=   0.1s\n",
            "[CV 4/5] END C=1000, class_weight=balanced, gamma=0.001, kernel=rbf, random_state=21;, score=0.741 total time=   0.1s\n",
            "[CV 5/5] END C=1000, class_weight=balanced, gamma=0.001, kernel=rbf, random_state=21;, score=0.797 total time=   0.1s\n",
            "[CV 1/5] END C=1000, class_weight=balanced, gamma=0.001, kernel=sigmoid, random_state=21;, score=0.764 total time=   0.1s\n",
            "[CV 2/5] END C=1000, class_weight=balanced, gamma=0.001, kernel=sigmoid, random_state=21;, score=0.764 total time=   0.1s\n",
            "[CV 3/5] END C=1000, class_weight=balanced, gamma=0.001, kernel=sigmoid, random_state=21;, score=0.802 total time=   0.1s\n",
            "[CV 4/5] END C=1000, class_weight=balanced, gamma=0.001, kernel=sigmoid, random_state=21;, score=0.726 total time=   0.1s\n",
            "[CV 5/5] END C=1000, class_weight=balanced, gamma=0.001, kernel=sigmoid, random_state=21;, score=0.783 total time=   0.1s\n",
            "[CV 1/5] END C=1000, class_weight=balanced, gamma=0.0001, kernel=linear, random_state=21;, score=0.750 total time=   0.1s\n",
            "[CV 2/5] END C=1000, class_weight=balanced, gamma=0.0001, kernel=linear, random_state=21;, score=0.759 total time=   0.1s\n",
            "[CV 3/5] END C=1000, class_weight=balanced, gamma=0.0001, kernel=linear, random_state=21;, score=0.802 total time=   0.1s\n",
            "[CV 4/5] END C=1000, class_weight=balanced, gamma=0.0001, kernel=linear, random_state=21;, score=0.731 total time=   0.1s\n",
            "[CV 5/5] END C=1000, class_weight=balanced, gamma=0.0001, kernel=linear, random_state=21;, score=0.778 total time=   0.1s\n",
            "[CV 1/5] END C=1000, class_weight=balanced, gamma=0.0001, kernel=poly, random_state=21;, score=0.052 total time=   0.1s\n",
            "[CV 2/5] END C=1000, class_weight=balanced, gamma=0.0001, kernel=poly, random_state=21;, score=0.052 total time=   0.1s\n",
            "[CV 3/5] END C=1000, class_weight=balanced, gamma=0.0001, kernel=poly, random_state=21;, score=0.033 total time=   0.1s\n",
            "[CV 4/5] END C=1000, class_weight=balanced, gamma=0.0001, kernel=poly, random_state=21;, score=0.033 total time=   0.1s\n",
            "[CV 5/5] END C=1000, class_weight=balanced, gamma=0.0001, kernel=poly, random_state=21;, score=0.052 total time=   0.1s\n",
            "[CV 1/5] END C=1000, class_weight=balanced, gamma=0.0001, kernel=rbf, random_state=21;, score=0.774 total time=   0.1s\n",
            "[CV 2/5] END C=1000, class_weight=balanced, gamma=0.0001, kernel=rbf, random_state=21;, score=0.783 total time=   0.1s\n",
            "[CV 3/5] END C=1000, class_weight=balanced, gamma=0.0001, kernel=rbf, random_state=21;, score=0.811 total time=   0.1s\n",
            "[CV 4/5] END C=1000, class_weight=balanced, gamma=0.0001, kernel=rbf, random_state=21;, score=0.731 total time=   0.1s\n",
            "[CV 5/5] END C=1000, class_weight=balanced, gamma=0.0001, kernel=rbf, random_state=21;, score=0.816 total time=   0.1s\n",
            "[CV 1/5] END C=1000, class_weight=balanced, gamma=0.0001, kernel=sigmoid, random_state=21;, score=0.774 total time=   0.1s\n",
            "[CV 2/5] END C=1000, class_weight=balanced, gamma=0.0001, kernel=sigmoid, random_state=21;, score=0.764 total time=   0.1s\n",
            "[CV 3/5] END C=1000, class_weight=balanced, gamma=0.0001, kernel=sigmoid, random_state=21;, score=0.830 total time=   0.1s\n",
            "[CV 4/5] END C=1000, class_weight=balanced, gamma=0.0001, kernel=sigmoid, random_state=21;, score=0.741 total time=   0.1s\n",
            "[CV 5/5] END C=1000, class_weight=balanced, gamma=0.0001, kernel=sigmoid, random_state=21;, score=0.816 total time=   0.1s\n"
          ]
        },
        {
          "data": {
            "text/plain": [
              "{'C': 100,\n",
              " 'class_weight': 'balanced',\n",
              " 'gamma': 0.001,\n",
              " 'kernel': 'rbf',\n",
              " 'random_state': 21}"
            ]
          },
          "execution_count": 325,
          "metadata": {},
          "output_type": "execute_result"
        }
      ],
      "source": [
        "cv.fit(X_train, y_train)\n",
        "cv.best_params_"
      ]
    },
    {
      "cell_type": "markdown",
      "metadata": {
        "id": "tgC9qKkBeP7p"
      },
      "source": [
        "Выполните предсказание для тестовых данных при помощи лучшей полученной модели. Вычислите <code>f1_score(average='weighted')</code>"
      ]
    },
    {
      "cell_type": "code",
      "execution_count": 326,
      "metadata": {
        "id": "JFpgqCfRQiir"
      },
      "outputs": [
        {
          "data": {
            "text/plain": [
              "0.7683930747641119"
            ]
          },
          "execution_count": 326,
          "metadata": {},
          "output_type": "execute_result"
        }
      ],
      "source": [
        "svc = SVC(C = 100,\n",
        " class_weight='balanced',\n",
        " gamma=0.001,\n",
        " kernel='rbf',\n",
        " random_state=21)\n",
        "svc.fit(X_train, y_train)\n",
        "pred = svc.predict(X_test)\n",
        "\n",
        "f1_score(y_test, pred, average='weighted')"
      ]
    },
    {
      "cell_type": "markdown",
      "metadata": {
        "id": "Pn3w9DtNe6ii"
      },
      "source": [
        "Видно, что качество модели изменилось незначительно, при этом время обучения существенно сократилось."
      ]
    },
    {
      "cell_type": "code",
      "execution_count": null,
      "metadata": {},
      "outputs": [],
      "source": []
    }
  ],
  "metadata": {
    "colab": {
      "provenance": []
    },
    "kernelspec": {
      "display_name": "Python 3",
      "name": "python3"
    },
    "language_info": {
      "codemirror_mode": {
        "name": "ipython",
        "version": 3
      },
      "file_extension": ".py",
      "mimetype": "text/x-python",
      "name": "python",
      "nbconvert_exporter": "python",
      "pygments_lexer": "ipython3",
      "version": "3.10.4"
    }
  },
  "nbformat": 4,
  "nbformat_minor": 0
}
