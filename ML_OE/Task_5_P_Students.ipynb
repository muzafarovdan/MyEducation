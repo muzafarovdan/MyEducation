{
 "cells": [
  {
   "cell_type": "markdown",
   "metadata": {
    "id": "885nCnaEi6Zq"
   },
   "source": [
    "В этом задании мы рассмотрим работу UDpipe с двумя моделями:\n",
    "\n",
    "* предварительно обученной на SynTagRus [link](https://universaldependencies.org/treebanks/ru_syntagrus/index.html)\n",
    "* обученной на Taiga [link](https://universaldependencies.org/treebanks/ru_taiga/index.html)"
   ]
  },
  {
   "cell_type": "markdown",
   "metadata": {
    "id": "Xi3sqi2ni6Zw"
   },
   "source": [
    "## Подключение необходимых модулей"
   ]
  },
  {
   "cell_type": "code",
   "execution_count": 8,
   "metadata": {
    "colab": {
     "base_uri": "https://localhost:8080/"
    },
    "executionInfo": {
     "elapsed": 80117,
     "status": "ok",
     "timestamp": 1604587760063,
     "user": {
      "displayName": "Anton Alekseev",
      "photoUrl": "https://lh3.googleusercontent.com/a-/AOh14Gj3c5faIb1FbtmpoOW4fAhquuPiaBf1d85jPrZJ-g=s64",
      "userId": "02913249699061138905"
     },
     "user_tz": -180
    },
    "id": "pFELL0b6i6Zz",
    "outputId": "6c9d9cbb-2998-45e8-9fae-87e90371dafe"
   },
   "outputs": [
    {
     "name": "stdout",
     "output_type": "stream",
     "text": [
      "\u001b[33mWARNING: There was an error checking the latest version of pip.\u001b[0m\u001b[33m\n",
      "\u001b[0m\u001b[33mWARNING: There was an error checking the latest version of pip.\u001b[0m\u001b[33m\n",
      "\u001b[0m\u001b[33mWARNING: There was an error checking the latest version of pip.\u001b[0m\u001b[33m\n",
      "\u001b[0m"
     ]
    }
   ],
   "source": [
    "! pip install -q conllu\n",
    "! pip install -q graphviz\n",
    "! pip install -q ufal.udpipe"
   ]
  },
  {
   "cell_type": "markdown",
   "metadata": {
    "id": "-w82dt3Ki6aJ"
   },
   "source": [
    "## Загрузка моделей"
   ]
  },
  {
   "cell_type": "code",
   "execution_count": 9,
   "metadata": {
    "executionInfo": {
     "elapsed": 84321,
     "status": "ok",
     "timestamp": 1604587768108,
     "user": {
      "displayName": "Anton Alekseev",
      "photoUrl": "https://lh3.googleusercontent.com/a-/AOh14Gj3c5faIb1FbtmpoOW4fAhquuPiaBf1d85jPrZJ-g=s64",
      "userId": "02913249699061138905"
     },
     "user_tz": -180
    },
    "id": "kDboaNgQi6aK"
   },
   "outputs": [],
   "source": [
    "!wget -q 'https://lindat.mff.cuni.cz/repository/xmlui/bitstream/handle/11234/1-3131/russian-syntagrus-ud-2.5-191206.udpipe'\n",
    "!wget -q 'https://lindat.mff.cuni.cz/repository/xmlui/bitstream/handle/11234/1-3131/russian-taiga-ud-2.5-191206.udpipe'"
   ]
  },
  {
   "cell_type": "markdown",
   "metadata": {
    "id": "05htpbLZi6as"
   },
   "source": [
    "На этом подготовка материалов завершена, переходим к написанию кода для синтаксического анализа"
   ]
  },
  {
   "cell_type": "markdown",
   "metadata": {
    "id": "4RfK9-zii6aw"
   },
   "source": [
    "## Подключение библиотек"
   ]
  },
  {
   "cell_type": "code",
   "execution_count": 10,
   "metadata": {
    "executionInfo": {
     "elapsed": 77894,
     "status": "ok",
     "timestamp": 1604587768110,
     "user": {
      "displayName": "Anton Alekseev",
      "photoUrl": "https://lh3.googleusercontent.com/a-/AOh14Gj3c5faIb1FbtmpoOW4fAhquuPiaBf1d85jPrZJ-g=s64",
      "userId": "02913249699061138905"
     },
     "user_tz": -180
    },
    "id": "dmf7LI_0i6ax"
   },
   "outputs": [],
   "source": [
    "import sys\n",
    "\n",
    "from conllu import parse\n",
    "from graphviz import Digraph\n",
    "from ufal.udpipe import Model, Pipeline, ProcessingError"
   ]
  },
  {
   "cell_type": "markdown",
   "metadata": {
    "id": "ufl9Rvugi6a3"
   },
   "source": [
    "## Настройка работы с моделями"
   ]
  },
  {
   "cell_type": "code",
   "execution_count": 11,
   "metadata": {
    "colab": {
     "base_uri": "https://localhost:8080/"
    },
    "executionInfo": {
     "elapsed": 5889,
     "status": "ok",
     "timestamp": 1604587774014,
     "user": {
      "displayName": "Anton Alekseev",
      "photoUrl": "https://lh3.googleusercontent.com/a-/AOh14Gj3c5faIb1FbtmpoOW4fAhquuPiaBf1d85jPrZJ-g=s64",
      "userId": "02913249699061138905"
     },
     "user_tz": -180
    },
    "id": "Rj7bbVu4i6a4",
    "outputId": "0bf6f875-50eb-43b3-8bbe-580b58835be9"
   },
   "outputs": [
    {
     "name": "stdout",
     "output_type": "stream",
     "text": [
      "Loading model:russian-syntagrus-ud-2.5-191206.udpipe\n",
      "Loading done\n",
      "Loading model:russian-taiga-ud-2.5-191206.udpipe\n",
      "Loading done\n"
     ]
    }
   ],
   "source": [
    "INPUT_FORMAT = \"tokenize\"\n",
    "OUTPUT_FORMAT = \"conllu\"\n",
    "SYNTAGRUS_MODEL_FILE = \"russian-syntagrus-ud-2.5-191206.udpipe\"\n",
    "TAIGA_MODEL_FILE = \"russian-taiga-ud-2.5-191206.udpipe\"\n",
    "\n",
    "print(\"Loading model:\" + SYNTAGRUS_MODEL_FILE)\n",
    "syntagrus_model = Model.load(SYNTAGRUS_MODEL_FILE)\n",
    "print(\"Loading done\")\n",
    "\n",
    "print(\"Loading model:\" + TAIGA_MODEL_FILE)\n",
    "taiga_model = Model.load(TAIGA_MODEL_FILE)\n",
    "print(\"Loading done\")"
   ]
  },
  {
   "cell_type": "markdown",
   "metadata": {
    "id": "eFV0w_Xmi6bA"
   },
   "source": [
    "## Построение цепочки обработки"
   ]
  },
  {
   "cell_type": "markdown",
   "metadata": {
    "id": "201ztaiki6bB"
   },
   "source": [
    "Строим цепочку обработки  -- от сырого текста до синтаксического дерева"
   ]
  },
  {
   "cell_type": "code",
   "execution_count": 12,
   "metadata": {
    "executionInfo": {
     "elapsed": 5886,
     "status": "ok",
     "timestamp": 1604587774017,
     "user": {
      "displayName": "Anton Alekseev",
      "photoUrl": "https://lh3.googleusercontent.com/a-/AOh14Gj3c5faIb1FbtmpoOW4fAhquuPiaBf1d85jPrZJ-g=s64",
      "userId": "02913249699061138905"
     },
     "user_tz": -180
    },
    "id": "NQxfMF_3i6bC"
   },
   "outputs": [],
   "source": [
    "syntagrus_pipeline = Pipeline(syntagrus_model, INPUT_FORMAT, \n",
    "                              Pipeline.DEFAULT, Pipeline.DEFAULT, OUTPUT_FORMAT)\n",
    "taiga_pipeline = Pipeline(taiga_model, INPUT_FORMAT, \n",
    "                          Pipeline.DEFAULT, Pipeline.DEFAULT, OUTPUT_FORMAT)\n",
    "\n",
    "error = ProcessingError()"
   ]
  },
  {
   "cell_type": "markdown",
   "metadata": {
    "id": "4rmXlR1ei6bI"
   },
   "source": [
    "Применение собственно цепочки обработки к сырому тексту; вывод в формате CoNLL-U."
   ]
  },
  {
   "cell_type": "code",
   "execution_count": 13,
   "metadata": {
    "executionInfo": {
     "elapsed": 5882,
     "status": "ok",
     "timestamp": 1604587774018,
     "user": {
      "displayName": "Anton Alekseev",
      "photoUrl": "https://lh3.googleusercontent.com/a-/AOh14Gj3c5faIb1FbtmpoOW4fAhquuPiaBf1d85jPrZJ-g=s64",
      "userId": "02913249699061138905"
     },
     "user_tz": -180
    },
    "id": "MJedzauNi6bJ"
   },
   "outputs": [],
   "source": [
    "def parse_syntax(raw_text, pipeline):\n",
    "    \"\"\" Applying UDPipe \"\"\"\n",
    "    text = raw_text.strip()\n",
    "\n",
    "    # Process data\n",
    "    processed = pipeline.process(text, error)\n",
    "\n",
    "    if error.occurred():\n",
    "        sys.stderr.write(\"An error occurred when running run_udpipe: \")\n",
    "        sys.stderr.write(error.message)\n",
    "        sys.stderr.write(\"\\n\")\n",
    "\n",
    "    return processed"
   ]
  },
  {
   "cell_type": "markdown",
   "metadata": {
    "id": "CHD7DOp3i6bP"
   },
   "source": [
    "Создадим два разбора, которые и будем сравнивать."
   ]
  },
  {
   "cell_type": "code",
   "execution_count": 14,
   "metadata": {
    "executionInfo": {
     "elapsed": 5878,
     "status": "ok",
     "timestamp": 1604587774019,
     "user": {
      "displayName": "Anton Alekseev",
      "photoUrl": "https://lh3.googleusercontent.com/a-/AOh14Gj3c5faIb1FbtmpoOW4fAhquuPiaBf1d85jPrZJ-g=s64",
      "userId": "02913249699061138905"
     },
     "user_tz": -180
    },
    "id": "svFDIXCli6bS"
   },
   "outputs": [
    {
     "ename": "AttributeError",
     "evalue": "'NoneType' object has no attribute 'process'",
     "output_type": "error",
     "traceback": [
      "\u001b[0;31m---------------------------------------------------------------------------\u001b[0m",
      "\u001b[0;31mAttributeError\u001b[0m                            Traceback (most recent call last)",
      "Cell \u001b[0;32mIn[14], line 1\u001b[0m\n\u001b[0;32m----> 1\u001b[0m syntag \u001b[38;5;241m=\u001b[39m \u001b[43mparse_syntax\u001b[49m\u001b[43m(\u001b[49m\u001b[38;5;124;43m\"\u001b[39;49m\u001b[38;5;124;43mПорвались о прибрежные скалы бедные мои зелёные башмачки.\u001b[39;49m\u001b[38;5;124;43m\"\u001b[39;49m\u001b[43m,\u001b[49m\u001b[43m \u001b[49m\u001b[43msyntagrus_model\u001b[49m\u001b[43m)\u001b[49m\n\u001b[1;32m      2\u001b[0m taiga \u001b[38;5;241m=\u001b[39m parse_syntax(\u001b[38;5;124m\"\u001b[39m\u001b[38;5;124mПорвались о прибрежные скалы бедные мои зелёные башмачки.\u001b[39m\u001b[38;5;124m\"\u001b[39m, taiga_pipeline)\n",
      "Cell \u001b[0;32mIn[13], line 6\u001b[0m, in \u001b[0;36mparse_syntax\u001b[0;34m(raw_text, pipeline)\u001b[0m\n\u001b[1;32m      3\u001b[0m text \u001b[38;5;241m=\u001b[39m raw_text\u001b[38;5;241m.\u001b[39mstrip()\n\u001b[1;32m      5\u001b[0m \u001b[38;5;66;03m# Process data\u001b[39;00m\n\u001b[0;32m----> 6\u001b[0m processed \u001b[38;5;241m=\u001b[39m \u001b[43mpipeline\u001b[49m\u001b[38;5;241;43m.\u001b[39;49m\u001b[43mprocess\u001b[49m(text, error)\n\u001b[1;32m      8\u001b[0m \u001b[38;5;28;01mif\u001b[39;00m error\u001b[38;5;241m.\u001b[39moccurred():\n\u001b[1;32m      9\u001b[0m     sys\u001b[38;5;241m.\u001b[39mstderr\u001b[38;5;241m.\u001b[39mwrite(\u001b[38;5;124m\"\u001b[39m\u001b[38;5;124mAn error occurred when running run_udpipe: \u001b[39m\u001b[38;5;124m\"\u001b[39m)\n",
      "\u001b[0;31mAttributeError\u001b[0m: 'NoneType' object has no attribute 'process'"
     ]
    }
   ],
   "source": [
    "syntag = parse_syntax(\"Порвались о прибрежные скалы бедные мои зелёные башмачки.\", syntagrus_model)\n",
    "taiga = parse_syntax(\"Порвались о прибрежные скалы бедные мои зелёные башмачки.\", taiga_pipeline)"
   ]
  },
  {
   "cell_type": "markdown",
   "metadata": {
    "id": "9JqN3OWvqbuV"
   },
   "source": [
    "Разбор предложения в текстовом виде будет выглядеть следующим образом:"
   ]
  },
  {
   "cell_type": "code",
   "execution_count": null,
   "metadata": {
    "colab": {
     "base_uri": "https://localhost:8080/"
    },
    "executionInfo": {
     "elapsed": 5867,
     "status": "ok",
     "timestamp": 1604587774020,
     "user": {
      "displayName": "Anton Alekseev",
      "photoUrl": "https://lh3.googleusercontent.com/a-/AOh14Gj3c5faIb1FbtmpoOW4fAhquuPiaBf1d85jPrZJ-g=s64",
      "userId": "02913249699061138905"
     },
     "user_tz": -180
    },
    "id": "IciMoyh0qbuW",
    "outputId": "9dec0920-c091-4d98-c424-39ed79aaf97a"
   },
   "outputs": [],
   "source": [
    "print(taiga)"
   ]
  },
  {
   "cell_type": "markdown",
   "metadata": {
    "id": "jYKnnwqVqbuZ"
   },
   "source": [
    "Понятно, что в таком виде производить расчеты не очень удобно. Для вычисления LAS и UAS сначала представим деревья разбора в виде графов."
   ]
  },
  {
   "cell_type": "markdown",
   "metadata": {
    "id": "LGkqQEi1qbua"
   },
   "source": [
    "## Графововое представление дерева разбора\n",
    "\n",
    "Методами библиотеки `conllu` превращаем выданный нам udpipe разбор в формате CoNLL-U в дерево, с которым удобно работать.\n",
    "\n",
    "С помощью стандартного обхода в ширину наполняем рёбрами объект Digraph для последующей визуализации дерева с помощью `graphviz`."
   ]
  },
  {
   "cell_type": "code",
   "execution_count": null,
   "metadata": {
    "executionInfo": {
     "elapsed": 864,
     "status": "ok",
     "timestamp": 1604587847762,
     "user": {
      "displayName": "Anton Alekseev",
      "photoUrl": "https://lh3.googleusercontent.com/a-/AOh14Gj3c5faIb1FbtmpoOW4fAhquuPiaBf1d85jPrZJ-g=s64",
      "userId": "02913249699061138905"
     },
     "user_tz": -180
    },
    "id": "jQ6zzoRni6bo"
   },
   "outputs": [],
   "source": [
    "from conllu import parse\n",
    "from graphviz import Digraph\n",
    "\n",
    "def parse_output(conll):\n",
    "    \"\"\"\n",
    "        Preparing the dependency tree for further processing\n",
    "    \"\"\"\n",
    "    sentences = parse(conll)\n",
    "    return [s.to_tree() for s  in sentences]\n",
    "\n",
    "\n",
    "class Root(object):\n",
    "  def __init__(self, child):\n",
    "    self.token = {\"form\": \"\", \"id\": 0, \"deprel\": \"root\"}\n",
    "    self.children = [child]\n",
    "\n",
    "def draw_tree(tree):\n",
    "    \"\"\" Drawing a dependency tree for debugging stuff \"\"\"\n",
    "\n",
    "    g = Digraph(format='png')\n",
    "\n",
    "    # a queue for tree traversal\n",
    "    queue = [Root(tree)]\n",
    "\n",
    "    while len(queue) > 0:\n",
    "      \n",
    "        head = queue.pop()\n",
    "        head_label = head.token[\"form\"] + \" (%d)\" % head.token[\"id\"]\n",
    "        queue.extend(head.children)\n",
    "\n",
    "        for c in head.children:\n",
    "            c_label = c.token[\"form\"] + \" (%d)\" %  c.token[\"id\"]\n",
    "            g.edge(head_label, c_label, label=c.token[\"deprel\"])\n",
    "\n",
    "    return g"
   ]
  },
  {
   "cell_type": "markdown",
   "metadata": {
    "id": "PGp5oQbUi6cQ"
   },
   "source": [
    "Построим оба дерева"
   ]
  },
  {
   "cell_type": "code",
   "execution_count": null,
   "metadata": {
    "executionInfo": {
     "elapsed": 556,
     "status": "ok",
     "timestamp": 1604587909298,
     "user": {
      "displayName": "Anton Alekseev",
      "photoUrl": "https://lh3.googleusercontent.com/a-/AOh14Gj3c5faIb1FbtmpoOW4fAhquuPiaBf1d85jPrZJ-g=s64",
      "userId": "02913249699061138905"
     },
     "user_tz": -180
    },
    "id": "woGZyXqCqbuf"
   },
   "outputs": [],
   "source": [
    "str_tree = parse_output(syntag.strip())[0]\n",
    "taiga_tree = parse_output(taiga.strip())[0]"
   ]
  },
  {
   "cell_type": "code",
   "execution_count": null,
   "metadata": {
    "colab": {
     "base_uri": "https://localhost:8080/",
     "height": 427
    },
    "executionInfo": {
     "elapsed": 532,
     "status": "ok",
     "timestamp": 1604587911691,
     "user": {
      "displayName": "Anton Alekseev",
      "photoUrl": "https://lh3.googleusercontent.com/a-/AOh14Gj3c5faIb1FbtmpoOW4fAhquuPiaBf1d85jPrZJ-g=s64",
      "userId": "02913249699061138905"
     },
     "user_tz": -180
    },
    "id": "ICivSE4eqbuh",
    "outputId": "b3bc47e4-3dd3-43ad-b01f-cc0340600817"
   },
   "outputs": [
    {
     "data": {
      "image/svg+xml": [
       "<?xml version=\"1.0\" encoding=\"UTF-8\" standalone=\"no\"?>\n",
       "<!DOCTYPE svg PUBLIC \"-//W3C//DTD SVG 1.1//EN\"\n",
       " \"http://www.w3.org/Graphics/SVG/1.1/DTD/svg11.dtd\">\n",
       "<!-- Generated by graphviz version 2.40.1 (20161225.0304)\n",
       " -->\n",
       "<!-- Title: %3 Pages: 1 -->\n",
       "<svg width=\"579pt\" height=\"305pt\"\n",
       " viewBox=\"0.00 0.00 578.84 305.00\" xmlns=\"http://www.w3.org/2000/svg\" xmlns:xlink=\"http://www.w3.org/1999/xlink\">\n",
       "<g id=\"graph0\" class=\"graph\" transform=\"scale(1 1) rotate(0) translate(4 301)\">\n",
       "<title>%3</title>\n",
       "<polygon fill=\"#ffffff\" stroke=\"transparent\" points=\"-4,4 -4,-301 574.8426,-301 574.8426,4 -4,4\"/>\n",
       "<!--  (0) -->\n",
       "<g id=\"node1\" class=\"node\">\n",
       "<title> (0)</title>\n",
       "<ellipse fill=\"none\" stroke=\"#000000\" cx=\"347.5975\" cy=\"-279\" rx=\"27\" ry=\"18\"/>\n",
       "<text text-anchor=\"middle\" x=\"347.5975\" y=\"-275.3\" font-family=\"Times,serif\" font-size=\"14.00\" fill=\"#000000\"> (0)</text>\n",
       "</g>\n",
       "<!-- Порвались (1) -->\n",
       "<g id=\"node2\" class=\"node\">\n",
       "<title>Порвались (1)</title>\n",
       "<ellipse fill=\"none\" stroke=\"#000000\" cx=\"347.5975\" cy=\"-192\" rx=\"66.0889\" ry=\"18\"/>\n",
       "<text text-anchor=\"middle\" x=\"347.5975\" y=\"-188.3\" font-family=\"Times,serif\" font-size=\"14.00\" fill=\"#000000\">Порвались (1)</text>\n",
       "</g>\n",
       "<!--  (0)&#45;&gt;Порвались (1) -->\n",
       "<g id=\"edge1\" class=\"edge\">\n",
       "<title> (0)&#45;&gt;Порвались (1)</title>\n",
       "<path fill=\"none\" stroke=\"#000000\" d=\"M347.5975,-260.9735C347.5975,-249.1918 347.5975,-233.5607 347.5975,-220.1581\"/>\n",
       "<polygon fill=\"#000000\" stroke=\"#000000\" points=\"351.0976,-220.0033 347.5975,-210.0034 344.0976,-220.0034 351.0976,-220.0033\"/>\n",
       "<text text-anchor=\"middle\" x=\"359.5975\" y=\"-231.8\" font-family=\"Times,serif\" font-size=\"14.00\" fill=\"#000000\">root</text>\n",
       "</g>\n",
       "<!-- скалы (4) -->\n",
       "<g id=\"node3\" class=\"node\">\n",
       "<title>скалы (4)</title>\n",
       "<ellipse fill=\"none\" stroke=\"#000000\" cx=\"148.5975\" cy=\"-105\" rx=\"46.5926\" ry=\"18\"/>\n",
       "<text text-anchor=\"middle\" x=\"148.5975\" y=\"-101.3\" font-family=\"Times,serif\" font-size=\"14.00\" fill=\"#000000\">скалы (4)</text>\n",
       "</g>\n",
       "<!-- Порвались (1)&#45;&gt;скалы (4) -->\n",
       "<g id=\"edge2\" class=\"edge\">\n",
       "<title>Порвались (1)&#45;&gt;скалы (4)</title>\n",
       "<path fill=\"none\" stroke=\"#000000\" d=\"M312.4783,-176.6464C277.9605,-161.5557 225.3267,-138.545 189.0702,-122.6941\"/>\n",
       "<polygon fill=\"#000000\" stroke=\"#000000\" points=\"190.3319,-119.4259 179.7673,-118.627 187.5279,-125.8397 190.3319,-119.4259\"/>\n",
       "<text text-anchor=\"middle\" x=\"270.0975\" y=\"-144.8\" font-family=\"Times,serif\" font-size=\"14.00\" fill=\"#000000\">obl</text>\n",
       "</g>\n",
       "<!-- башмачки (8) -->\n",
       "<g id=\"node4\" class=\"node\">\n",
       "<title>башмачки (8)</title>\n",
       "<ellipse fill=\"none\" stroke=\"#000000\" cx=\"347.5975\" cy=\"-105\" rx=\"63.8893\" ry=\"18\"/>\n",
       "<text text-anchor=\"middle\" x=\"347.5975\" y=\"-101.3\" font-family=\"Times,serif\" font-size=\"14.00\" fill=\"#000000\">башмачки (8)</text>\n",
       "</g>\n",
       "<!-- Порвались (1)&#45;&gt;башмачки (8) -->\n",
       "<g id=\"edge3\" class=\"edge\">\n",
       "<title>Порвались (1)&#45;&gt;башмачки (8)</title>\n",
       "<path fill=\"none\" stroke=\"#000000\" d=\"M347.5975,-173.9735C347.5975,-162.1918 347.5975,-146.5607 347.5975,-133.1581\"/>\n",
       "<polygon fill=\"#000000\" stroke=\"#000000\" points=\"351.0976,-133.0033 347.5975,-123.0034 344.0976,-133.0034 351.0976,-133.0033\"/>\n",
       "<text text-anchor=\"middle\" x=\"363.5975\" y=\"-144.8\" font-family=\"Times,serif\" font-size=\"14.00\" fill=\"#000000\">nsubj</text>\n",
       "</g>\n",
       "<!-- . (9) -->\n",
       "<g id=\"node5\" class=\"node\">\n",
       "<title>. (9)</title>\n",
       "<ellipse fill=\"none\" stroke=\"#000000\" cx=\"456.5975\" cy=\"-105\" rx=\"27\" ry=\"18\"/>\n",
       "<text text-anchor=\"middle\" x=\"456.5975\" y=\"-101.3\" font-family=\"Times,serif\" font-size=\"14.00\" fill=\"#000000\">. (9)</text>\n",
       "</g>\n",
       "<!-- Порвались (1)&#45;&gt;. (9) -->\n",
       "<g id=\"edge4\" class=\"edge\">\n",
       "<title>Порвались (1)&#45;&gt;. (9)</title>\n",
       "<path fill=\"none\" stroke=\"#000000\" d=\"M369.1324,-174.8116C386.9672,-160.5764 412.3464,-140.3196 431.1765,-125.2901\"/>\n",
       "<polygon fill=\"#000000\" stroke=\"#000000\" points=\"433.4278,-127.9714 439.0601,-118.9977 429.0611,-122.5004 433.4278,-127.9714\"/>\n",
       "<text text-anchor=\"middle\" x=\"426.0975\" y=\"-144.8\" font-family=\"Times,serif\" font-size=\"14.00\" fill=\"#000000\">punct</text>\n",
       "</g>\n",
       "<!-- о (2) -->\n",
       "<g id=\"node9\" class=\"node\">\n",
       "<title>о (2)</title>\n",
       "<ellipse fill=\"none\" stroke=\"#000000\" cx=\"28.5975\" cy=\"-18\" rx=\"28.6953\" ry=\"18\"/>\n",
       "<text text-anchor=\"middle\" x=\"28.5975\" y=\"-14.3\" font-family=\"Times,serif\" font-size=\"14.00\" fill=\"#000000\">о (2)</text>\n",
       "</g>\n",
       "<!-- скалы (4)&#45;&gt;о (2) -->\n",
       "<g id=\"edge8\" class=\"edge\">\n",
       "<title>скалы (4)&#45;&gt;о (2)</title>\n",
       "<path fill=\"none\" stroke=\"#000000\" d=\"M126.5876,-89.0429C106.7251,-74.6425 77.4267,-53.4012 56.0419,-37.8972\"/>\n",
       "<polygon fill=\"#000000\" stroke=\"#000000\" points=\"57.8494,-34.8846 47.6989,-31.8485 53.7406,-40.5519 57.8494,-34.8846\"/>\n",
       "<text text-anchor=\"middle\" x=\"108.5975\" y=\"-57.8\" font-family=\"Times,serif\" font-size=\"14.00\" fill=\"#000000\">case</text>\n",
       "</g>\n",
       "<!-- прибрежные (3) -->\n",
       "<g id=\"node10\" class=\"node\">\n",
       "<title>прибрежные (3)</title>\n",
       "<ellipse fill=\"none\" stroke=\"#000000\" cx=\"148.5975\" cy=\"-18\" rx=\"73.387\" ry=\"18\"/>\n",
       "<text text-anchor=\"middle\" x=\"148.5975\" y=\"-14.3\" font-family=\"Times,serif\" font-size=\"14.00\" fill=\"#000000\">прибрежные (3)</text>\n",
       "</g>\n",
       "<!-- скалы (4)&#45;&gt;прибрежные (3) -->\n",
       "<g id=\"edge9\" class=\"edge\">\n",
       "<title>скалы (4)&#45;&gt;прибрежные (3)</title>\n",
       "<path fill=\"none\" stroke=\"#000000\" d=\"M148.5975,-86.9735C148.5975,-75.1918 148.5975,-59.5607 148.5975,-46.1581\"/>\n",
       "<polygon fill=\"#000000\" stroke=\"#000000\" points=\"152.0976,-46.0033 148.5975,-36.0034 145.0976,-46.0034 152.0976,-46.0033\"/>\n",
       "<text text-anchor=\"middle\" x=\"165.0975\" y=\"-57.8\" font-family=\"Times,serif\" font-size=\"14.00\" fill=\"#000000\">amod</text>\n",
       "</g>\n",
       "<!-- бедные (5) -->\n",
       "<g id=\"node6\" class=\"node\">\n",
       "<title>бедные (5)</title>\n",
       "<ellipse fill=\"none\" stroke=\"#000000\" cx=\"292.5975\" cy=\"-18\" rx=\"52.7911\" ry=\"18\"/>\n",
       "<text text-anchor=\"middle\" x=\"292.5975\" y=\"-14.3\" font-family=\"Times,serif\" font-size=\"14.00\" fill=\"#000000\">бедные (5)</text>\n",
       "</g>\n",
       "<!-- башмачки (8)&#45;&gt;бедные (5) -->\n",
       "<g id=\"edge5\" class=\"edge\">\n",
       "<title>башмачки (8)&#45;&gt;бедные (5)</title>\n",
       "<path fill=\"none\" stroke=\"#000000\" d=\"M336.2014,-86.9735C328.4066,-74.6435 317.9465,-58.0975 309.2252,-44.3021\"/>\n",
       "<polygon fill=\"#000000\" stroke=\"#000000\" points=\"312.0928,-42.288 303.7907,-35.7057 306.1759,-46.0286 312.0928,-42.288\"/>\n",
       "<text text-anchor=\"middle\" x=\"340.0975\" y=\"-57.8\" font-family=\"Times,serif\" font-size=\"14.00\" fill=\"#000000\">amod</text>\n",
       "</g>\n",
       "<!-- мои (6) -->\n",
       "<g id=\"node7\" class=\"node\">\n",
       "<title>мои (6)</title>\n",
       "<ellipse fill=\"none\" stroke=\"#000000\" cx=\"402.5975\" cy=\"-18\" rx=\"39.7935\" ry=\"18\"/>\n",
       "<text text-anchor=\"middle\" x=\"402.5975\" y=\"-14.3\" font-family=\"Times,serif\" font-size=\"14.00\" fill=\"#000000\">мои (6)</text>\n",
       "</g>\n",
       "<!-- башмачки (8)&#45;&gt;мои (6) -->\n",
       "<g id=\"edge6\" class=\"edge\">\n",
       "<title>башмачки (8)&#45;&gt;мои (6)</title>\n",
       "<path fill=\"none\" stroke=\"#000000\" d=\"M358.9935,-86.9735C366.84,-74.5619 377.3871,-57.8782 386.1427,-44.0284\"/>\n",
       "<polygon fill=\"#000000\" stroke=\"#000000\" points=\"389.2061,-45.7326 391.5913,-35.4097 383.2893,-41.992 389.2061,-45.7326\"/>\n",
       "<text text-anchor=\"middle\" x=\"387.5975\" y=\"-57.8\" font-family=\"Times,serif\" font-size=\"14.00\" fill=\"#000000\">det</text>\n",
       "</g>\n",
       "<!-- зелёные (7) -->\n",
       "<g id=\"node8\" class=\"node\">\n",
       "<title>зелёные (7)</title>\n",
       "<ellipse fill=\"none\" stroke=\"#000000\" cx=\"515.5975\" cy=\"-18\" rx=\"55.4913\" ry=\"18\"/>\n",
       "<text text-anchor=\"middle\" x=\"515.5975\" y=\"-14.3\" font-family=\"Times,serif\" font-size=\"14.00\" fill=\"#000000\">зелёные (7)</text>\n",
       "</g>\n",
       "<!-- башмачки (8)&#45;&gt;зелёные (7) -->\n",
       "<g id=\"edge7\" class=\"edge\">\n",
       "<title>башмачки (8)&#45;&gt;зелёные (7)</title>\n",
       "<path fill=\"none\" stroke=\"#000000\" d=\"M378.4113,-89.0429C406.2254,-74.6391 447.2562,-53.391 477.1968,-37.8861\"/>\n",
       "<polygon fill=\"#000000\" stroke=\"#000000\" points=\"478.8353,-40.9791 486.1058,-33.2725 475.6163,-34.7631 478.8353,-40.9791\"/>\n",
       "<text text-anchor=\"middle\" x=\"459.0975\" y=\"-57.8\" font-family=\"Times,serif\" font-size=\"14.00\" fill=\"#000000\">amod</text>\n",
       "</g>\n",
       "</g>\n",
       "</svg>\n"
      ],
      "text/plain": [
       "<graphviz.dot.Digraph at 0x7f775e19c4e0>"
      ]
     },
     "execution_count": 12,
     "metadata": {
      "tags": []
     },
     "output_type": "execute_result"
    }
   ],
   "source": [
    "draw_tree(str_tree)"
   ]
  },
  {
   "cell_type": "code",
   "execution_count": null,
   "metadata": {
    "colab": {
     "base_uri": "https://localhost:8080/",
     "height": 543
    },
    "executionInfo": {
     "elapsed": 534,
     "status": "ok",
     "timestamp": 1604587925091,
     "user": {
      "displayName": "Anton Alekseev",
      "photoUrl": "https://lh3.googleusercontent.com/a-/AOh14Gj3c5faIb1FbtmpoOW4fAhquuPiaBf1d85jPrZJ-g=s64",
      "userId": "02913249699061138905"
     },
     "user_tz": -180
    },
    "id": "a_8Oxw6Bqbuj",
    "outputId": "91e1dff6-92a4-47a4-ff36-96e2e8f8cd04"
   },
   "outputs": [
    {
     "data": {
      "image/svg+xml": [
       "<?xml version=\"1.0\" encoding=\"UTF-8\" standalone=\"no\"?>\n",
       "<!DOCTYPE svg PUBLIC \"-//W3C//DTD SVG 1.1//EN\"\n",
       " \"http://www.w3.org/Graphics/SVG/1.1/DTD/svg11.dtd\">\n",
       "<!-- Generated by graphviz version 2.40.1 (20161225.0304)\n",
       " -->\n",
       "<!-- Title: %3 Pages: 1 -->\n",
       "<svg width=\"480pt\" height=\"392pt\"\n",
       " viewBox=\"0.00 0.00 479.84 392.00\" xmlns=\"http://www.w3.org/2000/svg\" xmlns:xlink=\"http://www.w3.org/1999/xlink\">\n",
       "<g id=\"graph0\" class=\"graph\" transform=\"scale(1 1) rotate(0) translate(4 388)\">\n",
       "<title>%3</title>\n",
       "<polygon fill=\"#ffffff\" stroke=\"transparent\" points=\"-4,4 -4,-388 475.8426,-388 475.8426,4 -4,4\"/>\n",
       "<!--  (0) -->\n",
       "<g id=\"node1\" class=\"node\">\n",
       "<title> (0)</title>\n",
       "<ellipse fill=\"none\" stroke=\"#000000\" cx=\"194.5975\" cy=\"-366\" rx=\"27\" ry=\"18\"/>\n",
       "<text text-anchor=\"middle\" x=\"194.5975\" y=\"-362.3\" font-family=\"Times,serif\" font-size=\"14.00\" fill=\"#000000\"> (0)</text>\n",
       "</g>\n",
       "<!-- Порвались (1) -->\n",
       "<g id=\"node2\" class=\"node\">\n",
       "<title>Порвались (1)</title>\n",
       "<ellipse fill=\"none\" stroke=\"#000000\" cx=\"194.5975\" cy=\"-279\" rx=\"66.0889\" ry=\"18\"/>\n",
       "<text text-anchor=\"middle\" x=\"194.5975\" y=\"-275.3\" font-family=\"Times,serif\" font-size=\"14.00\" fill=\"#000000\">Порвались (1)</text>\n",
       "</g>\n",
       "<!--  (0)&#45;&gt;Порвались (1) -->\n",
       "<g id=\"edge1\" class=\"edge\">\n",
       "<title> (0)&#45;&gt;Порвались (1)</title>\n",
       "<path fill=\"none\" stroke=\"#000000\" d=\"M194.5975,-347.9735C194.5975,-336.1918 194.5975,-320.5607 194.5975,-307.1581\"/>\n",
       "<polygon fill=\"#000000\" stroke=\"#000000\" points=\"198.0976,-307.0033 194.5975,-297.0034 191.0976,-307.0034 198.0976,-307.0033\"/>\n",
       "<text text-anchor=\"middle\" x=\"206.5975\" y=\"-318.8\" font-family=\"Times,serif\" font-size=\"14.00\" fill=\"#000000\">root</text>\n",
       "</g>\n",
       "<!-- скалы (4) -->\n",
       "<g id=\"node3\" class=\"node\">\n",
       "<title>скалы (4)</title>\n",
       "<ellipse fill=\"none\" stroke=\"#000000\" cx=\"148.5975\" cy=\"-192\" rx=\"46.5926\" ry=\"18\"/>\n",
       "<text text-anchor=\"middle\" x=\"148.5975\" y=\"-188.3\" font-family=\"Times,serif\" font-size=\"14.00\" fill=\"#000000\">скалы (4)</text>\n",
       "</g>\n",
       "<!-- Порвались (1)&#45;&gt;скалы (4) -->\n",
       "<g id=\"edge2\" class=\"edge\">\n",
       "<title>Порвались (1)&#45;&gt;скалы (4)</title>\n",
       "<path fill=\"none\" stroke=\"#000000\" d=\"M185.0662,-260.9735C178.609,-248.7609 169.9649,-232.4123 162.7131,-218.697\"/>\n",
       "<polygon fill=\"#000000\" stroke=\"#000000\" points=\"165.7275,-216.9101 157.9591,-209.7057 159.5392,-220.182 165.7275,-216.9101\"/>\n",
       "<text text-anchor=\"middle\" x=\"184.0975\" y=\"-231.8\" font-family=\"Times,serif\" font-size=\"14.00\" fill=\"#000000\">obl</text>\n",
       "</g>\n",
       "<!-- . (9) -->\n",
       "<g id=\"node4\" class=\"node\">\n",
       "<title>. (9)</title>\n",
       "<ellipse fill=\"none\" stroke=\"#000000\" cx=\"240.5975\" cy=\"-192\" rx=\"27\" ry=\"18\"/>\n",
       "<text text-anchor=\"middle\" x=\"240.5975\" y=\"-188.3\" font-family=\"Times,serif\" font-size=\"14.00\" fill=\"#000000\">. (9)</text>\n",
       "</g>\n",
       "<!-- Порвались (1)&#45;&gt;. (9) -->\n",
       "<g id=\"edge3\" class=\"edge\">\n",
       "<title>Порвались (1)&#45;&gt;. (9)</title>\n",
       "<path fill=\"none\" stroke=\"#000000\" d=\"M204.1287,-260.9735C210.6715,-248.5992 219.4594,-231.9785 226.7692,-218.1534\"/>\n",
       "<polygon fill=\"#000000\" stroke=\"#000000\" points=\"229.9678,-219.5917 231.5479,-209.1154 223.7796,-216.3198 229.9678,-219.5917\"/>\n",
       "<text text-anchor=\"middle\" x=\"237.0975\" y=\"-231.8\" font-family=\"Times,serif\" font-size=\"14.00\" fill=\"#000000\">punct</text>\n",
       "</g>\n",
       "<!-- о (2) -->\n",
       "<g id=\"node5\" class=\"node\">\n",
       "<title>о (2)</title>\n",
       "<ellipse fill=\"none\" stroke=\"#000000\" cx=\"28.5975\" cy=\"-105\" rx=\"28.6953\" ry=\"18\"/>\n",
       "<text text-anchor=\"middle\" x=\"28.5975\" y=\"-101.3\" font-family=\"Times,serif\" font-size=\"14.00\" fill=\"#000000\">о (2)</text>\n",
       "</g>\n",
       "<!-- скалы (4)&#45;&gt;о (2) -->\n",
       "<g id=\"edge4\" class=\"edge\">\n",
       "<title>скалы (4)&#45;&gt;о (2)</title>\n",
       "<path fill=\"none\" stroke=\"#000000\" d=\"M126.5876,-176.0429C106.7251,-161.6425 77.4267,-140.4012 56.0419,-124.8972\"/>\n",
       "<polygon fill=\"#000000\" stroke=\"#000000\" points=\"57.8494,-121.8846 47.6989,-118.8485 53.7406,-127.5519 57.8494,-121.8846\"/>\n",
       "<text text-anchor=\"middle\" x=\"108.5975\" y=\"-144.8\" font-family=\"Times,serif\" font-size=\"14.00\" fill=\"#000000\">case</text>\n",
       "</g>\n",
       "<!-- прибрежные (3) -->\n",
       "<g id=\"node6\" class=\"node\">\n",
       "<title>прибрежные (3)</title>\n",
       "<ellipse fill=\"none\" stroke=\"#000000\" cx=\"148.5975\" cy=\"-105\" rx=\"73.387\" ry=\"18\"/>\n",
       "<text text-anchor=\"middle\" x=\"148.5975\" y=\"-101.3\" font-family=\"Times,serif\" font-size=\"14.00\" fill=\"#000000\">прибрежные (3)</text>\n",
       "</g>\n",
       "<!-- скалы (4)&#45;&gt;прибрежные (3) -->\n",
       "<g id=\"edge5\" class=\"edge\">\n",
       "<title>скалы (4)&#45;&gt;прибрежные (3)</title>\n",
       "<path fill=\"none\" stroke=\"#000000\" d=\"M148.5975,-173.9735C148.5975,-162.1918 148.5975,-146.5607 148.5975,-133.1581\"/>\n",
       "<polygon fill=\"#000000\" stroke=\"#000000\" points=\"152.0976,-133.0033 148.5975,-123.0034 145.0976,-133.0034 152.0976,-133.0033\"/>\n",
       "<text text-anchor=\"middle\" x=\"165.0975\" y=\"-144.8\" font-family=\"Times,serif\" font-size=\"14.00\" fill=\"#000000\">amod</text>\n",
       "</g>\n",
       "<!-- башмачки (8) -->\n",
       "<g id=\"node7\" class=\"node\">\n",
       "<title>башмачки (8)</title>\n",
       "<ellipse fill=\"none\" stroke=\"#000000\" cx=\"303.5975\" cy=\"-105\" rx=\"63.8893\" ry=\"18\"/>\n",
       "<text text-anchor=\"middle\" x=\"303.5975\" y=\"-101.3\" font-family=\"Times,serif\" font-size=\"14.00\" fill=\"#000000\">башмачки (8)</text>\n",
       "</g>\n",
       "<!-- скалы (4)&#45;&gt;башмачки (8) -->\n",
       "<g id=\"edge6\" class=\"edge\">\n",
       "<title>скалы (4)&#45;&gt;башмачки (8)</title>\n",
       "<path fill=\"none\" stroke=\"#000000\" d=\"M175.2429,-177.0442C200.3141,-162.9719 238.0979,-141.7643 266.1866,-125.9983\"/>\n",
       "<polygon fill=\"#000000\" stroke=\"#000000\" points=\"267.9301,-129.0334 274.9373,-121.0867 264.5039,-122.9292 267.9301,-129.0334\"/>\n",
       "<text text-anchor=\"middle\" x=\"252.5975\" y=\"-144.8\" font-family=\"Times,serif\" font-size=\"14.00\" fill=\"#000000\">nmod</text>\n",
       "</g>\n",
       "<!-- бедные (5) -->\n",
       "<g id=\"node8\" class=\"node\">\n",
       "<title>бедные (5)</title>\n",
       "<ellipse fill=\"none\" stroke=\"#000000\" cx=\"193.5975\" cy=\"-18\" rx=\"52.7911\" ry=\"18\"/>\n",
       "<text text-anchor=\"middle\" x=\"193.5975\" y=\"-14.3\" font-family=\"Times,serif\" font-size=\"14.00\" fill=\"#000000\">бедные (5)</text>\n",
       "</g>\n",
       "<!-- башмачки (8)&#45;&gt;бедные (5) -->\n",
       "<g id=\"edge7\" class=\"edge\">\n",
       "<title>башмачки (8)&#45;&gt;бедные (5)</title>\n",
       "<path fill=\"none\" stroke=\"#000000\" d=\"M282.1272,-88.019C265.1345,-74.5793 241.2368,-55.6784 222.5528,-40.901\"/>\n",
       "<polygon fill=\"#000000\" stroke=\"#000000\" points=\"224.6544,-38.1009 214.6399,-34.6426 220.312,-43.5912 224.6544,-38.1009\"/>\n",
       "<text text-anchor=\"middle\" x=\"272.0975\" y=\"-57.8\" font-family=\"Times,serif\" font-size=\"14.00\" fill=\"#000000\">amod</text>\n",
       "</g>\n",
       "<!-- мои (6) -->\n",
       "<g id=\"node9\" class=\"node\">\n",
       "<title>мои (6)</title>\n",
       "<ellipse fill=\"none\" stroke=\"#000000\" cx=\"303.5975\" cy=\"-18\" rx=\"39.7935\" ry=\"18\"/>\n",
       "<text text-anchor=\"middle\" x=\"303.5975\" y=\"-14.3\" font-family=\"Times,serif\" font-size=\"14.00\" fill=\"#000000\">мои (6)</text>\n",
       "</g>\n",
       "<!-- башмачки (8)&#45;&gt;мои (6) -->\n",
       "<g id=\"edge8\" class=\"edge\">\n",
       "<title>башмачки (8)&#45;&gt;мои (6)</title>\n",
       "<path fill=\"none\" stroke=\"#000000\" d=\"M303.5975,-86.9735C303.5975,-75.1918 303.5975,-59.5607 303.5975,-46.1581\"/>\n",
       "<polygon fill=\"#000000\" stroke=\"#000000\" points=\"307.0976,-46.0033 303.5975,-36.0034 300.0976,-46.0034 307.0976,-46.0033\"/>\n",
       "<text text-anchor=\"middle\" x=\"312.5975\" y=\"-57.8\" font-family=\"Times,serif\" font-size=\"14.00\" fill=\"#000000\">det</text>\n",
       "</g>\n",
       "<!-- зелёные (7) -->\n",
       "<g id=\"node10\" class=\"node\">\n",
       "<title>зелёные (7)</title>\n",
       "<ellipse fill=\"none\" stroke=\"#000000\" cx=\"416.5975\" cy=\"-18\" rx=\"55.4913\" ry=\"18\"/>\n",
       "<text text-anchor=\"middle\" x=\"416.5975\" y=\"-14.3\" font-family=\"Times,serif\" font-size=\"14.00\" fill=\"#000000\">зелёные (7)</text>\n",
       "</g>\n",
       "<!-- башмачки (8)&#45;&gt;зелёные (7) -->\n",
       "<g id=\"edge9\" class=\"edge\">\n",
       "<title>башмачки (8)&#45;&gt;зелёные (7)</title>\n",
       "<path fill=\"none\" stroke=\"#000000\" d=\"M325.6533,-88.019C343.1094,-74.5793 367.6589,-55.6784 386.8525,-40.901\"/>\n",
       "<polygon fill=\"#000000\" stroke=\"#000000\" points=\"389.1927,-43.5164 394.9812,-34.6426 384.9223,-37.9699 389.1927,-43.5164\"/>\n",
       "<text text-anchor=\"middle\" x=\"384.0975\" y=\"-57.8\" font-family=\"Times,serif\" font-size=\"14.00\" fill=\"#000000\">amod</text>\n",
       "</g>\n",
       "</g>\n",
       "</svg>\n"
      ],
      "text/plain": [
       "<graphviz.dot.Digraph at 0x7f775e19c4a8>"
      ]
     },
     "execution_count": 13,
     "metadata": {
      "tags": []
     },
     "output_type": "execute_result"
    }
   ],
   "source": [
    "draw_tree(taiga_tree)"
   ]
  },
  {
   "cell_type": "markdown",
   "metadata": {
    "id": "jU8n4urmqbul"
   },
   "source": [
    "Теперь можно переходить к расчету метрик"
   ]
  },
  {
   "cell_type": "markdown",
   "metadata": {
    "id": "VI1qm9bGqbuo"
   },
   "source": [
    "## Вычисление LAS и UAS\n",
    "\n",
    "Для этого набираем множества всех рёбер с метками и без и смотрим на размеры пересечений."
   ]
  },
  {
   "cell_type": "code",
   "execution_count": null,
   "metadata": {
    "id": "fEetAmXx6wAM"
   },
   "outputs": [],
   "source": [
    "def edges_sets(tree):\n",
    "  \"\"\" Reading edges encoded as strings \"\"\"\n",
    "\n",
    "  edges_labeled = []\n",
    "  edges_unlabeled = []\n",
    "  queue = [Root(tree)]\n",
    "  \n",
    "  while len(queue) > 0:\n",
    "    head = queue.pop()\n",
    "    head_label = head.token[\"form\"] + \" (%d)\" % head.token[\"id\"]\n",
    "    queue.extend(head.children)\n",
    "    \n",
    "    for c in head.children:\n",
    "      c_label = c.token[\"form\"] + \" (%d)\" %  c.token[\"id\"]\n",
    "      edges_unlabeled.append((head_label, c_label))\n",
    "      edges_labeled.append((head_label, c_label, c.token[\"deprel\"]))\n",
    "  \n",
    "  return set(edges_labeled), set(edges_unlabeled)"
   ]
  },
  {
   "cell_type": "code",
   "execution_count": null,
   "metadata": {
    "colab": {
     "base_uri": "https://localhost:8080/",
     "height": 36
    },
    "executionInfo": {
     "elapsed": 545,
     "status": "ok",
     "timestamp": 1604588031589,
     "user": {
      "displayName": "Anton Alekseev",
      "photoUrl": "https://lh3.googleusercontent.com/a-/AOh14Gj3c5faIb1FbtmpoOW4fAhquuPiaBf1d85jPrZJ-g=s64",
      "userId": "02913249699061138905"
     },
     "user_tz": -180
    },
    "id": "SCT4HgK_i6cU",
    "outputId": "c883715c-8a3b-4b00-c060-752fb2af87b9"
   },
   "outputs": [
    {
     "data": {
      "application/vnd.google.colaboratory.intrinsic+json": {
       "type": "string"
      },
      "text/plain": [
       "'LAS: 0.8889 UAS: 0.8889'"
      ]
     },
     "execution_count": 14,
     "metadata": {
      "tags": []
     },
     "output_type": "execute_result"
    }
   ],
   "source": [
    "def accuracy(gold, pred):\n",
    "  gold_labeled, gold_unlabeled = edges_sets(gold)\n",
    "  pred_labeled, pred_unlabeled = edges_sets(pred)\n",
    "\n",
    "  return len(gold_labeled.intersection(pred_labeled)) / len(gold_labeled), \\\n",
    "          len(gold_unlabeled.intersection(pred_unlabeled)) / len(gold_unlabeled)\n",
    "\n",
    "LAS, UAS = accuracy(str_tree, taiga_tree)\n",
    "\"LAS: %.4f UAS: %.4f\" % (LAS, UAS)"
   ]
  },
  {
   "cell_type": "markdown",
   "metadata": {
    "id": "XPsQ9gBtrKVL"
   },
   "source": [
    "Можно заметить, что в первом случае слово <code>башмачки</code> зависит от слова <code>порвались</code>, а во втором -- от слова <code>скалы</code>.\n",
    "Отдельно хотим напомнить, что таким образом корректно сравнивать парсеры только в том случае, когда токензация полностью совпадает."
   ]
  },
  {
   "cell_type": "markdown",
   "metadata": {
    "id": "n08jVsZwu_5R"
   },
   "source": [
    "## Вычисление глубины дерева"
   ]
  },
  {
   "cell_type": "markdown",
   "metadata": {
    "id": "B9LoRI_Hu_5R"
   },
   "source": [
    "Вычислим глубину дерева, например, для разбора модели taiga (ребро root не учитывается).\n",
    "\n",
    "Для этого также можно использовать, например, обход в ширину."
   ]
  },
  {
   "cell_type": "code",
   "execution_count": null,
   "metadata": {
    "colab": {
     "base_uri": "https://localhost:8080/"
    },
    "executionInfo": {
     "elapsed": 526,
     "status": "ok",
     "timestamp": 1604588072178,
     "user": {
      "displayName": "Anton Alekseev",
      "photoUrl": "https://lh3.googleusercontent.com/a-/AOh14Gj3c5faIb1FbtmpoOW4fAhquuPiaBf1d85jPrZJ-g=s64",
      "userId": "02913249699061138905"
     },
     "user_tz": -180
    },
    "id": "_WKDvvPxi6cX",
    "outputId": "c67fc30b-9803-4994-a030-6f5feabdb94b"
   },
   "outputs": [
    {
     "name": "stdout",
     "output_type": "stream",
     "text": [
      "Глубина дерева:  3\n"
     ]
    }
   ],
   "source": [
    "depth = 0\n",
    "queue = [(taiga_tree, depth)]\n",
    "\n",
    "while len(queue) > 0:\n",
    "    head, depth = queue.pop(0)\n",
    "    queue.extend([(c, depth + 1) for c in head.children])\n",
    "    #print(\"checking\", head.token[\"form\"])\n",
    "    \n",
    "print(\"Глубина дерева: \", depth)"
   ]
  },
  {
   "cell_type": "code",
   "execution_count": null,
   "metadata": {
    "id": "45zc-ojN5uph"
   },
   "outputs": [],
   "source": []
  }
 ],
 "metadata": {
  "colab": {
   "collapsed_sections": [],
   "name": "Task_5_P_Students.ipynb",
   "provenance": [],
   "toc_visible": true
  },
  "kernelspec": {
   "display_name": "Python 3",
   "language": "python",
   "name": "python3"
  },
  "language_info": {
   "codemirror_mode": {
    "name": "ipython",
    "version": 3
   },
   "file_extension": ".py",
   "mimetype": "text/x-python",
   "name": "python",
   "nbconvert_exporter": "python",
   "pygments_lexer": "ipython3",
   "version": "3.9.18"
  }
 },
 "nbformat": 4,
 "nbformat_minor": 4
}
