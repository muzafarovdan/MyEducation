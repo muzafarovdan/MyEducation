{
 "cells": [
  {
   "cell_type": "code",
   "execution_count": 3,
   "metadata": {},
   "outputs": [],
   "source": [
    "import numpy as np"
   ]
  },
  {
   "cell_type": "code",
   "execution_count": 37,
   "metadata": {},
   "outputs": [
    {
     "data": {
      "text/plain": [
       "array([[nan, nan, nan],\n",
       "       [ 1.,  9., 15.],\n",
       "       [ 2.,  4.,  9.],\n",
       "       [ 3., 17., 41.],\n",
       "       [ 4.,  2.,  1.],\n",
       "       [ 5., 14., 32.],\n",
       "       [ 6., 10., 22.],\n",
       "       [ 7., 13., 30.],\n",
       "       [ 8.,  1.,  4.],\n",
       "       [ 9., 11., 31.],\n",
       "       [10.,  3.,  8.]])"
      ]
     },
     "execution_count": 37,
     "metadata": {},
     "output_type": "execute_result"
    }
   ],
   "source": [
    "df = np.genfromtxt('/Users/muzafarov/Desktop/MyEducation/ML_OE/задание 3.csv', delimiter=',')\n",
    "df"
   ]
  },
  {
   "cell_type": "code",
   "execution_count": 38,
   "metadata": {},
   "outputs": [
    {
     "data": {
      "text/plain": [
       "array([[ 1.,  9., 15.],\n",
       "       [ 2.,  4.,  9.],\n",
       "       [ 3., 17., 41.],\n",
       "       [ 4.,  2.,  1.],\n",
       "       [ 5., 14., 32.],\n",
       "       [ 6., 10., 22.],\n",
       "       [ 7., 13., 30.],\n",
       "       [ 8.,  1.,  4.],\n",
       "       [ 9., 11., 31.],\n",
       "       [10.,  3.,  8.]])"
      ]
     },
     "execution_count": 38,
     "metadata": {},
     "output_type": "execute_result"
    }
   ],
   "source": [
    "df = np.delete(df, (0), axis=0)\n",
    "df"
   ]
  },
  {
   "cell_type": "code",
   "execution_count": 26,
   "metadata": {},
   "outputs": [
    {
     "data": {
      "text/plain": [
       "18.3"
      ]
     },
     "execution_count": 26,
     "metadata": {},
     "output_type": "execute_result"
    }
   ],
   "source": [
    "(9 + 4 + 17 + 2 + 14 + 10 + 13 + 1 + 11 + 3)/10\n",
    "(15 + 9 + 31 + 1 + 32 + 22 + 30 + 4 + 31 + 8) / 10"
   ]
  },
  {
   "cell_type": "code",
   "execution_count": 39,
   "metadata": {},
   "outputs": [],
   "source": [
    "all_mean = df.mean(axis=0)"
   ]
  },
  {
   "cell_type": "code",
   "execution_count": 41,
   "metadata": {},
   "outputs": [
    {
     "data": {
      "text/plain": [
       "8.4"
      ]
     },
     "execution_count": 41,
     "metadata": {},
     "output_type": "execute_result"
    }
   ],
   "source": [
    "mean_X = all_mean[1]\n",
    "mean_X"
   ]
  },
  {
   "cell_type": "code",
   "execution_count": 43,
   "metadata": {},
   "outputs": [
    {
     "data": {
      "text/plain": [
       "19.3"
      ]
     },
     "execution_count": 43,
     "metadata": {},
     "output_type": "execute_result"
    }
   ],
   "source": [
    "mean_Y = all_mean[2]\n",
    "mean_Y"
   ]
  },
  {
   "cell_type": "code",
   "execution_count": 45,
   "metadata": {},
   "outputs": [
    {
     "data": {
      "text/plain": [
       "2.4101283880171183"
      ]
     },
     "execution_count": 45,
     "metadata": {},
     "output_type": "execute_result"
    }
   ],
   "source": [
    "sum_up = 0\n",
    "sum_down = 0\n",
    "for i in range(10):\n",
    "    sum_up += (df[i][1] - mean_X)*(df[i][2] - mean_Y)\n",
    "    sum_down += (df[i][1] - mean_X)**2\n",
    "thetta1 = sum_up / sum_down\n",
    "thetta1"
   ]
  },
  {
   "cell_type": "code",
   "execution_count": 46,
   "metadata": {},
   "outputs": [
    {
     "data": {
      "text/plain": [
       "-0.9450784593437938"
      ]
     },
     "execution_count": 46,
     "metadata": {},
     "output_type": "execute_result"
    }
   ],
   "source": [
    "thetta0 = mean_Y - thetta1 * mean_X\n",
    "thetta0"
   ]
  },
  {
   "cell_type": "code",
   "execution_count": 47,
   "metadata": {},
   "outputs": [
    {
     "data": {
      "text/plain": [
       "0.9513257196553756"
      ]
     },
     "execution_count": 47,
     "metadata": {},
     "output_type": "execute_result"
    }
   ],
   "source": [
    "sum_up_det = 0\n",
    "sum_down_det = 0\n",
    "for i in range(10):\n",
    "    sum_up_det += (df[i][2] - thetta0 - thetta1 * df[i][1])**2\n",
    "    sum_down_det += (df[i][2] - mean_Y)**2\n",
    "coef_det = 1 - (sum_up_det / sum_down_det)\n",
    "coef_det"
   ]
  }
 ],
 "metadata": {
  "kernelspec": {
   "display_name": "ML_OE",
   "language": "python",
   "name": "python3"
  },
  "language_info": {
   "codemirror_mode": {
    "name": "ipython",
    "version": 3
   },
   "file_extension": ".py",
   "mimetype": "text/x-python",
   "name": "python",
   "nbconvert_exporter": "python",
   "pygments_lexer": "ipython3",
   "version": "3.10.4"
  }
 },
 "nbformat": 4,
 "nbformat_minor": 2
}
