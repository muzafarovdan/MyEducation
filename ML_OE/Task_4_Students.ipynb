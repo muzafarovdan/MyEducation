{
 "cells": [
  {
   "cell_type": "markdown",
   "metadata": {
    "colab_type": "text",
    "id": "yLYpSPDlW9LC"
   },
   "source": [
    "## Скачиваем необходимое\n",
    "\n",
    "Сначала нужно средствами NLTK загрузить WordNet.\n",
    "\n"
   ]
  },
  {
   "cell_type": "code",
   "execution_count": 2,
   "metadata": {
    "colab": {
     "base_uri": "https://localhost:8080/",
     "height": 73
    },
    "colab_type": "code",
    "executionInfo": {
     "elapsed": 3804,
     "status": "ok",
     "timestamp": 1600020035301,
     "user": {
      "displayName": "Anton Alekseev",
      "photoUrl": "https://lh3.googleusercontent.com/a-/AOh14Gj3c5faIb1FbtmpoOW4fAhquuPiaBf1d85jPrZJ-g=s64",
      "userId": "02913249699061138905"
     },
     "user_tz": -180
    },
    "id": "YhTQ6EFXZ5R9",
    "outputId": "b9e976e9-2692-457d-b0ff-866869787d67"
   },
   "outputs": [
    {
     "name": "stderr",
     "output_type": "stream",
     "text": [
      "[nltk_data] Downloading package wordnet to\n",
      "[nltk_data]     /Users/dmitriair/nltk_data...\n",
      "[nltk_data]   Package wordnet is already up-to-date!\n"
     ]
    },
    {
     "data": {
      "text/plain": [
       "True"
      ]
     },
     "execution_count": 2,
     "metadata": {},
     "output_type": "execute_result"
    }
   ],
   "source": [
    "import nltk\n",
    "from nltk.corpus import wordnet as wn\n",
    "nltk.download('wordnet')"
   ]
  },
  {
   "cell_type": "markdown",
   "metadata": {
    "colab_type": "text",
    "id": "EIQ4rEytvwLZ"
   },
   "source": [
    "## Готовим данные к работе\n",
    "\n",
    "Затем импортируем данные из подготовленного текстового файла. Файл содержит набор пар слов (только имён существительных), для которых известны экспертные оценки сходства.\n",
    "\n",
    "Строим ассоциативный массив \"пара слов -- оценка близости\"."
   ]
  },
  {
   "cell_type": "code",
   "execution_count": 4,
   "metadata": {
    "colab": {},
    "colab_type": "code",
    "executionInfo": {
     "elapsed": 2212,
     "status": "ok",
     "timestamp": 1600020038741,
     "user": {
      "displayName": "Anton Alekseev",
      "photoUrl": "https://lh3.googleusercontent.com/a-/AOh14Gj3c5faIb1FbtmpoOW4fAhquuPiaBf1d85jPrZJ-g=s64",
      "userId": "02913249699061138905"
     },
     "user_tz": -180
    },
    "id": "_sTFACx3dAk8"
   },
   "outputs": [],
   "source": [
    "with open(\"wordsim_similarity_goldstandard.txt\", encoding=\"utf-8\") as rf:\n",
    "  triples = [line.strip().split(\"\\t\") for line in rf.readlines()]\n",
    "  score_map = {tuple(triple[:2]): float(triple[2]) for triple in triples}"
   ]
  },
  {
   "cell_type": "markdown",
   "metadata": {},
   "source": [
    "Отметим, что из исходного набора данных мы взяли только экспертные оценки сходства (similarity) и только для существительных. Исходный набор данных доступен по [ссылке](http://alfonseca.org/pubs/ws353simrel.tar.gz)"
   ]
  },
  {
   "cell_type": "markdown",
   "metadata": {
    "colab_type": "text",
    "id": "96B0OtKrvtaG"
   },
   "source": [
    "Посмотрим на примеры оценок. \n",
    "\n",
    "У слов может быть по несколько значений, которые различаются в WordNet. Здесь -- ради примера -- мы будем \"жадно\" выбирать первое попавшееся, но далее будем работать с ними иначе.\n",
    "\n",
    "\n"
   ]
  },
  {
   "cell_type": "code",
   "execution_count": 13,
   "metadata": {
    "colab": {
     "base_uri": "https://localhost:8080/",
     "height": 166
    },
    "colab_type": "code",
    "executionInfo": {
     "elapsed": 10602,
     "status": "ok",
     "timestamp": 1600020204121,
     "user": {
      "displayName": "Anton Alekseev",
      "photoUrl": "https://lh3.googleusercontent.com/a-/AOh14Gj3c5faIb1FbtmpoOW4fAhquuPiaBf1d85jPrZJ-g=s64",
      "userId": "02913249699061138905"
     },
     "user_tz": -180
    },
    "id": "7iXamIiZgf-O",
    "outputId": "c5b3c7ea-c476-4235-f474-b1358c584ddf"
   },
   "outputs": [
    {
     "name": "stdout",
     "output_type": "stream",
     "text": [
      "\n",
      "Words: tiger-cat\n",
      "Ground truth score: 7.35\n",
      "\n",
      "Path: 0.091 \n",
      "wup: 0.545 \n",
      "shortest_path: 10.000\n",
      "\n",
      "Words: tiger-tiger\n",
      "Ground truth score: 10.00\n",
      "\n",
      "Path: 1.000 \n",
      "wup: 0.750 \n",
      "shortest_path: 0.000\n"
     ]
    }
   ],
   "source": [
    "for w1, w2 in list(score_map)[:2]:\n",
    "  \n",
    "  print(\"\\nWords: %s-%s\\nGround truth score: %.2f\" % (w1, w2, score_map[(w1, w2)]))\n",
    "  \n",
    "  ss1 = wn.synset(w1 + \".n.01\")\n",
    "  ss2 = wn.synset(w2 + \".n.01\")\n",
    "\n",
    "  print(\"\\nPath: %.3f\" % ss1.path_similarity(ss2), end=\" \")\n",
    "  print(\"\\nwup: %.3f\" % ss1.wup_similarity(ss2), end=\" \")\n",
    "  print(\"\\nshortest_path: %.3f\" % ss1.shortest_path_distance(ss2))"
   ]
  },
  {
   "cell_type": "markdown",
   "metadata": {
    "colab_type": "text",
    "id": "ZHM7tCb0vqNp"
   },
   "source": [
    "Вычисляем для всех пар несколько оценок"
   ]
  },
  {
   "cell_type": "code",
   "execution_count": 7,
   "metadata": {
    "colab": {
     "base_uri": "https://localhost:8080/",
     "height": 54
    },
    "colab_type": "code",
    "executionInfo": {
     "elapsed": 2405,
     "status": "ok",
     "timestamp": 1600020239260,
     "user": {
      "displayName": "Anton Alekseev",
      "photoUrl": "https://lh3.googleusercontent.com/a-/AOh14Gj3c5faIb1FbtmpoOW4fAhquuPiaBf1d85jPrZJ-g=s64",
      "userId": "02913249699061138905"
     },
     "user_tz": -180
    },
    "id": "fe7Nuglqgnd3",
    "outputId": "1ffb3b01-d567-49d8-8e67-0849fac19aac"
   },
   "outputs": [],
   "source": [
    "from itertools import product\n",
    "\n",
    "list_pairs = list(score_map)\n",
    "wup_list, true_list, path_list = [], [], []\n",
    "\n",
    "# для всех пар\n",
    "for w1, w2 in list_pairs:\n",
    "\n",
    "  try:\n",
    "    all_w1 = wn.synsets(w1, pos=\"n\")\n",
    "    all_w2 = wn.synsets(w2, pos=\"n\")\n",
    "\n",
    "    # добавляем интересующие нас метрики и экспертные оценки\n",
    "    wup = max([item1.wup_similarity(item2) \\\n",
    "                for item1, item2 in product(all_w1, all_w2)])\n",
    "    wup_list.append(wup)\n",
    "\n",
    "    path = max([item1.path_similarity(item2) \\\n",
    "                for item1, item2 in product(all_w1, all_w2)])\n",
    "    path_list.append(path)\n",
    "    \n",
    "    true_list.append(score_map[(w1, w2)])\n",
    "\n",
    "  except Exception as e:\n",
    "    print(w1, w2, \"error:\", e)"
   ]
  },
  {
   "cell_type": "markdown",
   "metadata": {
    "colab_type": "text",
    "id": "oAjuTLB0fD-I"
   },
   "source": [
    "## Вычисляем ранговую корреляцию Спирмена"
   ]
  },
  {
   "cell_type": "code",
   "execution_count": 12,
   "metadata": {
    "colab": {
     "base_uri": "https://localhost:8080/",
     "height": 73
    },
    "colab_type": "code",
    "executionInfo": {
     "elapsed": 896,
     "status": "ok",
     "timestamp": 1600020271203,
     "user": {
      "displayName": "Anton Alekseev",
      "photoUrl": "https://lh3.googleusercontent.com/a-/AOh14Gj3c5faIb1FbtmpoOW4fAhquuPiaBf1d85jPrZJ-g=s64",
      "userId": "02913249699061138905"
     },
     "user_tz": -180
    },
    "id": "fXnCdw8wxcVd",
    "outputId": "c9e2b06c-5a27-45e8-a400-36113a3d7516"
   },
   "outputs": [
    {
     "name": "stdout",
     "output_type": "stream",
     "text": [
      "wup  Spearman R: 0.6438\n",
      "path Spearman R: 0.6176\n"
     ]
    }
   ],
   "source": [
    "from scipy.stats import spearmanr\n",
    "\n",
    "coef, p = spearmanr(wup_list, true_list)\n",
    "print(\"wup  Spearman R: %.4f\" % coef)\n",
    "\n",
    "coef, p = spearmanr(path_list, true_list)\n",
    "print(\"path Spearman R: %.4f\" % coef)\n"
   ]
  }
 ],
 "metadata": {
  "colab": {
   "authorship_tag": "ABX9TyMdSweN9al2eyjg9hAVK+U1",
   "collapsed_sections": [],
   "name": "04_лексические ресурсы.ipynb",
   "provenance": []
  },
  "kernelspec": {
   "display_name": "Python 3",
   "language": "python",
   "name": "python3"
  },
  "language_info": {
   "codemirror_mode": {
    "name": "ipython",
    "version": 3
   },
   "file_extension": ".py",
   "mimetype": "text/x-python",
   "name": "python",
   "nbconvert_exporter": "python",
   "pygments_lexer": "ipython3",
   "version": "3.7.6"
  }
 },
 "nbformat": 4,
 "nbformat_minor": 4
}
