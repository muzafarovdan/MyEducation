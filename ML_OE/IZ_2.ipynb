{
 "cells": [
  {
   "cell_type": "code",
   "execution_count": 171,
   "metadata": {},
   "outputs": [],
   "source": [
    "import pandas as pd\n",
    "import numpy as np\n",
    "from sklearn.decomposition import PCA\n",
    "from sklearn import preprocessing\n",
    "import matplotlib.pyplot as plt"
   ]
  },
  {
   "cell_type": "code",
   "execution_count": 172,
   "metadata": {},
   "outputs": [
    {
     "data": {
      "text/html": [
       "<div>\n",
       "<style scoped>\n",
       "    .dataframe tbody tr th:only-of-type {\n",
       "        vertical-align: middle;\n",
       "    }\n",
       "\n",
       "    .dataframe tbody tr th {\n",
       "        vertical-align: top;\n",
       "    }\n",
       "\n",
       "    .dataframe thead th {\n",
       "        text-align: right;\n",
       "    }\n",
       "</style>\n",
       "<table border=\"1\" class=\"dataframe\">\n",
       "  <thead>\n",
       "    <tr style=\"text-align: right;\">\n",
       "      <th></th>\n",
       "      <th>-2.519834879674048178e+00</th>\n",
       "      <th>-8.436880374357835777e+00</th>\n",
       "      <th>6.908509802678210576e+00</th>\n",
       "      <th>-5.459656120460762097e+00</th>\n",
       "      <th>8.075411111713219903e-01</th>\n",
       "      <th>6.730460275909991630e+00</th>\n",
       "      <th>-4.816083554218420382e+00</th>\n",
       "      <th>2.078924414607077864e+01</th>\n",
       "      <th>-1.597031939053514193e+01</th>\n",
       "      <th>1.153824101778837452e+01</th>\n",
       "    </tr>\n",
       "  </thead>\n",
       "  <tbody>\n",
       "    <tr>\n",
       "      <th>0</th>\n",
       "      <td>-0.939080</td>\n",
       "      <td>-9.517724</td>\n",
       "      <td>5.068608</td>\n",
       "      <td>-5.975369</td>\n",
       "      <td>-2.311275</td>\n",
       "      <td>11.211044</td>\n",
       "      <td>-3.683589</td>\n",
       "      <td>20.049591</td>\n",
       "      <td>-14.777884</td>\n",
       "      <td>10.716441</td>\n",
       "    </tr>\n",
       "    <tr>\n",
       "      <th>1</th>\n",
       "      <td>3.996932</td>\n",
       "      <td>20.484006</td>\n",
       "      <td>-13.001079</td>\n",
       "      <td>0.265866</td>\n",
       "      <td>21.042509</td>\n",
       "      <td>-20.503339</td>\n",
       "      <td>1.021815</td>\n",
       "      <td>12.317026</td>\n",
       "      <td>11.124606</td>\n",
       "      <td>-3.208932</td>\n",
       "    </tr>\n",
       "    <tr>\n",
       "      <th>2</th>\n",
       "      <td>2.374288</td>\n",
       "      <td>22.172050</td>\n",
       "      <td>-12.343866</td>\n",
       "      <td>2.290899</td>\n",
       "      <td>21.164085</td>\n",
       "      <td>-19.993777</td>\n",
       "      <td>-0.841419</td>\n",
       "      <td>13.849074</td>\n",
       "      <td>9.188879</td>\n",
       "      <td>-1.658120</td>\n",
       "    </tr>\n",
       "    <tr>\n",
       "      <th>3</th>\n",
       "      <td>10.874542</td>\n",
       "      <td>15.215994</td>\n",
       "      <td>-4.848376</td>\n",
       "      <td>-23.462558</td>\n",
       "      <td>-8.660415</td>\n",
       "      <td>19.597282</td>\n",
       "      <td>-14.492233</td>\n",
       "      <td>-4.495939</td>\n",
       "      <td>21.309876</td>\n",
       "      <td>-24.099745</td>\n",
       "    </tr>\n",
       "    <tr>\n",
       "      <th>4</th>\n",
       "      <td>-16.002620</td>\n",
       "      <td>-2.757304</td>\n",
       "      <td>-6.577881</td>\n",
       "      <td>0.143433</td>\n",
       "      <td>-7.262449</td>\n",
       "      <td>15.975614</td>\n",
       "      <td>14.164799</td>\n",
       "      <td>-13.442542</td>\n",
       "      <td>2.634193</td>\n",
       "      <td>-13.273242</td>\n",
       "    </tr>\n",
       "  </tbody>\n",
       "</table>\n",
       "</div>"
      ],
      "text/plain": [
       "   -2.519834879674048178e+00  -8.436880374357835777e+00  \\\n",
       "0                  -0.939080                  -9.517724   \n",
       "1                   3.996932                  20.484006   \n",
       "2                   2.374288                  22.172050   \n",
       "3                  10.874542                  15.215994   \n",
       "4                 -16.002620                  -2.757304   \n",
       "\n",
       "   6.908509802678210576e+00  -5.459656120460762097e+00  \\\n",
       "0                  5.068608                  -5.975369   \n",
       "1                -13.001079                   0.265866   \n",
       "2                -12.343866                   2.290899   \n",
       "3                 -4.848376                 -23.462558   \n",
       "4                 -6.577881                   0.143433   \n",
       "\n",
       "   8.075411111713219903e-01  6.730460275909991630e+00  \\\n",
       "0                 -2.311275                 11.211044   \n",
       "1                 21.042509                -20.503339   \n",
       "2                 21.164085                -19.993777   \n",
       "3                 -8.660415                 19.597282   \n",
       "4                 -7.262449                 15.975614   \n",
       "\n",
       "   -4.816083554218420382e+00  2.078924414607077864e+01  \\\n",
       "0                  -3.683589                 20.049591   \n",
       "1                   1.021815                 12.317026   \n",
       "2                  -0.841419                 13.849074   \n",
       "3                 -14.492233                 -4.495939   \n",
       "4                  14.164799                -13.442542   \n",
       "\n",
       "   -1.597031939053514193e+01  1.153824101778837452e+01  \n",
       "0                 -14.777884                 10.716441  \n",
       "1                  11.124606                 -3.208932  \n",
       "2                   9.188879                 -1.658120  \n",
       "3                  21.309876                -24.099745  \n",
       "4                   2.634193                -13.273242  "
      ]
     },
     "execution_count": 172,
     "metadata": {},
     "output_type": "execute_result"
    }
   ],
   "source": [
    "# Считываем содержимое файла в переменную data:\n",
    "df = pd.read_csv(\"/Users/muzafarov/Desktop/MyEducation/ML_OE/7_36.csv\")\n",
    " \n",
    "# Проверяем, что данные прочитаны:\n",
    "df.head(5)"
   ]
  },
  {
   "cell_type": "code",
   "execution_count": 173,
   "metadata": {},
   "outputs": [
    {
     "name": "stdout",
     "output_type": "stream",
     "text": [
      "[0.36832481 0.65825922 0.87461878 0.9450363  0.99402558 0.99580227\n",
      " 0.99719681 0.99849    0.99938502 1.        ]\n",
      "0.6582592228842896\n"
     ]
    }
   ],
   "source": [
    "pca = PCA(svd_solver='full')\n",
    "data_transformed = pca.fit_transform(df) # перевод в базис главных компонент\n",
    "explained_var = np.cumsum(pca.explained_variance_ratio_) # считаем долю обьясненной дисперсии\n",
    "components = np.arange(1, len(explained_var)+1)\n",
    "\n",
    "print(explained_var)\n",
    "print(explained_var[1])\n",
    "# получаем долю объясненной дисперсии при использовании n компонент\n",
    "# 3) Введите долю объясненной дисперсии при использовании первых двух главных компонент.\n",
    "# Ответ: 0.653, неверный"
   ]
  },
  {
   "cell_type": "code",
   "execution_count": 174,
   "metadata": {},
   "outputs": [
    {
     "data": {
      "text/plain": [
       "array([ -8.0491192 , -15.95576324])"
      ]
     },
     "execution_count": 174,
     "metadata": {},
     "output_type": "execute_result"
    }
   ],
   "source": [
    "# проекция первого обьекта на главные компоненты \n",
    "data_transformed[0,:2]"
   ]
  },
  {
   "cell_type": "code",
   "execution_count": 164,
   "metadata": {},
   "outputs": [
    {
     "data": {
      "image/png": "[encoded data removed]",
      "text/plain": [
       "<Figure size 640x480 with 1 Axes>"
      ]
     },
     "metadata": {},
     "output_type": "display_data"
    }
   ],
   "source": [
    "plt.plot(components, explained_var)\n",
    "plt.ylabel('Cumulative Explained variance')\n",
    "plt.xlabel('Principal components')\n",
    "plt.axhline(y=0.85, color='k', linestyle='--', label = '85% Explained Variance')\n",
    "plt.xticks(components)\n",
    "plt.grid();\n",
    "\n",
    "# 4) Какое минимальное количество главных компонент необходимо использовать, чтобы доля объясненной дисперсии превышала 0.85\n",
    "# Ответ: 3, верный"
   ]
  },
  {
   "cell_type": "code",
   "execution_count": 165,
   "metadata": {},
   "outputs": [
    {
     "data": {
      "image/png": "[encoded data removed]",
      "text/plain": [
       "<Figure size 640x480 with 1 Axes>"
      ]
     },
     "metadata": {},
     "output_type": "display_data"
    }
   ],
   "source": [
    "# проекция данных с использованием первых двух главных компонент\n",
    "# 5) Какое количество групп объектов можно выделить, если использовать только первые две главных компоненты?\n",
    "# ответ: 5, верный\n",
    "plt.plot(data_transformed[:,0],\n",
    "         data_transformed[:,1], 'o', color='black');"
   ]
  },
  {
   "cell_type": "code",
   "execution_count": null,
   "metadata": {},
   "outputs": [],
   "source": []
  },
  {
   "cell_type": "code",
   "execution_count": null,
   "metadata": {},
   "outputs": [],
   "source": []
  }
 ],
 "metadata": {
  "kernelspec": {
   "display_name": "ML_OE",
   "language": "python",
   "name": "python3"
  },
  "language_info": {
   "codemirror_mode": {
    "name": "ipython",
    "version": 3
   },
   "file_extension": ".py",
   "mimetype": "text/x-python",
   "name": "python",
   "nbconvert_exporter": "python",
   "pygments_lexer": "ipython3",
   "version": "3.10.4"
  },
  "orig_nbformat": 4
 },
 "nbformat": 4,
 "nbformat_minor": 2
}
