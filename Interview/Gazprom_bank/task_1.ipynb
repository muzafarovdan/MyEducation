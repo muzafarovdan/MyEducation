{
 "cells": [
  {
   "cell_type": "markdown",
   "metadata": {},
   "source": [
    "Даны две строки s и t, содержащие буквы английского алфавита и символ #, соответствующий клавише backspace. Нужно сравнить две строки с учетом backspace и вернуть True если они равны и False если они не равны.\n",
    "\n",
    "\n",
    "Примеры:\n",
    "\n",
    "Input: s = \"ab#c\", t = \"ad#c\"\n",
    "Output: True\n",
    "Explanation: Both s and t become \"ac\"\n",
    "\n",
    "Input: s = \"ab##c\", t = \"ad#c\"\n",
    "Output: False\n",
    "Explanation:  \"c\" != \"ac\""
   ]
  },
  {
   "cell_type": "code",
   "execution_count": 5,
   "metadata": {},
   "outputs": [],
   "source": [
    "s = \"ab#c\"\n",
    "t = \"ad#cc\""
   ]
  },
  {
   "cell_type": "code",
   "execution_count": 6,
   "metadata": {},
   "outputs": [
    {
     "name": "stdout",
     "output_type": "stream",
     "text": [
      "False\n"
     ]
    }
   ],
   "source": [
    "stack_s = []\n",
    "stack_t = []\n",
    "for i in range(len(s)):\n",
    "    if stack_s == [] and s[i] == '#':\n",
    "        pass\n",
    "    elif stack_s != [] and s[i] == '#':\n",
    "        stack_s.pop()\n",
    "    else:\n",
    "        stack_s.append(i)\n",
    "        \n",
    "for i in range(len(t)):\n",
    "    if stack_t == [] and t[i] == '#':\n",
    "        pass\n",
    "    elif stack_t != [] and t[i] == '#':\n",
    "        stack_t.pop()\n",
    "    else:\n",
    "        stack_t.append(i)\n",
    "if stack_s == stack_t:\n",
    "    print(True)\n",
    "else:\n",
    "    print(False)\n",
    "    "
   ]
  },
  {
   "cell_type": "code",
   "execution_count": 7,
   "metadata": {},
   "outputs": [],
   "source": [
    "def task(s,t):\n",
    "    stack_s = []\n",
    "    stack_t = []\n",
    "\n",
    "    for i in range(len(s)):\n",
    "        if stack_s == [] and s[i] == '#':\n",
    "            pass\n",
    "        elif stack_s != [] and s[i] == '#':\n",
    "            stack_s.pop()\n",
    "        else:\n",
    "            stack_s.append(i)\n",
    "        \n",
    "    for i in range(len(t)):\n",
    "        if stack_t == [] and t[i] == '#':\n",
    "            pass\n",
    "        elif stack_t != [] and t[i] == '#':\n",
    "            stack_t.pop()\n",
    "        else:\n",
    "            stack_t.append(i)\n",
    "    if stack_s == stack_t:\n",
    "        return True\n",
    "    else:\n",
    "        return False"
   ]
  },
  {
   "cell_type": "code",
   "execution_count": 9,
   "metadata": {},
   "outputs": [
    {
     "data": {
      "text/plain": [
       "True"
      ]
     },
     "execution_count": 9,
     "metadata": {},
     "output_type": "execute_result"
    }
   ],
   "source": [
    "task(\"ab#c\", \"ad#c\")"
   ]
  }
 ],
 "metadata": {
  "kernelspec": {
   "display_name": "Python 3",
   "language": "python",
   "name": "python3"
  },
  "language_info": {
   "codemirror_mode": {
    "name": "ipython",
    "version": 3
   },
   "file_extension": ".py",
   "mimetype": "text/x-python",
   "name": "python",
   "nbconvert_exporter": "python",
   "pygments_lexer": "ipython3",
   "version": "3.9.6"
  }
 },
 "nbformat": 4,
 "nbformat_minor": 2
}
