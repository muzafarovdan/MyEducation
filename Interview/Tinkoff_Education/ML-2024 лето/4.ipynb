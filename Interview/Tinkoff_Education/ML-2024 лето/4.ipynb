{
 "cells": [
  {
   "cell_type": "markdown",
   "metadata": {},
   "source": [
    "2 L\n",
    "0 0\n",
    "0 1"
   ]
  },
  {
   "cell_type": "code",
   "execution_count": 14,
   "metadata": {},
   "outputs": [
    {
     "name": "stdout",
     "output_type": "stream",
     "text": [
      "3\n",
      "0 0 1 0\n",
      "0 0 0 1\n",
      "0 0 1 1\n",
      "Матрица после поворота:\n",
      "0 0\n",
      "0 1\n"
     ]
    }
   ],
   "source": [
    "def generate_rotation_operations(matrix, direction):\n",
    "    n = len(matrix)\n",
    "    operations = []\n",
    "    \n",
    "    if direction == 'R':\n",
    "        # Поворот по часовой стрелке\n",
    "        for i in range(n // 2):\n",
    "            for j in range(i, n - i - 1):\n",
    "                # Верхний левый угол\n",
    "                operations.append(((i, j), (j, n - i - 1)))\n",
    "                # Верхний правый угол\n",
    "                operations.append(((i, j), (n - i - 1, n - j - 1)))\n",
    "                # Нижний правый угол\n",
    "                operations.append(((i, j), (n - j - 1, i)))\n",
    "    else:\n",
    "        # Поворот против часовой стрелки\n",
    "        for i in range(n // 2):\n",
    "            for j in range(i, n - i - 1):\n",
    "                # Верхний левый угол\n",
    "                operations.append(((i, j), (n - j - 1, i)))\n",
    "                # Верхний правый угол\n",
    "                operations.append(((i, j), (i, n - j - 1)))\n",
    "                # Нижний правый угол\n",
    "                operations.append(((i, j), (n - i - 1, n - j - 1)))\n",
    "    \n",
    "    return operations\n",
    "\n",
    "# Функция для чтения входных данных\n",
    "def read_input():\n",
    "    n, direction = input().split()\n",
    "    n = int(n)\n",
    "    matrix = [list(map(int, input().split())) for _ in range(n)]\n",
    "    return n, direction, matrix\n",
    "\n",
    "# Функция для вывода результата\n",
    "def print_output(operations):\n",
    "    print(len(operations))\n",
    "    for op in operations:\n",
    "        print(f\"{op[0][0]} {op[0][1]} {op[1][0]} {op[1][1]}\")\n",
    "\n",
    "# Основная функция\n",
    "def main():\n",
    "    n, direction, matrix = read_input()\n",
    "    operations = generate_rotation_operations(matrix, direction)\n",
    "    print_output(operations)\n",
    "\n",
    "    # Добавим вывод самой матрицы после поворота для наглядности\n",
    "    print(\"Матрица после поворота:\")\n",
    "    for row in matrix:\n",
    "        print(\" \".join(map(str, row)))\n",
    "\n",
    "# Вызов основной функции\n",
    "if __name__ == \"__main__\":\n",
    "    main()\n"
   ]
  }
 ],
 "metadata": {
  "kernelspec": {
   "display_name": "Python 3",
   "language": "python",
   "name": "python3"
  },
  "language_info": {
   "codemirror_mode": {
    "name": "ipython",
    "version": 3
   },
   "file_extension": ".py",
   "mimetype": "text/x-python",
   "name": "python",
   "nbconvert_exporter": "python",
   "pygments_lexer": "ipython3",
   "version": "3.9.6"
  }
 },
 "nbformat": 4,
 "nbformat_minor": 2
}
