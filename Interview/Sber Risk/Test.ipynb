{
 "cells": [
  {
   "cell_type": "code",
   "execution_count": 281,
   "metadata": {},
   "outputs": [],
   "source": [
    "data_dict = {'a': [1, [2, 5, 4], [5, 6, 7]], 'b': [{'c':8, 'd':9}, {'e':3, 'f':4}, 8]}"
   ]
  },
  {
   "cell_type": "code",
   "execution_count": 282,
   "metadata": {},
   "outputs": [],
   "source": [
    "def deepest_level(data):\n",
    "        if isinstance(data, dict):\n",
    "            return max([deepest_level(value) for value in data.values()], default=0) \n",
    "        elif isinstance(data, list):\n",
    "            return max([deepest_level(item) for item in data], default=0) + 1\n",
    "        else:\n",
    "            return 1"
   ]
  },
  {
   "cell_type": "code",
   "execution_count": 283,
   "metadata": {},
   "outputs": [
    {
     "data": {
      "text/plain": [
       "3"
      ]
     },
     "execution_count": 283,
     "metadata": {},
     "output_type": "execute_result"
    }
   ],
   "source": [
    "r = deepest_level(data_dict)\n",
    "r"
   ]
  },
  {
   "cell_type": "markdown",
   "metadata": {},
   "source": [
    "## Листья самого глубокого уровня"
   ]
  },
  {
   "cell_type": "code",
   "execution_count": 284,
   "metadata": {},
   "outputs": [
    {
     "name": "stdout",
     "output_type": "stream",
     "text": [
      "[2, 5, 4, 5, 6, 7, 8, 9, 3, 4]\n",
      "3\n"
     ]
    }
   ],
   "source": [
    "def deepest_leaves(data):\n",
    "    def recurse(data, current_level=1):\n",
    "        leaves = []\n",
    "        if isinstance(data, dict):\n",
    "            for value in data.values():\n",
    "                leaves.extend(recurse(value, current_level + 1))\n",
    "        elif isinstance(data, list):\n",
    "            for item in data:\n",
    "                leaves.extend(recurse(item, current_level + 1))\n",
    "        else:\n",
    "            if current_level == deepest_level:\n",
    "                leaves.append(data)\n",
    "        return leaves\n",
    "\n",
    "    # Определяем самый глубокий уровень в дереве\n",
    "    def deepest_level(data):\n",
    "        if isinstance(data, dict):\n",
    "            return max([deepest_level(value) for value in data.values()], default=0) + 1\n",
    "        elif isinstance(data, list):\n",
    "            return max([deepest_level(item) for item in data], default=0) + 1\n",
    "        else:\n",
    "            return 1\n",
    "\n",
    "    # Считаем самый глубокий уровень\n",
    "    deepest_level = deepest_level(data)\n",
    "\n",
    "    # Находим листья самого глубокого уровня\n",
    "    deepest_leaves = recurse(data)\n",
    "\n",
    "    return deepest_leaves\n",
    "\n",
    "data_dict = {'a': [1, [2, 5, 4], [5, 6, 7]], 'b': [{'c':8, 'd':9}, {'e':3, 'f':4}, 8]}\n",
    "print(deepest_leaves(data_dict))\n",
    "print(deepest_level(data_dict))\n"
   ]
  },
  {
   "cell_type": "code",
   "execution_count": 309,
   "metadata": {},
   "outputs": [
    {
     "name": "stdout",
     "output_type": "stream",
     "text": [
      "{'a': [1, 11, 18], 'b': [17, 7, 8]}\n"
     ]
    }
   ],
   "source": [
    "# Определяем самый глубокий уровень в дереве\n",
    "def deepest_level(data):\n",
    "    if isinstance(data, dict):\n",
    "        return max([deepest_level(value) for value in data.values()], default=0) + 1\n",
    "    elif isinstance(data, list):\n",
    "        return max([deepest_level(item) for item in data], default=0)\n",
    "    else:\n",
    "        return 1\n",
    "\n",
    "\n",
    "# Функция при глубине 3\n",
    "def sum_3(data):\n",
    "    for key, value in data.items():\n",
    "        for m in range(len(value)):\n",
    "            if isinstance(value[m], list):\n",
    "                value[m] = sum(value[m])\n",
    "            elif isinstance(value[m], dict):\n",
    "                value[m] = sum(value[m].values())\n",
    "    return data\n",
    "\n",
    "# Функция при глубине 2\n",
    "def sum_2(data):\n",
    "    for key, value in data.items():\n",
    "        if isinstance(value, list):\n",
    "            data[key] = sum(value)\n",
    "        elif isinstance(value, dict):\n",
    "            data[key] = sum(value.values())\n",
    "    return data\n",
    "\n",
    "# Функция при глубине 2 и когда уже всё\n",
    "def sum_1(data):\n",
    "    keys_sum = sum(data.values())\n",
    "    return keys_sum\n",
    "\n",
    "data_dict = {'a': [1, [2, 5, 4], [5, 6, 7]], 'b': [{'c':8, 'd':9}, {'e':3, 'f':4}, 8]}\n",
    "\n",
    "def foward(data):\n",
    "    deepest_level_res = deepest_level(data)\n",
    "    if deepest_level_res == 3:\n",
    "        data = sum_3(data)  \n",
    "    elif (deepest_level_res == 2) and (len(data) != len(data.values())):\n",
    "        data = sum_2(data)\n",
    "    elif (deepest_level_res == 2) and (len(data) == len(data.values())):\n",
    "        data = sum_1(data)\n",
    "    elif (deepest_level_res == 1)\n",
    "        pass\n",
    "    return data"
   ]
  },
  {
   "cell_type": "code",
   "execution_count": 316,
   "metadata": {},
   "outputs": [
    {
     "ename": "TypeError",
     "evalue": "unsupported operand type(s) for +: 'int' and 'list'",
     "output_type": "error",
     "traceback": [
      "\u001b[0;31m---------------------------------------------------------------------------\u001b[0m",
      "\u001b[0;31mTypeError\u001b[0m                                 Traceback (most recent call last)",
      "Cell \u001b[0;32mIn[316], line 8\u001b[0m\n\u001b[1;32m      5\u001b[0m data_fest \u001b[38;5;241m=\u001b[39m {\u001b[38;5;124m'\u001b[39m\u001b[38;5;124ma\u001b[39m\u001b[38;5;124m'\u001b[39m: [\u001b[38;5;241m30\u001b[39m,\u001b[38;5;241m23\u001b[39m], \u001b[38;5;124m'\u001b[39m\u001b[38;5;124mb\u001b[39m\u001b[38;5;124m'\u001b[39m: \u001b[38;5;241m32\u001b[39m}\n\u001b[1;32m      7\u001b[0m \u001b[38;5;28;01mif\u001b[39;00m \u001b[38;5;28mlen\u001b[39m(data_fest) \u001b[38;5;241m==\u001b[39m \u001b[38;5;28mlen\u001b[39m(data_fest\u001b[38;5;241m.\u001b[39mvalues()):\n\u001b[0;32m----> 8\u001b[0m     data \u001b[38;5;241m=\u001b[39m \u001b[43msum_1\u001b[49m\u001b[43m(\u001b[49m\u001b[43mdata_fest\u001b[49m\u001b[43m)\u001b[49m\n\u001b[1;32m      9\u001b[0m \u001b[38;5;28;01melse\u001b[39;00m:\n\u001b[1;32m     10\u001b[0m     data \u001b[38;5;241m=\u001b[39m data_fest\n",
      "Cell \u001b[0;32mIn[316], line 2\u001b[0m, in \u001b[0;36msum_1\u001b[0;34m(data)\u001b[0m\n\u001b[1;32m      1\u001b[0m \u001b[38;5;28;01mdef\u001b[39;00m \u001b[38;5;21msum_1\u001b[39m(data):\n\u001b[0;32m----> 2\u001b[0m     keys_sum \u001b[38;5;241m=\u001b[39m \u001b[38;5;28;43msum\u001b[39;49m\u001b[43m(\u001b[49m\u001b[43mdata\u001b[49m\u001b[38;5;241;43m.\u001b[39;49m\u001b[43mvalues\u001b[49m\u001b[43m(\u001b[49m\u001b[43m)\u001b[49m\u001b[43m)\u001b[49m\n\u001b[1;32m      3\u001b[0m     \u001b[38;5;28;01mreturn\u001b[39;00m keys_sum\n",
      "\u001b[0;31mTypeError\u001b[0m: unsupported operand type(s) for +: 'int' and 'list'"
     ]
    }
   ],
   "source": [
    "def sum_1(data):\n",
    "    keys_sum = sum(data.values())\n",
    "    return keys_sum\n",
    "\n",
    "data_fest = {'a': [30,23], 'b': 32}\n",
    "\n",
    "if len(data_fest) == len(data_fest.values()):\n",
    "    data = sum_1(data_fest)\n",
    "else:\n",
    "    data = data_fest\n",
    "\n",
    "print(data)\n"
   ]
  },
  {
   "cell_type": "code",
   "execution_count": null,
   "metadata": {},
   "outputs": [
    {
     "ename": "TypeError",
     "evalue": "'int' object is not callable",
     "output_type": "error",
     "traceback": [
      "\u001b[0;31m---------------------------------------------------------------------------\u001b[0m",
      "\u001b[0;31mTypeError\u001b[0m                                 Traceback (most recent call last)",
      "Cell \u001b[0;32mIn[270], line 3\u001b[0m\n\u001b[1;32m      1\u001b[0m data_dict \u001b[38;5;241m=\u001b[39m {\u001b[38;5;124m'\u001b[39m\u001b[38;5;124ma\u001b[39m\u001b[38;5;124m'\u001b[39m: [\u001b[38;5;241m1\u001b[39m, [\u001b[38;5;241m2\u001b[39m, \u001b[38;5;241m5\u001b[39m, \u001b[38;5;241m4\u001b[39m], [\u001b[38;5;241m5\u001b[39m, \u001b[38;5;241m6\u001b[39m, \u001b[38;5;241m7\u001b[39m]], \u001b[38;5;124m'\u001b[39m\u001b[38;5;124mb\u001b[39m\u001b[38;5;124m'\u001b[39m: [{\u001b[38;5;124m'\u001b[39m\u001b[38;5;124mc\u001b[39m\u001b[38;5;124m'\u001b[39m:\u001b[38;5;241m8\u001b[39m, \u001b[38;5;124m'\u001b[39m\u001b[38;5;124md\u001b[39m\u001b[38;5;124m'\u001b[39m:\u001b[38;5;241m9\u001b[39m}, {\u001b[38;5;124m'\u001b[39m\u001b[38;5;124me\u001b[39m\u001b[38;5;124m'\u001b[39m:\u001b[38;5;241m3\u001b[39m, \u001b[38;5;124m'\u001b[39m\u001b[38;5;124mf\u001b[39m\u001b[38;5;124m'\u001b[39m:\u001b[38;5;241m4\u001b[39m}, \u001b[38;5;241m8\u001b[39m]}\n\u001b[0;32m----> 3\u001b[0m deepest_level \u001b[38;5;241m=\u001b[39m \u001b[43mdeepest_level\u001b[49m\u001b[43m(\u001b[49m\u001b[43mdata_dict\u001b[49m\u001b[43m)\u001b[49m\n\u001b[1;32m      4\u001b[0m \u001b[38;5;28;01mif\u001b[39;00m deepest_level \u001b[38;5;241m==\u001b[39m \u001b[38;5;241m3\u001b[39m:\n\u001b[1;32m      5\u001b[0m     data \u001b[38;5;241m=\u001b[39m sum_3(data_dict)  \n",
      "\u001b[0;31mTypeError\u001b[0m: 'int' object is not callable"
     ]
    }
   ],
   "source": [
    "data_dict = {'a': [1, [2, 5, 4], [5, 6, 7]], 'b': [{'c':8, 'd':9}, {'e':3, 'f':4}, 8]}\n",
    "\n",
    "deepest_level = deepest_level(data_dict)\n",
    "if deepest_level == 3:\n",
    "    data = sum_3(data_dict)  \n",
    "data\n"
   ]
  },
  {
   "cell_type": "code",
   "execution_count": null,
   "metadata": {},
   "outputs": [
    {
     "data": {
      "text/plain": [
       "3"
      ]
     },
     "execution_count": 250,
     "metadata": {},
     "output_type": "execute_result"
    }
   ],
   "source": [
    "data_dict = {'a': [1, [2, [3,2], 4], [5, 6, 7]], 'b': [{'c':8, 'd':9}, {'e':3, 'f':4}, 8]}\n",
    "data_dict['a'][1][1][0]"
   ]
  },
  {
   "cell_type": "code",
   "execution_count": null,
   "metadata": {},
   "outputs": [],
   "source": [
    "def sum(data):\n",
    "    for key, value in data.items():\n",
    "        if len(value) > 0:\n",
    "            for m in range(len(value)):\n",
    "                if isinstance(value[m], list):\n",
    "                    value[m] = sum(value[m])\n",
    "                elif isinstance(value[m], dict):\n",
    "                    value[m] = sum(value[m].values())\n",
    "    data"
   ]
  },
  {
   "cell_type": "code",
   "execution_count": null,
   "metadata": {},
   "outputs": [
    {
     "name": "stdout",
     "output_type": "stream",
     "text": [
      "[]\n"
     ]
    }
   ],
   "source": [
    "def deepest_leaves(data):\n",
    "    def recurse(data, path=[]):\n",
    "        leaves = []\n",
    "        if isinstance(data, dict):\n",
    "            for key, value in data.items():\n",
    "                leaves.extend(recurse(value, path + [key]))\n",
    "        elif isinstance(data, list):\n",
    "            for i, item in enumerate(data):\n",
    "                leaves.extend(recurse(item, path + [i]))\n",
    "        else:\n",
    "            if len(path) == deepest_level:\n",
    "                leaves.append((data, path))\n",
    "        return leaves\n",
    "\n",
    "    # Определяем самый глубокий уровень в дереве\n",
    "    def deepest_level(data):\n",
    "        if isinstance(data, dict):\n",
    "            return max([deepest_level(value) for value in data.values()], default=0) + 1\n",
    "        elif isinstance(data, list):\n",
    "            return max([deepest_level(item) for item in data], default=0) + 1\n",
    "        else:\n",
    "            return 1\n",
    "\n",
    "    # Считаем самый глубокий уровень\n",
    "    deepest_level = deepest_level(data)\n",
    "\n",
    "    # Находим листья самого глубокого уровня\n",
    "    deepest_leaves = recurse(data)\n",
    "\n",
    "    return deepest_leaves\n",
    "\n",
    "data_dict = {'a': [1, [2, 5, 4], [5, 6, 7]], 'b': [{'c':8, 'd':9}, {'e':3, 'f':4}, 8]}\n",
    "print(deepest_leaves(data_dict))\n"
   ]
  },
  {
   "cell_type": "code",
   "execution_count": null,
   "metadata": {},
   "outputs": [
    {
     "name": "stdout",
     "output_type": "stream",
     "text": [
      "{'a': [1, [2, [3, 2], 4], [5, 6, 7]], 'b': [{'c': 8, 'd': 9}, {'e': 3, 'f': 4}, 8]}\n"
     ]
    }
   ],
   "source": [
    "def conv(data):\n",
    "    def func(inner):  \n",
    "        for key, value in data.items():\n",
    "            if isinstance(i, (list, dict)):\n",
    "                return func(i)\n",
    "        return inner\n",
    "            \n",
    "    return func(data)\n",
    "\n",
    "data_dict = {'a': [1, [2, [3, 2], 4], [5, 6, 7]], 'b': [{'c':8, 'd':9}, {'e':3, 'f':4}, 8]}\n",
    "print(conv(data_dict))\n"
   ]
  },
  {
   "cell_type": "code",
   "execution_count": null,
   "metadata": {},
   "outputs": [
    {
     "data": {
      "text/plain": [
       "{'a': [1, 9, 18], 'b': [17, 7, 8]}"
      ]
     },
     "execution_count": 104,
     "metadata": {},
     "output_type": "execute_result"
    }
   ],
   "source": [
    "for key, value in baza.items():\n",
    "    if len(value) > 0:\n",
    "        for m in range(len(value)):\n",
    "            if isinstance(value[m], list):\n",
    "                value[m] = sum(value[m])\n",
    "            elif isinstance(value[m], dict):\n",
    "                value[m] = sum(value[m].values())\n",
    "baza"
   ]
  },
  {
   "cell_type": "code",
   "execution_count": null,
   "metadata": {},
   "outputs": [
    {
     "name": "stdout",
     "output_type": "stream",
     "text": [
      "a\n",
      "    1\n",
      "      2\n",
      "        3\n",
      "        2\n",
      "      4\n",
      "      5\n",
      "      6\n",
      "      7\n",
      "b\n",
      "    c\n",
      "      8\n",
      "    d\n",
      "      9\n",
      "    e\n",
      "      3\n",
      "    f\n",
      "      4\n",
      "    8\n"
     ]
    }
   ],
   "source": [
    "def print_tree(data, indent=0):\n",
    "    if isinstance(data, dict):\n",
    "        for key, value in data.items():\n",
    "            print(\"  \" * indent + str(key))\n",
    "            print_tree(value, indent + 1)\n",
    "    elif isinstance(data, list):\n",
    "        for item in data:\n",
    "            print_tree(item, indent + 1)\n",
    "    else:\n",
    "        print(\"  \" * indent + str(data))\n",
    "\n",
    "data_dict = {'a': [1, [2, [3, 2], 4], [5, 6, 7]], 'b': [{'c':8, 'd':9}, {'e':3, 'f':4}, 8]}\n",
    "print_tree(data_dict)\n"
   ]
  },
  {
   "cell_type": "code",
   "execution_count": null,
   "metadata": {},
   "outputs": [
    {
     "data": {
      "text/plain": [
       "[17, 7, 8]"
      ]
     },
     "execution_count": 31,
     "metadata": {},
     "output_type": "execute_result"
    }
   ],
   "source": [
    "value = [{'c': 8, 'd': 9}, {'e': 3, 'f': 4}, 8]\n",
    "for m in range(len(value)):\n",
    "            if isinstance(value[m], list):\n",
    "                value[m] = sum(value[m])\n",
    "            elif isinstance(value[m], dict):\n",
    "                value[m] = sum(value[m].values())\n",
    "value"
   ]
  },
  {
   "cell_type": "code",
   "execution_count": null,
   "metadata": {},
   "outputs": [
    {
     "name": "stdout",
     "output_type": "stream",
     "text": [
      "{'a': [1, [2, 3, 4], [5, 6, 7]], 'b': [{'c': 8, 'd': 9}, {'e': 3, 'f': 4}, 8]}\n",
      "60\n",
      "60\n",
      "60\n"
     ]
    }
   ],
   "source": [
    "import numpy as np\n",
    "\n",
    "def fold_tree(data, func):\n",
    "    if isinstance(data, dict):\n",
    "        # Применяем функцию к каждому значению в словаре\n",
    "        return {k: fold_tree(v, func) for k, v in data.items()}\n",
    "    elif isinstance(data, list):\n",
    "        # Применяем функцию к каждому элементу в списке\n",
    "        return [fold_tree(v, func) for v in data]\n",
    "    elif isinstance(data, np.ndarray):\n",
    "        # Преобразуем массив в список и применяем функцию\n",
    "        return func(data.tolist())\n",
    "    elif isinstance(data, int):\n",
    "        # Возвращаем значение как есть\n",
    "        return data\n",
    "    else:\n",
    "        # Если элемент не является скаляром, списком или словарем, возвращаем его без изменений\n",
    "        return data\n",
    "\n",
    "def apply_fold(data):\n",
    "    if isinstance(data, dict):\n",
    "        # Суммируем значения в словаре\n",
    "        return sum(apply_fold(v) for v in data.values())\n",
    "    elif isinstance(data, list):\n",
    "        # Суммируем значения в списке\n",
    "        return sum(apply_fold(v) for v in data)\n",
    "    elif isinstance(data, int):\n",
    "        # Возвращаем значение как есть\n",
    "        return data\n",
    "    else:\n",
    "        # Если элемент не является скаляром, списком или словарем, возвращаем его без изменений\n",
    "        return data\n",
    "\n",
    "# Тестирование функции\n",
    "data = {\"a\": [1, [2, 3, 4], [5, 6, 7]], \"b\": [{\"c\": 8, \"d\": 9}, {\"e\": 3, \"f\": 4}, 8]}\n",
    "\n",
    "# Первое применение\n",
    "data = fold_tree(data, sum)\n",
    "print(data) # Вывод: {'a': [1, 9, 18], 'b': [17, 7, 8]}\n",
    "\n",
    "# Второе применение\n",
    "data = apply_fold(data)\n",
    "print(data) # Вывод: {'a': 28, 'b': 32}\n",
    "\n",
    "# Третье применение\n",
    "data = apply_fold(data)\n",
    "print(data) # Вывод: 60\n",
    "\n",
    "# Четвертое применение\n",
    "data = apply_fold(data)\n",
    "print(data) # Вывод: 60"
   ]
  }
 ],
 "metadata": {
  "kernelspec": {
   "display_name": "ML_OE",
   "language": "python",
   "name": "python3"
  },
  "language_info": {
   "codemirror_mode": {
    "name": "ipython",
    "version": 3
   },
   "file_extension": ".py",
   "mimetype": "text/x-python",
   "name": "python",
   "nbconvert_exporter": "python",
   "pygments_lexer": "ipython3",
   "version": "3.9.18"
  }
 },
 "nbformat": 4,
 "nbformat_minor": 2
}
